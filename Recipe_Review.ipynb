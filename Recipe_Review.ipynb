{
  "nbformat": 4,
  "nbformat_minor": 0,
  "metadata": {
    "colab": {
      "provenance": [],
      "authorship_tag": "ABX9TyOokGNhwtGJAsqGSwqeNMAY",
      "include_colab_link": true
    },
    "kernelspec": {
      "name": "python3",
      "display_name": "Python 3"
    },
    "language_info": {
      "name": "python"
    }
  },
  "cells": [
    {
      "cell_type": "markdown",
      "metadata": {
        "id": "view-in-github",
        "colab_type": "text"
      },
      "source": [
        "<a href=\"https://colab.research.google.com/github/MatthewK84/Python-Code/blob/main/Recipe_Review.ipynb\" target=\"_parent\"><img src=\"https://colab.research.google.com/assets/colab-badge.svg\" alt=\"Open In Colab\"/></a>"
      ]
    },
    {
      "cell_type": "code",
      "execution_count": 1,
      "metadata": {
        "colab": {
          "base_uri": "https://localhost:8080/"
        },
        "id": "j2tmFko1t_WX",
        "outputId": "d9be26d2-ae89-4a79-ccdf-e7d97c3269ef"
      },
      "outputs": [
        {
          "output_type": "stream",
          "name": "stdout",
          "text": [
            "Collecting ucimlrepo\n",
            "  Downloading ucimlrepo-0.0.6-py3-none-any.whl (8.0 kB)\n",
            "Installing collected packages: ucimlrepo\n",
            "Successfully installed ucimlrepo-0.0.6\n"
          ]
        }
      ],
      "source": [
        "pip install ucimlrepo"
      ]
    },
    {
      "cell_type": "code",
      "source": [
        "from ucimlrepo import fetch_ucirepo\n",
        "\n",
        "# fetch dataset\n",
        "recipe_reviews_and_user_feedback = fetch_ucirepo(id=911)\n",
        "\n",
        "# data (as pandas dataframes)\n",
        "X = recipe_reviews_and_user_feedback.data.features\n",
        "y = recipe_reviews_and_user_feedback.data.targets\n",
        "\n",
        "# metadata\n",
        "print(recipe_reviews_and_user_feedback.metadata)\n",
        "\n",
        "# variable information\n",
        "print(recipe_reviews_and_user_feedback.variables)\n"
      ],
      "metadata": {
        "id": "B_CDQ96kuAFa"
      },
      "execution_count": null,
      "outputs": []
    }
  ]
}