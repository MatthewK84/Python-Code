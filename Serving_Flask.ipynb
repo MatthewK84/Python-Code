{
  "nbformat": 4,
  "nbformat_minor": 0,
  "metadata": {
    "colab": {
      "provenance": [],
      "authorship_tag": "ABX9TyMEt0Sxb+Ki1IncAwVfteym",
      "include_colab_link": true
    },
    "kernelspec": {
      "name": "python3",
      "display_name": "Python 3"
    },
    "language_info": {
      "name": "python"
    }
  },
  "cells": [
    {
      "cell_type": "markdown",
      "metadata": {
        "id": "view-in-github",
        "colab_type": "text"
      },
      "source": [
        "<a href=\"https://colab.research.google.com/github/MatthewK84/Python-Code/blob/main/Serving_Flask.ipynb\" target=\"_parent\"><img src=\"https://colab.research.google.com/assets/colab-badge.svg\" alt=\"Open In Colab\"/></a>"
      ]
    },
    {
      "cell_type": "code",
      "execution_count": null,
      "metadata": {
        "id": "80mpE-SerO9P"
      },
      "outputs": [],
      "source": [
        "!pip install Flask\n",
        "!pip install flask_marshmallow\n",
        "!pip install marshmallow-sqlalchemy\n",
        "!pip install SQLAlchemy\n",
        "!pip install jsonify\n",
        "!pip install Flask-SQLAlchemy\n",
        "!pip install app"
      ]
    },
    {
      "cell_type": "code",
      "source": [
        "from flask import Flask, request, jsonify\n",
        "from flask_sqlalchemy import SQLAlchemy\n",
        "from flask_marshmallow import Marshmallow\n",
        "from flask_marshmallow.fields import fields\n",
        "\n",
        "# Initialize Flask App\n",
        "app = Flask(__name__)\n",
        "\n",
        "# Configure the Database URI\n",
        "app.config['SQLALCHEMY_DATABASE_URI'] = 'sqlite:///notes.db'\n",
        "app.config['SQLALCHEMY_TRACK_MODIFICATIONS'] = False\n",
        "\n",
        "# Initialize SQLAlchemy with Flask App\n",
        "db = SQLAlchemy(app)\n",
        "\n",
        "# Define the Note model\n",
        "class Note(db.Model):\n",
        "    __tablename__ = 'note'\n",
        "    __table_args__ = {'extend_existing': True}\n",
        "    id = db.Column(db.Integer, primary_key=True)\n",
        "    title = db.Column(db.String(100), nullable=False)\n",
        "    content = db.Column(db.Text, nullable=False)\n",
        "\n",
        "    def __init__(self, title, content):\n",
        "        self.title = title\n",
        "        self.content = content\n",
        "\n",
        "if __name__ == '__main__':\n",
        "    with app.app_context():\n",
        "        db.create_all()\n",
        "    app.run(debug=True)"
      ],
      "metadata": {
        "colab": {
          "base_uri": "https://localhost:8080/"
        },
        "id": "fc9qJ9OmrZAN",
        "outputId": "7a421d74-b84b-452e-c305-650ebe7374c6"
      },
      "execution_count": 2,
      "outputs": [
        {
          "output_type": "stream",
          "name": "stdout",
          "text": [
            " * Serving Flask app '__main__'\n",
            " * Debug mode: on\n"
          ]
        },
        {
          "output_type": "stream",
          "name": "stderr",
          "text": [
            "INFO:werkzeug:\u001b[31m\u001b[1mWARNING: This is a development server. Do not use it in a production deployment. Use a production WSGI server instead.\u001b[0m\n",
            " * Running on http://127.0.0.1:5000\n",
            "INFO:werkzeug:\u001b[33mPress CTRL+C to quit\u001b[0m\n",
            "INFO:werkzeug: * Restarting with stat\n"
          ]
        }
      ]
    },
    {
      "cell_type": "markdown",
      "source": [
        "* Serving Flask app '__main__': This indicates that the Flask application is being served, and __main__ refers to the fact that you're running the application directly (i.e., by executing the Python script containing your app).\n",
        "\n",
        "* Debug mode: on: This shows that the Flask application is running in debug mode. Debug mode provides a more detailed error log and enables the reloader. In debug mode, the server will automatically reload if you make changes to the code.\n",
        "\n",
        "WARNING: This is a development server. Do not use it in a production deployment.: Flask includes a built-in server, which is convenient for development, but it's not designed for production use. For a production environment, you should use a more robust WSGI server like Gunicorn or uWSGI.\n",
        "\n",
        "* Running on http://127.0.0.1:5000: This is the URL where your Flask application can be accessed while it's running. 127.0.0.1 is the localhost address, and 5000 is the default port for Flask apps. You can visit this URL in your web browser to interact with your application.\n",
        "\n",
        "* Restarting with stat: When running in debug mode, Flask uses a reloader that will restart the server whenever it detects a change in the code. This message indicates that the reloader is active.\n",
        "\n",
        "If you see these messages, it means your Flask app is running correctly. You can now visit http://127.0.0.1:5000 in your browser to access your application. Remember that if you make changes to your Python code, the server will automatically restart to apply these changes, thanks to the debug mode."
      ],
      "metadata": {
        "id": "ik8Wjv0RroQW"
      }
    }
  ]
}