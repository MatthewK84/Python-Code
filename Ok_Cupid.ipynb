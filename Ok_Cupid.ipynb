{
  "cells": [
    {
      "cell_type": "markdown",
      "metadata": {
        "id": "view-in-github",
        "colab_type": "text"
      },
      "source": [
        "<a href=\"https://colab.research.google.com/github/MatthewK84/Python-Code/blob/main/Ok_Cupid.ipynb\" target=\"_parent\"><img src=\"https://colab.research.google.com/assets/colab-badge.svg\" alt=\"Open In Colab\"/></a>"
      ]
    },
    {
      "cell_type": "code",
      "execution_count": 1,
      "id": "734ade3f",
      "metadata": {
        "id": "734ade3f"
      },
      "outputs": [],
      "source": [
        "import os\n",
        "import pandas as pd\n",
        "import numpy as np\n",
        "import matplotlib.pyplot as plt\n",
        "import seaborn as sns\n",
        "import statsmodels.api as sm\n",
        "sns.set(rc={'figure.figsize':(16,10)})\n",
        "from sklearn.model_selection import train_test_split\n",
        "from sklearn.preprocessing import MinMaxScaler\n",
        "from sklearn.linear_model import LinearRegression\n",
        "from sklearn.feature_selection import RFE\n",
        "from statsmodels.stats.outliers_influence import variance_inflation_factor\n",
        "from sklearn.metrics import r2_score, mean_squared_error\n",
        "\n",
        "from sklearn.model_selection import train_test_split\n",
        "from sklearn.preprocessing import StandardScaler\n",
        "from sklearn.linear_model import LogisticRegression"
      ]
    },
    {
      "cell_type": "code",
      "source": [
        "df = pd.read_csv(\"okcupid_profiles.csv\")\n",
        "print(df.head())"
      ],
      "metadata": {
        "colab": {
          "base_uri": "https://localhost:8080/"
        },
        "id": "YXyJTYhWmhm7",
        "outputId": "a3178a0c-cf22-4ec0-d6f6-f5736ca2f3a7"
      },
      "id": "YXyJTYhWmhm7",
      "execution_count": 3,
      "outputs": [
        {
          "output_type": "stream",
          "name": "stdout",
          "text": [
            "   age     status sex orientation       body_type               diet  \\\n",
            "0   22     single   m    straight  a little extra  strictly anything   \n",
            "1   35     single   m    straight         average       mostly other   \n",
            "2   38  available   m    straight            thin           anything   \n",
            "3   23     single   m    straight            thin         vegetarian   \n",
            "4   29     single   m    straight        athletic                NaN   \n",
            "\n",
            "     drinks      drugs                          education  \\\n",
            "0  socially      never      working on college/university   \n",
            "1     often  sometimes              working on space camp   \n",
            "2  socially        NaN     graduated from masters program   \n",
            "3  socially        NaN      working on college/university   \n",
            "4  socially      never  graduated from college/university   \n",
            "\n",
            "             ethnicity  ...  \\\n",
            "0         asian, white  ...   \n",
            "1                white  ...   \n",
            "2                  NaN  ...   \n",
            "3                white  ...   \n",
            "4  asian, black, other  ...   \n",
            "\n",
            "                                              essay0  \\\n",
            "0  about me:  i would love to think that i was so...   \n",
            "1  i am a chef: this is what that means. 1. i am ...   \n",
            "2  i'm not ashamed of much, but writing public te...   \n",
            "3          i work in a library and go to school. . .   \n",
            "4  hey how's it going? currently vague on the pro...   \n",
            "\n",
            "                                              essay1  \\\n",
            "0  currently working as an international agent fo...   \n",
            "1  dedicating everyday to being an unbelievable b...   \n",
            "2  i make nerdy software for musicians, artists, ...   \n",
            "3          reading things written by old dead people   \n",
            "4                         work work work work + play   \n",
            "\n",
            "                                              essay2  \\\n",
            "0  making people laugh. ranting about a good salt...   \n",
            "1  being silly. having ridiculous amonts of fun w...   \n",
            "2  improvising in different contexts. alternating...   \n",
            "3  playing synthesizers and organizing books acco...   \n",
            "4  creating imagery to look at: http://bagsbrown....   \n",
            "\n",
            "                                              essay3  \\\n",
            "0  the way i look. i am a six foot half asian, ha...   \n",
            "1                                                NaN   \n",
            "2  my large jaw and large glasses are the physica...   \n",
            "3                  socially awkward but i do my best   \n",
            "4            i smile a lot and my inquisitive nature   \n",
            "\n",
            "                                              essay4  \\\n",
            "0  books: absurdistan, the republic, of mice and ...   \n",
            "1  i am die hard christopher moore fan. i don't r...   \n",
            "2  okay this is where the cultural matrix gets so...   \n",
            "3  bataille, celine, beckett. . . lynch, jarmusch...   \n",
            "4  music: bands, rappers, musicians at the moment...   \n",
            "\n",
            "                                              essay5  \\\n",
            "0                  food. water. cell phone. shelter.   \n",
            "1  delicious porkness in all of its glories. my b...   \n",
            "2  movement conversation creation contemplation t...   \n",
            "3                                                NaN   \n",
            "4                                                NaN   \n",
            "\n",
            "                        essay6  \\\n",
            "0  duality and humorous things   \n",
            "1                          NaN   \n",
            "2                          NaN   \n",
            "3   cats and german philosophy   \n",
            "4                          NaN   \n",
            "\n",
            "                                              essay7  \\\n",
            "0  trying to find someone to hang out with. i am ...   \n",
            "1                                                NaN   \n",
            "2  viewing. listening. dancing. talking. drinking...   \n",
            "3                                                NaN   \n",
            "4                                                NaN   \n",
            "\n",
            "                                              essay8  \\\n",
            "0  i am new to california and looking for someone...   \n",
            "1  i am very open and will share just about anyth...   \n",
            "2  when i was five years old, i was known as \"the...   \n",
            "3                                                NaN   \n",
            "4                                                NaN   \n",
            "\n",
            "                                              essay9  \n",
            "0  you want to be swept off your feet! you are ti...  \n",
            "1                                                NaN  \n",
            "2  you are bright, open, intense, silly, ironic, ...  \n",
            "3                              you feel so inclined.  \n",
            "4                                                NaN  \n",
            "\n",
            "[5 rows x 31 columns]\n"
          ]
        }
      ]
    },
    {
      "cell_type": "code",
      "execution_count": 4,
      "id": "0aebcbf5",
      "metadata": {
        "colab": {
          "base_uri": "https://localhost:8080/"
        },
        "id": "0aebcbf5",
        "outputId": "dca5445a-e436-4c59-d20a-25c84057ea68"
      },
      "outputs": [
        {
          "output_type": "execute_result",
          "data": {
            "text/plain": [
              "(59946, 31)"
            ]
          },
          "metadata": {},
          "execution_count": 4
        }
      ],
      "source": [
        "df.shape"
      ]
    },
    {
      "cell_type": "code",
      "execution_count": 5,
      "id": "a2274560",
      "metadata": {
        "colab": {
          "base_uri": "https://localhost:8080/"
        },
        "id": "a2274560",
        "outputId": "e94c0d3c-2341-4778-9b50-18d12dc18f41"
      },
      "outputs": [
        {
          "output_type": "execute_result",
          "data": {
            "text/plain": [
              "offspring      59.321723\n",
              "diet           40.694959\n",
              "religion       33.740366\n",
              "pets           33.231575\n",
              "essay8         32.070530\n",
              "drugs          23.487806\n",
              "essay6         22.972342\n",
              "essay9         21.023922\n",
              "essay7         20.770360\n",
              "essay3         19.143896\n",
              "sign           18.443266\n",
              "essay5         18.099623\n",
              "essay4         17.577486\n",
              "essay2         16.077803\n",
              "job            13.675641\n",
              "essay1         12.631368\n",
              "education      11.056618\n",
              "ethnicity       9.475194\n",
              "smokes          9.194942\n",
              "essay0          9.154906\n",
              "body_type       8.834618\n",
              "drinks          4.979482\n",
              "speaks          0.083408\n",
              "height          0.005005\n",
              "status          0.000000\n",
              "location        0.000000\n",
              "last_online     0.000000\n",
              "income          0.000000\n",
              "orientation     0.000000\n",
              "sex             0.000000\n",
              "age             0.000000\n",
              "dtype: float64"
            ]
          },
          "metadata": {},
          "execution_count": 5
        }
      ],
      "source": [
        "(df.isnull().sum()/len(df)*100).sort_values(ascending = False).head(50)"
      ]
    },
    {
      "cell_type": "code",
      "execution_count": 6,
      "id": "0d5f0354",
      "metadata": {
        "id": "0d5f0354"
      },
      "outputs": [],
      "source": [
        "# count of null values\n",
        "null_counts = df.isnull().sum().sort_values(ascending=False)"
      ]
    },
    {
      "cell_type": "code",
      "execution_count": 7,
      "id": "4c817e8e",
      "metadata": {
        "id": "4c817e8e"
      },
      "outputs": [],
      "source": [
        "#sns.pairplot(data=df,vars=['age','sex','height','location','orientation','status','speaks','ethnicity','body_type','drinks','smokes'])\n",
        "#plt.show()"
      ]
    },
    {
      "cell_type": "code",
      "execution_count": 8,
      "id": "6794d165",
      "metadata": {
        "colab": {
          "base_uri": "https://localhost:8080/",
          "height": 508
        },
        "id": "6794d165",
        "outputId": "007016dd-ded5-4a67-b4a5-f4b3abe205f0"
      },
      "outputs": [
        {
          "output_type": "display_data",
          "data": {
            "text/plain": [
              "<Figure size 1000x500 with 1 Axes>"
            ],
            "image/png": "[encoded data removed]"
          },
          "metadata": {}
        }
      ],
      "source": [
        "plt.figure(figsize=(10, 5))\n",
        "null_counts.plot(kind='bar')\n",
        "plt.title('Count of null values per variable')\n",
        "plt.xlabel('Variables')\n",
        "plt.ylabel('Null values count')\n",
        "plt.show()"
      ]
    },
    {
      "cell_type": "code",
      "execution_count": 9,
      "id": "9e477147",
      "metadata": {
        "colab": {
          "base_uri": "https://localhost:8080/"
        },
        "id": "9e477147",
        "outputId": "21beb0a6-e940-40d0-bd4f-094731265260"
      },
      "outputs": [
        {
          "output_type": "execute_result",
          "data": {
            "text/plain": [
              "offspring      35561\n",
              "diet           24395\n",
              "religion       20226\n",
              "pets           19921\n",
              "essay8         19225\n",
              "drugs          14080\n",
              "essay6         13771\n",
              "essay9         12603\n",
              "essay7         12451\n",
              "essay3         11476\n",
              "sign           11056\n",
              "essay5         10850\n",
              "essay4         10537\n",
              "essay2          9638\n",
              "job             8198\n",
              "essay1          7572\n",
              "education       6628\n",
              "ethnicity       5680\n",
              "smokes          5512\n",
              "essay0          5488\n",
              "body_type       5296\n",
              "drinks          2985\n",
              "speaks            50\n",
              "height             3\n",
              "status             0\n",
              "location           0\n",
              "last_online        0\n",
              "income             0\n",
              "orientation        0\n",
              "sex                0\n",
              "age                0\n",
              "dtype: int64"
            ]
          },
          "metadata": {},
          "execution_count": 9
        }
      ],
      "source": [
        "df.isnull().sum().sort_values(ascending=False)"
      ]
    },
    {
      "cell_type": "code",
      "execution_count": 10,
      "id": "20afaf22",
      "metadata": {
        "id": "20afaf22"
      },
      "outputs": [],
      "source": [
        "# Dropping the values which do not have any needed for this analysis\n",
        "df.drop(['offspring'], axis = 1, inplace = True)"
      ]
    },
    {
      "cell_type": "code",
      "execution_count": 11,
      "id": "71499470",
      "metadata": {
        "colab": {
          "base_uri": "https://localhost:8080/"
        },
        "id": "71499470",
        "outputId": "3ef9d908-dc6c-4f77-d987-708ac912476c"
      },
      "outputs": [
        {
          "output_type": "execute_result",
          "data": {
            "text/plain": [
              "(59946, 30)"
            ]
          },
          "metadata": {},
          "execution_count": 11
        }
      ],
      "source": [
        "df.shape"
      ]
    },
    {
      "cell_type": "code",
      "source": [
        "df = df.dropna(subset=['age','status', 'sex', 'orientation'])"
      ],
      "metadata": {
        "id": "K-MTJeW8-u0U"
      },
      "id": "K-MTJeW8-u0U",
      "execution_count": 14,
      "outputs": []
    },
    {
      "cell_type": "code",
      "execution_count": 15,
      "id": "0b9a16eb",
      "metadata": {
        "colab": {
          "base_uri": "https://localhost:8080/",
          "height": 461
        },
        "id": "0b9a16eb",
        "outputId": "0d1c3ac6-c54a-4a35-fd52-fa5400b01ab3"
      },
      "outputs": [
        {
          "output_type": "execute_result",
          "data": {
            "text/plain": [
              "                 age  status    sex orientation body_type             diet  \\\n",
              "count   59946.000000   59946  59946       59946     54650            35551   \n",
              "unique           NaN       5      2           3        12               18   \n",
              "top              NaN  single      m    straight   average  mostly anything   \n",
              "freq             NaN   55697  35829       51606     14652            16585   \n",
              "mean       32.340290     NaN    NaN         NaN       NaN              NaN   \n",
              "std         9.452779     NaN    NaN         NaN       NaN              NaN   \n",
              "min        18.000000     NaN    NaN         NaN       NaN              NaN   \n",
              "25%        26.000000     NaN    NaN         NaN       NaN              NaN   \n",
              "50%        30.000000     NaN    NaN         NaN       NaN              NaN   \n",
              "75%        37.000000     NaN    NaN         NaN       NaN              NaN   \n",
              "max       110.000000     NaN    NaN         NaN       NaN              NaN   \n",
              "\n",
              "          drinks  drugs                          education ethnicity  ...  \\\n",
              "count      56961  45866                              53318     54266  ...   \n",
              "unique         6      3                                 32       217  ...   \n",
              "top     socially  never  graduated from college/university     white  ...   \n",
              "freq       41780  37724                              23959     32831  ...   \n",
              "mean         NaN    NaN                                NaN       NaN  ...   \n",
              "std          NaN    NaN                                NaN       NaN  ...   \n",
              "min          NaN    NaN                                NaN       NaN  ...   \n",
              "25%          NaN    NaN                                NaN       NaN  ...   \n",
              "50%          NaN    NaN                                NaN       NaN  ...   \n",
              "75%          NaN    NaN                                NaN       NaN  ...   \n",
              "max          NaN    NaN                                NaN       NaN  ...   \n",
              "\n",
              "        essay0        essay1     essay2    essay3  essay4  essay5     essay6  \\\n",
              "count    54458         52374      50308     48470   49409   49096      46175   \n",
              "unique   54347         51516      48625     43520   49257   48961      43583   \n",
              "top          .  enjoying it.  listening  my smile  ask me  family  my future   \n",
              "freq        12            61         82       529      16       6        161   \n",
              "mean       NaN           NaN        NaN       NaN     NaN     NaN        NaN   \n",
              "std        NaN           NaN        NaN       NaN     NaN     NaN        NaN   \n",
              "min        NaN           NaN        NaN       NaN     NaN     NaN        NaN   \n",
              "25%        NaN           NaN        NaN       NaN     NaN     NaN        NaN   \n",
              "50%        NaN           NaN        NaN       NaN     NaN     NaN        NaN   \n",
              "75%        NaN           NaN        NaN       NaN     NaN     NaN        NaN   \n",
              "max        NaN           NaN        NaN       NaN     NaN     NaN        NaN   \n",
              "\n",
              "                  essay7  essay8        essay9  \n",
              "count              47495   40721         47343  \n",
              "unique             45548   39323         45440  \n",
              "top     out with friends  ask me  you want to.  \n",
              "freq                  89      45           200  \n",
              "mean                 NaN     NaN           NaN  \n",
              "std                  NaN     NaN           NaN  \n",
              "min                  NaN     NaN           NaN  \n",
              "25%                  NaN     NaN           NaN  \n",
              "50%                  NaN     NaN           NaN  \n",
              "75%                  NaN     NaN           NaN  \n",
              "max                  NaN     NaN           NaN  \n",
              "\n",
              "[11 rows x 30 columns]"
            ],
            "text/html": [
              "\n",
              "  <div id=\"df-2963b9d7-414d-412d-b4ed-8793f043386c\" class=\"colab-df-container\">\n",
              "    <div>\n",
              "<style scoped>\n",
              "    .dataframe tbody tr th:only-of-type {\n",
              "        vertical-align: middle;\n",
              "    }\n",
              "\n",
              "    .dataframe tbody tr th {\n",
              "        vertical-align: top;\n",
              "    }\n",
              "\n",
              "    .dataframe thead th {\n",
              "        text-align: right;\n",
              "    }\n",
              "</style>\n",
              "<table border=\"1\" class=\"dataframe\">\n",
              "  <thead>\n",
              "    <tr style=\"text-align: right;\">\n",
              "      <th></th>\n",
              "      <th>age</th>\n",
              "      <th>status</th>\n",
              "      <th>sex</th>\n",
              "      <th>orientation</th>\n",
              "      <th>body_type</th>\n",
              "      <th>diet</th>\n",
              "      <th>drinks</th>\n",
              "      <th>drugs</th>\n",
              "      <th>education</th>\n",
              "      <th>ethnicity</th>\n",
              "      <th>...</th>\n",
              "      <th>essay0</th>\n",
              "      <th>essay1</th>\n",
              "      <th>essay2</th>\n",
              "      <th>essay3</th>\n",
              "      <th>essay4</th>\n",
              "      <th>essay5</th>\n",
              "      <th>essay6</th>\n",
              "      <th>essay7</th>\n",
              "      <th>essay8</th>\n",
              "      <th>essay9</th>\n",
              "    </tr>\n",
              "  </thead>\n",
              "  <tbody>\n",
              "    <tr>\n",
              "      <th>count</th>\n",
              "      <td>59946.000000</td>\n",
              "      <td>59946</td>\n",
              "      <td>59946</td>\n",
              "      <td>59946</td>\n",
              "      <td>54650</td>\n",
              "      <td>35551</td>\n",
              "      <td>56961</td>\n",
              "      <td>45866</td>\n",
              "      <td>53318</td>\n",
              "      <td>54266</td>\n",
              "      <td>...</td>\n",
              "      <td>54458</td>\n",
              "      <td>52374</td>\n",
              "      <td>50308</td>\n",
              "      <td>48470</td>\n",
              "      <td>49409</td>\n",
              "      <td>49096</td>\n",
              "      <td>46175</td>\n",
              "      <td>47495</td>\n",
              "      <td>40721</td>\n",
              "      <td>47343</td>\n",
              "    </tr>\n",
              "    <tr>\n",
              "      <th>unique</th>\n",
              "      <td>NaN</td>\n",
              "      <td>5</td>\n",
              "      <td>2</td>\n",
              "      <td>3</td>\n",
              "      <td>12</td>\n",
              "      <td>18</td>\n",
              "      <td>6</td>\n",
              "      <td>3</td>\n",
              "      <td>32</td>\n",
              "      <td>217</td>\n",
              "      <td>...</td>\n",
              "      <td>54347</td>\n",
              "      <td>51516</td>\n",
              "      <td>48625</td>\n",
              "      <td>43520</td>\n",
              "      <td>49257</td>\n",
              "      <td>48961</td>\n",
              "      <td>43583</td>\n",
              "      <td>45548</td>\n",
              "      <td>39323</td>\n",
              "      <td>45440</td>\n",
              "    </tr>\n",
              "    <tr>\n",
              "      <th>top</th>\n",
              "      <td>NaN</td>\n",
              "      <td>single</td>\n",
              "      <td>m</td>\n",
              "      <td>straight</td>\n",
              "      <td>average</td>\n",
              "      <td>mostly anything</td>\n",
              "      <td>socially</td>\n",
              "      <td>never</td>\n",
              "      <td>graduated from college/university</td>\n",
              "      <td>white</td>\n",
              "      <td>...</td>\n",
              "      <td>.</td>\n",
              "      <td>enjoying it.</td>\n",
              "      <td>listening</td>\n",
              "      <td>my smile</td>\n",
              "      <td>ask me</td>\n",
              "      <td>family</td>\n",
              "      <td>my future</td>\n",
              "      <td>out with friends</td>\n",
              "      <td>ask me</td>\n",
              "      <td>you want to.</td>\n",
              "    </tr>\n",
              "    <tr>\n",
              "      <th>freq</th>\n",
              "      <td>NaN</td>\n",
              "      <td>55697</td>\n",
              "      <td>35829</td>\n",
              "      <td>51606</td>\n",
              "      <td>14652</td>\n",
              "      <td>16585</td>\n",
              "      <td>41780</td>\n",
              "      <td>37724</td>\n",
              "      <td>23959</td>\n",
              "      <td>32831</td>\n",
              "      <td>...</td>\n",
              "      <td>12</td>\n",
              "      <td>61</td>\n",
              "      <td>82</td>\n",
              "      <td>529</td>\n",
              "      <td>16</td>\n",
              "      <td>6</td>\n",
              "      <td>161</td>\n",
              "      <td>89</td>\n",
              "      <td>45</td>\n",
              "      <td>200</td>\n",
              "    </tr>\n",
              "    <tr>\n",
              "      <th>mean</th>\n",
              "      <td>32.340290</td>\n",
              "      <td>NaN</td>\n",
              "      <td>NaN</td>\n",
              "      <td>NaN</td>\n",
              "      <td>NaN</td>\n",
              "      <td>NaN</td>\n",
              "      <td>NaN</td>\n",
              "      <td>NaN</td>\n",
              "      <td>NaN</td>\n",
              "      <td>NaN</td>\n",
              "      <td>...</td>\n",
              "      <td>NaN</td>\n",
              "      <td>NaN</td>\n",
              "      <td>NaN</td>\n",
              "      <td>NaN</td>\n",
              "      <td>NaN</td>\n",
              "      <td>NaN</td>\n",
              "      <td>NaN</td>\n",
              "      <td>NaN</td>\n",
              "      <td>NaN</td>\n",
              "      <td>NaN</td>\n",
              "    </tr>\n",
              "    <tr>\n",
              "      <th>std</th>\n",
              "      <td>9.452779</td>\n",
              "      <td>NaN</td>\n",
              "      <td>NaN</td>\n",
              "      <td>NaN</td>\n",
              "      <td>NaN</td>\n",
              "      <td>NaN</td>\n",
              "      <td>NaN</td>\n",
              "      <td>NaN</td>\n",
              "      <td>NaN</td>\n",
              "      <td>NaN</td>\n",
              "      <td>...</td>\n",
              "      <td>NaN</td>\n",
              "      <td>NaN</td>\n",
              "      <td>NaN</td>\n",
              "      <td>NaN</td>\n",
              "      <td>NaN</td>\n",
              "      <td>NaN</td>\n",
              "      <td>NaN</td>\n",
              "      <td>NaN</td>\n",
              "      <td>NaN</td>\n",
              "      <td>NaN</td>\n",
              "    </tr>\n",
              "    <tr>\n",
              "      <th>min</th>\n",
              "      <td>18.000000</td>\n",
              "      <td>NaN</td>\n",
              "      <td>NaN</td>\n",
              "      <td>NaN</td>\n",
              "      <td>NaN</td>\n",
              "      <td>NaN</td>\n",
              "      <td>NaN</td>\n",
              "      <td>NaN</td>\n",
              "      <td>NaN</td>\n",
              "      <td>NaN</td>\n",
              "      <td>...</td>\n",
              "      <td>NaN</td>\n",
              "      <td>NaN</td>\n",
              "      <td>NaN</td>\n",
              "      <td>NaN</td>\n",
              "      <td>NaN</td>\n",
              "      <td>NaN</td>\n",
              "      <td>NaN</td>\n",
              "      <td>NaN</td>\n",
              "      <td>NaN</td>\n",
              "      <td>NaN</td>\n",
              "    </tr>\n",
              "    <tr>\n",
              "      <th>25%</th>\n",
              "      <td>26.000000</td>\n",
              "      <td>NaN</td>\n",
              "      <td>NaN</td>\n",
              "      <td>NaN</td>\n",
              "      <td>NaN</td>\n",
              "      <td>NaN</td>\n",
              "      <td>NaN</td>\n",
              "      <td>NaN</td>\n",
              "      <td>NaN</td>\n",
              "      <td>NaN</td>\n",
              "      <td>...</td>\n",
              "      <td>NaN</td>\n",
              "      <td>NaN</td>\n",
              "      <td>NaN</td>\n",
              "      <td>NaN</td>\n",
              "      <td>NaN</td>\n",
              "      <td>NaN</td>\n",
              "      <td>NaN</td>\n",
              "      <td>NaN</td>\n",
              "      <td>NaN</td>\n",
              "      <td>NaN</td>\n",
              "    </tr>\n",
              "    <tr>\n",
              "      <th>50%</th>\n",
              "      <td>30.000000</td>\n",
              "      <td>NaN</td>\n",
              "      <td>NaN</td>\n",
              "      <td>NaN</td>\n",
              "      <td>NaN</td>\n",
              "      <td>NaN</td>\n",
              "      <td>NaN</td>\n",
              "      <td>NaN</td>\n",
              "      <td>NaN</td>\n",
              "      <td>NaN</td>\n",
              "      <td>...</td>\n",
              "      <td>NaN</td>\n",
              "      <td>NaN</td>\n",
              "      <td>NaN</td>\n",
              "      <td>NaN</td>\n",
              "      <td>NaN</td>\n",
              "      <td>NaN</td>\n",
              "      <td>NaN</td>\n",
              "      <td>NaN</td>\n",
              "      <td>NaN</td>\n",
              "      <td>NaN</td>\n",
              "    </tr>\n",
              "    <tr>\n",
              "      <th>75%</th>\n",
              "      <td>37.000000</td>\n",
              "      <td>NaN</td>\n",
              "      <td>NaN</td>\n",
              "      <td>NaN</td>\n",
              "      <td>NaN</td>\n",
              "      <td>NaN</td>\n",
              "      <td>NaN</td>\n",
              "      <td>NaN</td>\n",
              "      <td>NaN</td>\n",
              "      <td>NaN</td>\n",
              "      <td>...</td>\n",
              "      <td>NaN</td>\n",
              "      <td>NaN</td>\n",
              "      <td>NaN</td>\n",
              "      <td>NaN</td>\n",
              "      <td>NaN</td>\n",
              "      <td>NaN</td>\n",
              "      <td>NaN</td>\n",
              "      <td>NaN</td>\n",
              "      <td>NaN</td>\n",
              "      <td>NaN</td>\n",
              "    </tr>\n",
              "    <tr>\n",
              "      <th>max</th>\n",
              "      <td>110.000000</td>\n",
              "      <td>NaN</td>\n",
              "      <td>NaN</td>\n",
              "      <td>NaN</td>\n",
              "      <td>NaN</td>\n",
              "      <td>NaN</td>\n",
              "      <td>NaN</td>\n",
              "      <td>NaN</td>\n",
              "      <td>NaN</td>\n",
              "      <td>NaN</td>\n",
              "      <td>...</td>\n",
              "      <td>NaN</td>\n",
              "      <td>NaN</td>\n",
              "      <td>NaN</td>\n",
              "      <td>NaN</td>\n",
              "      <td>NaN</td>\n",
              "      <td>NaN</td>\n",
              "      <td>NaN</td>\n",
              "      <td>NaN</td>\n",
              "      <td>NaN</td>\n",
              "      <td>NaN</td>\n",
              "    </tr>\n",
              "  </tbody>\n",
              "</table>\n",
              "<p>11 rows × 30 columns</p>\n",
              "</div>\n",
              "    <div class=\"colab-df-buttons\">\n",
              "\n",
              "  <div class=\"colab-df-container\">\n",
              "    <button class=\"colab-df-convert\" onclick=\"convertToInteractive('df-2963b9d7-414d-412d-b4ed-8793f043386c')\"\n",
              "            title=\"Convert this dataframe to an interactive table.\"\n",
              "            style=\"display:none;\">\n",
              "\n",
              "  <svg xmlns=\"http://www.w3.org/2000/svg\" height=\"24px\" viewBox=\"0 -960 960 960\">\n",
              "    <path d=\"M120-120v-720h720v720H120Zm60-500h600v-160H180v160Zm220 220h160v-160H400v160Zm0 220h160v-160H400v160ZM180-400h160v-160H180v160Zm440 0h160v-160H620v160ZM180-180h160v-160H180v160Zm440 0h160v-160H620v160Z\"/>\n",
              "  </svg>\n",
              "    </button>\n",
              "\n",
              "  <style>\n",
              "    .colab-df-container {\n",
              "      display:flex;\n",
              "      gap: 12px;\n",
              "    }\n",
              "\n",
              "    .colab-df-convert {\n",
              "      background-color: #E8F0FE;\n",
              "      border: none;\n",
              "      border-radius: 50%;\n",
              "      cursor: pointer;\n",
              "      display: none;\n",
              "      fill: #1967D2;\n",
              "      height: 32px;\n",
              "      padding: 0 0 0 0;\n",
              "      width: 32px;\n",
              "    }\n",
              "\n",
              "    .colab-df-convert:hover {\n",
              "      background-color: #E2EBFA;\n",
              "      box-shadow: 0px 1px 2px rgba(60, 64, 67, 0.3), 0px 1px 3px 1px rgba(60, 64, 67, 0.15);\n",
              "      fill: #174EA6;\n",
              "    }\n",
              "\n",
              "    .colab-df-buttons div {\n",
              "      margin-bottom: 4px;\n",
              "    }\n",
              "\n",
              "    [theme=dark] .colab-df-convert {\n",
              "      background-color: #3B4455;\n",
              "      fill: #D2E3FC;\n",
              "    }\n",
              "\n",
              "    [theme=dark] .colab-df-convert:hover {\n",
              "      background-color: #434B5C;\n",
              "      box-shadow: 0px 1px 3px 1px rgba(0, 0, 0, 0.15);\n",
              "      filter: drop-shadow(0px 1px 2px rgba(0, 0, 0, 0.3));\n",
              "      fill: #FFFFFF;\n",
              "    }\n",
              "  </style>\n",
              "\n",
              "    <script>\n",
              "      const buttonEl =\n",
              "        document.querySelector('#df-2963b9d7-414d-412d-b4ed-8793f043386c button.colab-df-convert');\n",
              "      buttonEl.style.display =\n",
              "        google.colab.kernel.accessAllowed ? 'block' : 'none';\n",
              "\n",
              "      async function convertToInteractive(key) {\n",
              "        const element = document.querySelector('#df-2963b9d7-414d-412d-b4ed-8793f043386c');\n",
              "        const dataTable =\n",
              "          await google.colab.kernel.invokeFunction('convertToInteractive',\n",
              "                                                    [key], {});\n",
              "        if (!dataTable) return;\n",
              "\n",
              "        const docLinkHtml = 'Like what you see? Visit the ' +\n",
              "          '<a target=\"_blank\" href=https://colab.research.google.com/notebooks/data_table.ipynb>data table notebook</a>'\n",
              "          + ' to learn more about interactive tables.';\n",
              "        element.innerHTML = '';\n",
              "        dataTable['output_type'] = 'display_data';\n",
              "        await google.colab.output.renderOutput(dataTable, element);\n",
              "        const docLink = document.createElement('div');\n",
              "        docLink.innerHTML = docLinkHtml;\n",
              "        element.appendChild(docLink);\n",
              "      }\n",
              "    </script>\n",
              "  </div>\n",
              "\n",
              "\n",
              "<div id=\"df-4bdf205e-11c3-4653-b4b7-0558eda412e7\">\n",
              "  <button class=\"colab-df-quickchart\" onclick=\"quickchart('df-4bdf205e-11c3-4653-b4b7-0558eda412e7')\"\n",
              "            title=\"Suggest charts\"\n",
              "            style=\"display:none;\">\n",
              "\n",
              "<svg xmlns=\"http://www.w3.org/2000/svg\" height=\"24px\"viewBox=\"0 0 24 24\"\n",
              "     width=\"24px\">\n",
              "    <g>\n",
              "        <path d=\"M19 3H5c-1.1 0-2 .9-2 2v14c0 1.1.9 2 2 2h14c1.1 0 2-.9 2-2V5c0-1.1-.9-2-2-2zM9 17H7v-7h2v7zm4 0h-2V7h2v10zm4 0h-2v-4h2v4z\"/>\n",
              "    </g>\n",
              "</svg>\n",
              "  </button>\n",
              "\n",
              "<style>\n",
              "  .colab-df-quickchart {\n",
              "      --bg-color: #E8F0FE;\n",
              "      --fill-color: #1967D2;\n",
              "      --hover-bg-color: #E2EBFA;\n",
              "      --hover-fill-color: #174EA6;\n",
              "      --disabled-fill-color: #AAA;\n",
              "      --disabled-bg-color: #DDD;\n",
              "  }\n",
              "\n",
              "  [theme=dark] .colab-df-quickchart {\n",
              "      --bg-color: #3B4455;\n",
              "      --fill-color: #D2E3FC;\n",
              "      --hover-bg-color: #434B5C;\n",
              "      --hover-fill-color: #FFFFFF;\n",
              "      --disabled-bg-color: #3B4455;\n",
              "      --disabled-fill-color: #666;\n",
              "  }\n",
              "\n",
              "  .colab-df-quickchart {\n",
              "    background-color: var(--bg-color);\n",
              "    border: none;\n",
              "    border-radius: 50%;\n",
              "    cursor: pointer;\n",
              "    display: none;\n",
              "    fill: var(--fill-color);\n",
              "    height: 32px;\n",
              "    padding: 0;\n",
              "    width: 32px;\n",
              "  }\n",
              "\n",
              "  .colab-df-quickchart:hover {\n",
              "    background-color: var(--hover-bg-color);\n",
              "    box-shadow: 0 1px 2px rgba(60, 64, 67, 0.3), 0 1px 3px 1px rgba(60, 64, 67, 0.15);\n",
              "    fill: var(--button-hover-fill-color);\n",
              "  }\n",
              "\n",
              "  .colab-df-quickchart-complete:disabled,\n",
              "  .colab-df-quickchart-complete:disabled:hover {\n",
              "    background-color: var(--disabled-bg-color);\n",
              "    fill: var(--disabled-fill-color);\n",
              "    box-shadow: none;\n",
              "  }\n",
              "\n",
              "  .colab-df-spinner {\n",
              "    border: 2px solid var(--fill-color);\n",
              "    border-color: transparent;\n",
              "    border-bottom-color: var(--fill-color);\n",
              "    animation:\n",
              "      spin 1s steps(1) infinite;\n",
              "  }\n",
              "\n",
              "  @keyframes spin {\n",
              "    0% {\n",
              "      border-color: transparent;\n",
              "      border-bottom-color: var(--fill-color);\n",
              "      border-left-color: var(--fill-color);\n",
              "    }\n",
              "    20% {\n",
              "      border-color: transparent;\n",
              "      border-left-color: var(--fill-color);\n",
              "      border-top-color: var(--fill-color);\n",
              "    }\n",
              "    30% {\n",
              "      border-color: transparent;\n",
              "      border-left-color: var(--fill-color);\n",
              "      border-top-color: var(--fill-color);\n",
              "      border-right-color: var(--fill-color);\n",
              "    }\n",
              "    40% {\n",
              "      border-color: transparent;\n",
              "      border-right-color: var(--fill-color);\n",
              "      border-top-color: var(--fill-color);\n",
              "    }\n",
              "    60% {\n",
              "      border-color: transparent;\n",
              "      border-right-color: var(--fill-color);\n",
              "    }\n",
              "    80% {\n",
              "      border-color: transparent;\n",
              "      border-right-color: var(--fill-color);\n",
              "      border-bottom-color: var(--fill-color);\n",
              "    }\n",
              "    90% {\n",
              "      border-color: transparent;\n",
              "      border-bottom-color: var(--fill-color);\n",
              "    }\n",
              "  }\n",
              "</style>\n",
              "\n",
              "  <script>\n",
              "    async function quickchart(key) {\n",
              "      const quickchartButtonEl =\n",
              "        document.querySelector('#' + key + ' button');\n",
              "      quickchartButtonEl.disabled = true;  // To prevent multiple clicks.\n",
              "      quickchartButtonEl.classList.add('colab-df-spinner');\n",
              "      try {\n",
              "        const charts = await google.colab.kernel.invokeFunction(\n",
              "            'suggestCharts', [key], {});\n",
              "      } catch (error) {\n",
              "        console.error('Error during call to suggestCharts:', error);\n",
              "      }\n",
              "      quickchartButtonEl.classList.remove('colab-df-spinner');\n",
              "      quickchartButtonEl.classList.add('colab-df-quickchart-complete');\n",
              "    }\n",
              "    (() => {\n",
              "      let quickchartButtonEl =\n",
              "        document.querySelector('#df-4bdf205e-11c3-4653-b4b7-0558eda412e7 button');\n",
              "      quickchartButtonEl.style.display =\n",
              "        google.colab.kernel.accessAllowed ? 'block' : 'none';\n",
              "    })();\n",
              "  </script>\n",
              "</div>\n",
              "\n",
              "    </div>\n",
              "  </div>\n"
            ],
            "application/vnd.google.colaboratory.intrinsic+json": {
              "type": "dataframe"
            }
          },
          "metadata": {},
          "execution_count": 15
        }
      ],
      "source": [
        "df.describe(include = 'all')"
      ]
    },
    {
      "cell_type": "code",
      "execution_count": 16,
      "id": "db369c00",
      "metadata": {
        "id": "db369c00"
      },
      "outputs": [],
      "source": [
        "df= df.drop(['essay0', 'essay1', 'essay2', 'essay3', 'essay4', 'essay5', 'essay6', 'essay7', 'essay8', 'essay9', 'last_online'], axis = 1)"
      ]
    },
    {
      "cell_type": "code",
      "execution_count": 17,
      "id": "ed8115dc",
      "metadata": {
        "colab": {
          "base_uri": "https://localhost:8080/",
          "height": 685
        },
        "id": "ed8115dc",
        "outputId": "cc32aeb5-ca39-4753-829d-e33f5dccfffc"
      },
      "outputs": [
        {
          "output_type": "stream",
          "name": "stdout",
          "text": [
            "count        59946\n",
            "unique           3\n",
            "top       straight\n",
            "freq         51606\n",
            "Name: orientation, dtype: object\n",
            "straight    51606\n",
            "gay          5573\n",
            "bisexual     2767\n",
            "Name: orientation, dtype: int64\n"
          ]
        },
        {
          "output_type": "display_data",
          "data": {
            "text/plain": [
              "<Figure size 1600x1000 with 1 Axes>"
            ],
            "image/png": "[encoded data removed]"
          },
          "metadata": {}
        }
      ],
      "source": [
        "# Univariate analysis - Orientation\n",
        "\n",
        "import pandas as pd\n",
        "import matplotlib.pyplot as plt\n",
        "\n",
        "# Summary statistics\n",
        "print(df['orientation'].describe())\n",
        "\n",
        "# Frequency distribution\n",
        "print(df['orientation'].value_counts())\n",
        "\n",
        "# Histogram\n",
        "plt.hist(df['orientation'], bins=20, alpha=0.5)\n",
        "plt.xlabel('Sexual Orientation')\n",
        "plt.ylabel('Frequency')\n",
        "plt.title('Histogram of Orientation')\n",
        "plt.show()"
      ]
    },
    {
      "cell_type": "code",
      "source": [
        "# Function to split the ethnicity entries and flatten the resulting list\n",
        "def split_ethnicities(series):\n",
        "    # Splitting each entry into a list of ethnicities and flattening the resulting list of lists\n",
        "    return series.str.split(', ').explode()\n",
        "\n",
        "# Apply the function to the 'ethnicity' column\n",
        "distinct_ethnicities = split_ethnicities(df['ethnicity'])\n",
        "\n",
        "# Drop NaN values from the resulting series\n",
        "distinct_ethnicities = distinct_ethnicities.dropna()\n",
        "\n",
        "# Calculate the frequency of each distinct ethnicity\n",
        "ethnicity_counts = distinct_ethnicities.value_counts()\n",
        "\n",
        "# Print summary statistics\n",
        "print(distinct_ethnicities.describe())\n",
        "\n",
        "# Print frequency distribution\n",
        "print(ethnicity_counts)\n",
        "\n",
        "# Bar plot of the frequency distribution of distinct ethnicities\n",
        "ethnicity_counts.plot(kind='bar')\n",
        "plt.xlabel('Ethnicity')\n",
        "plt.ylabel('Frequency')\n",
        "plt.title('Ethnicity Bar Plot')\n",
        "plt.show()"
      ],
      "metadata": {
        "colab": {
          "base_uri": "https://localhost:8080/",
          "height": 856
        },
        "id": "omHKlSafooN1",
        "outputId": "70fe1071-a5e9-4743-9516-214845100352"
      },
      "id": "omHKlSafooN1",
      "execution_count": 18,
      "outputs": [
        {
          "output_type": "stream",
          "name": "stdout",
          "text": [
            "count     63476\n",
            "unique        9\n",
            "top       white\n",
            "freq      37882\n",
            "Name: ethnicity, dtype: object\n",
            "white               37882\n",
            "asian                8205\n",
            "hispanic / latin     5357\n",
            "other                3567\n",
            "black                3328\n",
            "pacific islander     1473\n",
            "indian               1449\n",
            "native american      1265\n",
            "middle eastern        950\n",
            "Name: ethnicity, dtype: int64\n"
          ]
        },
        {
          "output_type": "display_data",
          "data": {
            "text/plain": [
              "<Figure size 1600x1000 with 1 Axes>"
            ],
            "image/png": "[encoded data removed]"
          },
          "metadata": {}
        }
      ]
    },
    {
      "cell_type": "code",
      "execution_count": 19,
      "id": "6bcc0e64",
      "metadata": {
        "colab": {
          "base_uri": "https://localhost:8080/",
          "height": 1000
        },
        "id": "6bcc0e64",
        "outputId": "40fce694-181a-4ec2-b693-a81af7618107"
      },
      "outputs": [
        {
          "output_type": "stream",
          "name": "stdout",
          "text": [
            "count    59946.000000\n",
            "mean        32.340290\n",
            "std          9.452779\n",
            "min         18.000000\n",
            "25%         26.000000\n",
            "50%         30.000000\n",
            "75%         37.000000\n",
            "max        110.000000\n",
            "Name: age, dtype: float64\n",
            "26     3724\n",
            "27     3685\n",
            "28     3583\n",
            "25     3531\n",
            "29     3295\n",
            "24     3242\n",
            "30     3149\n",
            "31     2735\n",
            "23     2592\n",
            "32     2587\n",
            "33     2206\n",
            "22     1934\n",
            "34     1902\n",
            "35     1755\n",
            "36     1583\n",
            "37     1427\n",
            "38     1330\n",
            "21     1282\n",
            "39     1172\n",
            "42     1072\n",
            "40     1030\n",
            "41      980\n",
            "20      953\n",
            "43      858\n",
            "44      708\n",
            "45      643\n",
            "19      611\n",
            "46      578\n",
            "47      529\n",
            "48      481\n",
            "49      459\n",
            "50      437\n",
            "51      350\n",
            "52      344\n",
            "18      309\n",
            "56      271\n",
            "54      267\n",
            "55      265\n",
            "57      256\n",
            "53      252\n",
            "59      221\n",
            "58      197\n",
            "60      195\n",
            "61      176\n",
            "62      167\n",
            "63      138\n",
            "64      113\n",
            "65      109\n",
            "66      105\n",
            "67       66\n",
            "68       59\n",
            "69       31\n",
            "110       1\n",
            "109       1\n",
            "Name: age, dtype: int64\n"
          ]
        },
        {
          "output_type": "display_data",
          "data": {
            "text/plain": [
              "<Figure size 1600x1000 with 1 Axes>"
            ],
            "image/png": "[encoded data removed]"
          },
          "metadata": {}
        }
      ],
      "source": [
        "# Univariate analysis AGE\n",
        "\n",
        "import pandas as pd\n",
        "import matplotlib.pyplot as plt\n",
        "\n",
        "# Summary statistics\n",
        "print(df['age'].describe())\n",
        "\n",
        "# Frequency distribution\n",
        "print(df['age'].value_counts())\n",
        "\n",
        "# Histogram\n",
        "plt.hist(df['age'], bins=20, alpha=0.5)\n",
        "plt.xlabel('Age')\n",
        "plt.ylabel('Frequency')\n",
        "plt.title('Histogram of age')\n",
        "plt.show()"
      ]
    },
    {
      "cell_type": "code",
      "execution_count": 20,
      "id": "6df81f8e",
      "metadata": {
        "colab": {
          "base_uri": "https://localhost:8080/"
        },
        "id": "6df81f8e",
        "outputId": "1ffac2cb-5f14-4d47-b1ec-fb369a1efb4d"
      },
      "outputs": [
        {
          "output_type": "execute_result",
          "data": {
            "text/plain": [
              "(59946, 19)"
            ]
          },
          "metadata": {},
          "execution_count": 20
        }
      ],
      "source": [
        "df.shape"
      ]
    },
    {
      "cell_type": "code",
      "execution_count": 21,
      "id": "bc1a4002",
      "metadata": {
        "id": "bc1a4002"
      },
      "outputs": [],
      "source": [
        "df['age'] = df.age.fillna(df['age'].median())"
      ]
    },
    {
      "cell_type": "code",
      "execution_count": 22,
      "id": "95bf86ef",
      "metadata": {
        "id": "95bf86ef"
      },
      "outputs": [],
      "source": [
        "# Convert the 'height' column to float\n",
        "df['height'] = pd.to_numeric(df['height'], errors='coerce')\n",
        "\n",
        "# Fill missing values in 'height' with the mean\n",
        "df['height'] = df.height.fillna(df['height'].mean())\n",
        "\n",
        "# Fill missing values in other columns with specified values\n",
        "df['body_type'] = df.body_type.fillna('average')\n",
        "df['diet'] = df.diet.fillna('no response given')"
      ]
    },
    {
      "cell_type": "code",
      "execution_count": 25,
      "id": "b23673bb",
      "metadata": {
        "id": "b23673bb"
      },
      "outputs": [],
      "source": [
        "df['age'] = df.age.astype(int)\n",
        "df['height'] = df.height.astype(int)\n",
        "df['income'] = df.income.astype(int)"
      ]
    },
    {
      "cell_type": "code",
      "execution_count": 26,
      "id": "0ffb3acc",
      "metadata": {
        "colab": {
          "base_uri": "https://localhost:8080/"
        },
        "id": "0ffb3acc",
        "outputId": "b399fe80-56ce-4032-99cf-5bffa420c716"
      },
      "outputs": [
        {
          "output_type": "stream",
          "name": "stdout",
          "text": [
            "<class 'pandas.core.frame.DataFrame'>\n",
            "Int64Index: 0 entries\n",
            "Data columns (total 19 columns):\n",
            " #   Column       Non-Null Count  Dtype \n",
            "---  ------       --------------  ----- \n",
            " 0   age          0 non-null      int64 \n",
            " 1   status       0 non-null      object\n",
            " 2   sex          0 non-null      object\n",
            " 3   orientation  0 non-null      object\n",
            " 4   body_type    0 non-null      object\n",
            " 5   diet         0 non-null      object\n",
            " 6   drinks       0 non-null      object\n",
            " 7   drugs        0 non-null      object\n",
            " 8   education    0 non-null      object\n",
            " 9   ethnicity    0 non-null      object\n",
            " 10  height       0 non-null      int64 \n",
            " 11  income       0 non-null      int64 \n",
            " 12  job          0 non-null      object\n",
            " 13  location     0 non-null      object\n",
            " 14  pets         0 non-null      object\n",
            " 15  religion     0 non-null      object\n",
            " 16  sign         0 non-null      object\n",
            " 17  smokes       0 non-null      object\n",
            " 18  speaks       0 non-null      object\n",
            "dtypes: int64(3), object(16)\n",
            "memory usage: 0.0+ bytes\n"
          ]
        }
      ],
      "source": [
        "df.info()"
      ]
    },
    {
      "cell_type": "code",
      "execution_count": 27,
      "id": "66fd9aa6",
      "metadata": {
        "id": "66fd9aa6"
      },
      "outputs": [],
      "source": [
        "df['drinks'] = df.drinks.fillna('no response given')\n",
        "df['drugs'] = df.drugs.fillna('no response given')\n",
        "df['education'] = df.education.fillna('no response given')\n",
        "df['ethnicity'] = df.ethnicity.fillna('no response given')\n",
        "df['job'] = df.job.fillna('no response given')\n",
        "df['pets'] = df.pets.fillna('no response given')\n",
        "df['religion'] = df.religion.fillna('no response given')\n",
        "df['sign'] = df.sign.fillna('no response given')\n",
        "df['smokes'] = df.smokes.fillna('no response given')\n",
        "df['speaks'] = df.speaks.fillna('no response given')"
      ]
    },
    {
      "cell_type": "code",
      "execution_count": 28,
      "id": "3981b744",
      "metadata": {
        "colab": {
          "base_uri": "https://localhost:8080/"
        },
        "id": "3981b744",
        "outputId": "33e29418-594b-4777-8f76-66aac853be5a"
      },
      "outputs": [
        {
          "output_type": "stream",
          "name": "stdout",
          "text": [
            "<class 'pandas.core.frame.DataFrame'>\n",
            "Int64Index: 0 entries\n",
            "Data columns (total 19 columns):\n",
            " #   Column       Non-Null Count  Dtype \n",
            "---  ------       --------------  ----- \n",
            " 0   age          0 non-null      int64 \n",
            " 1   status       0 non-null      object\n",
            " 2   sex          0 non-null      object\n",
            " 3   orientation  0 non-null      object\n",
            " 4   body_type    0 non-null      object\n",
            " 5   diet         0 non-null      object\n",
            " 6   drinks       0 non-null      object\n",
            " 7   drugs        0 non-null      object\n",
            " 8   education    0 non-null      object\n",
            " 9   ethnicity    0 non-null      object\n",
            " 10  height       0 non-null      int64 \n",
            " 11  income       0 non-null      int64 \n",
            " 12  job          0 non-null      object\n",
            " 13  location     0 non-null      object\n",
            " 14  pets         0 non-null      object\n",
            " 15  religion     0 non-null      object\n",
            " 16  sign         0 non-null      object\n",
            " 17  smokes       0 non-null      object\n",
            " 18  speaks       0 non-null      object\n",
            "dtypes: int64(3), object(16)\n",
            "memory usage: 0.0+ bytes\n"
          ]
        }
      ],
      "source": [
        "df.info()"
      ]
    },
    {
      "cell_type": "code",
      "execution_count": 31,
      "id": "315050bf",
      "metadata": {
        "colab": {
          "base_uri": "https://localhost:8080/",
          "height": 418
        },
        "id": "315050bf",
        "outputId": "d7c1a370-d4ae-4efb-bee3-5c7520bdd2d3"
      },
      "outputs": [
        {
          "output_type": "error",
          "ename": "ValueError",
          "evalue": "Found array with 0 sample(s) (shape=(0, 3)) while a minimum of 1 is required by StandardScaler.",
          "traceback": [
            "\u001b[0;31m---------------------------------------------------------------------------\u001b[0m",
            "\u001b[0;31mValueError\u001b[0m                                Traceback (most recent call last)",
            "\u001b[0;32m<ipython-input-31-5b785fb06ef5>\u001b[0m in \u001b[0;36m<cell line: 14>\u001b[0;34m()\u001b[0m\n\u001b[1;32m     12\u001b[0m \u001b[0;31m# Standardize the features\u001b[0m\u001b[0;34m\u001b[0m\u001b[0;34m\u001b[0m\u001b[0m\n\u001b[1;32m     13\u001b[0m \u001b[0mscaler\u001b[0m \u001b[0;34m=\u001b[0m \u001b[0mStandardScaler\u001b[0m\u001b[0;34m(\u001b[0m\u001b[0;34m)\u001b[0m\u001b[0;34m\u001b[0m\u001b[0;34m\u001b[0m\u001b[0m\n\u001b[0;32m---> 14\u001b[0;31m \u001b[0mfeatures_scaled\u001b[0m \u001b[0;34m=\u001b[0m \u001b[0mscaler\u001b[0m\u001b[0;34m.\u001b[0m\u001b[0mfit_transform\u001b[0m\u001b[0;34m(\u001b[0m\u001b[0mfeatures\u001b[0m\u001b[0;34m)\u001b[0m\u001b[0;34m\u001b[0m\u001b[0;34m\u001b[0m\u001b[0m\n\u001b[0m\u001b[1;32m     15\u001b[0m \u001b[0;34m\u001b[0m\u001b[0m\n\u001b[1;32m     16\u001b[0m \u001b[0;31m# Create a KMeans instance with 5 clusters (you can change this number as needed)\u001b[0m\u001b[0;34m\u001b[0m\u001b[0;34m\u001b[0m\u001b[0m\n",
            "\u001b[0;32m/usr/local/lib/python3.10/dist-packages/sklearn/utils/_set_output.py\u001b[0m in \u001b[0;36mwrapped\u001b[0;34m(self, X, *args, **kwargs)\u001b[0m\n\u001b[1;32m    138\u001b[0m     \u001b[0;34m@\u001b[0m\u001b[0mwraps\u001b[0m\u001b[0;34m(\u001b[0m\u001b[0mf\u001b[0m\u001b[0;34m)\u001b[0m\u001b[0;34m\u001b[0m\u001b[0;34m\u001b[0m\u001b[0m\n\u001b[1;32m    139\u001b[0m     \u001b[0;32mdef\u001b[0m \u001b[0mwrapped\u001b[0m\u001b[0;34m(\u001b[0m\u001b[0mself\u001b[0m\u001b[0;34m,\u001b[0m \u001b[0mX\u001b[0m\u001b[0;34m,\u001b[0m \u001b[0;34m*\u001b[0m\u001b[0margs\u001b[0m\u001b[0;34m,\u001b[0m \u001b[0;34m**\u001b[0m\u001b[0mkwargs\u001b[0m\u001b[0;34m)\u001b[0m\u001b[0;34m:\u001b[0m\u001b[0;34m\u001b[0m\u001b[0;34m\u001b[0m\u001b[0m\n\u001b[0;32m--> 140\u001b[0;31m         \u001b[0mdata_to_wrap\u001b[0m \u001b[0;34m=\u001b[0m \u001b[0mf\u001b[0m\u001b[0;34m(\u001b[0m\u001b[0mself\u001b[0m\u001b[0;34m,\u001b[0m \u001b[0mX\u001b[0m\u001b[0;34m,\u001b[0m \u001b[0;34m*\u001b[0m\u001b[0margs\u001b[0m\u001b[0;34m,\u001b[0m \u001b[0;34m**\u001b[0m\u001b[0mkwargs\u001b[0m\u001b[0;34m)\u001b[0m\u001b[0;34m\u001b[0m\u001b[0;34m\u001b[0m\u001b[0m\n\u001b[0m\u001b[1;32m    141\u001b[0m         \u001b[0;32mif\u001b[0m \u001b[0misinstance\u001b[0m\u001b[0;34m(\u001b[0m\u001b[0mdata_to_wrap\u001b[0m\u001b[0;34m,\u001b[0m \u001b[0mtuple\u001b[0m\u001b[0;34m)\u001b[0m\u001b[0;34m:\u001b[0m\u001b[0;34m\u001b[0m\u001b[0;34m\u001b[0m\u001b[0m\n\u001b[1;32m    142\u001b[0m             \u001b[0;31m# only wrap the first output for cross decomposition\u001b[0m\u001b[0;34m\u001b[0m\u001b[0;34m\u001b[0m\u001b[0m\n",
            "\u001b[0;32m/usr/local/lib/python3.10/dist-packages/sklearn/base.py\u001b[0m in \u001b[0;36mfit_transform\u001b[0;34m(self, X, y, **fit_params)\u001b[0m\n\u001b[1;32m    876\u001b[0m         \u001b[0;32mif\u001b[0m \u001b[0my\u001b[0m \u001b[0;32mis\u001b[0m \u001b[0;32mNone\u001b[0m\u001b[0;34m:\u001b[0m\u001b[0;34m\u001b[0m\u001b[0;34m\u001b[0m\u001b[0m\n\u001b[1;32m    877\u001b[0m             \u001b[0;31m# fit method of arity 1 (unsupervised transformation)\u001b[0m\u001b[0;34m\u001b[0m\u001b[0;34m\u001b[0m\u001b[0m\n\u001b[0;32m--> 878\u001b[0;31m             \u001b[0;32mreturn\u001b[0m \u001b[0mself\u001b[0m\u001b[0;34m.\u001b[0m\u001b[0mfit\u001b[0m\u001b[0;34m(\u001b[0m\u001b[0mX\u001b[0m\u001b[0;34m,\u001b[0m \u001b[0;34m**\u001b[0m\u001b[0mfit_params\u001b[0m\u001b[0;34m)\u001b[0m\u001b[0;34m.\u001b[0m\u001b[0mtransform\u001b[0m\u001b[0;34m(\u001b[0m\u001b[0mX\u001b[0m\u001b[0;34m)\u001b[0m\u001b[0;34m\u001b[0m\u001b[0;34m\u001b[0m\u001b[0m\n\u001b[0m\u001b[1;32m    879\u001b[0m         \u001b[0;32melse\u001b[0m\u001b[0;34m:\u001b[0m\u001b[0;34m\u001b[0m\u001b[0;34m\u001b[0m\u001b[0m\n\u001b[1;32m    880\u001b[0m             \u001b[0;31m# fit method of arity 2 (supervised transformation)\u001b[0m\u001b[0;34m\u001b[0m\u001b[0;34m\u001b[0m\u001b[0m\n",
            "\u001b[0;32m/usr/local/lib/python3.10/dist-packages/sklearn/preprocessing/_data.py\u001b[0m in \u001b[0;36mfit\u001b[0;34m(self, X, y, sample_weight)\u001b[0m\n\u001b[1;32m    822\u001b[0m         \u001b[0;31m# Reset internal state before fitting\u001b[0m\u001b[0;34m\u001b[0m\u001b[0;34m\u001b[0m\u001b[0m\n\u001b[1;32m    823\u001b[0m         \u001b[0mself\u001b[0m\u001b[0;34m.\u001b[0m\u001b[0m_reset\u001b[0m\u001b[0;34m(\u001b[0m\u001b[0;34m)\u001b[0m\u001b[0;34m\u001b[0m\u001b[0;34m\u001b[0m\u001b[0m\n\u001b[0;32m--> 824\u001b[0;31m         \u001b[0;32mreturn\u001b[0m \u001b[0mself\u001b[0m\u001b[0;34m.\u001b[0m\u001b[0mpartial_fit\u001b[0m\u001b[0;34m(\u001b[0m\u001b[0mX\u001b[0m\u001b[0;34m,\u001b[0m \u001b[0my\u001b[0m\u001b[0;34m,\u001b[0m \u001b[0msample_weight\u001b[0m\u001b[0;34m)\u001b[0m\u001b[0;34m\u001b[0m\u001b[0;34m\u001b[0m\u001b[0m\n\u001b[0m\u001b[1;32m    825\u001b[0m \u001b[0;34m\u001b[0m\u001b[0m\n\u001b[1;32m    826\u001b[0m     \u001b[0;32mdef\u001b[0m \u001b[0mpartial_fit\u001b[0m\u001b[0;34m(\u001b[0m\u001b[0mself\u001b[0m\u001b[0;34m,\u001b[0m \u001b[0mX\u001b[0m\u001b[0;34m,\u001b[0m \u001b[0my\u001b[0m\u001b[0;34m=\u001b[0m\u001b[0;32mNone\u001b[0m\u001b[0;34m,\u001b[0m \u001b[0msample_weight\u001b[0m\u001b[0;34m=\u001b[0m\u001b[0;32mNone\u001b[0m\u001b[0;34m)\u001b[0m\u001b[0;34m:\u001b[0m\u001b[0;34m\u001b[0m\u001b[0;34m\u001b[0m\u001b[0m\n",
            "\u001b[0;32m/usr/local/lib/python3.10/dist-packages/sklearn/preprocessing/_data.py\u001b[0m in \u001b[0;36mpartial_fit\u001b[0;34m(self, X, y, sample_weight)\u001b[0m\n\u001b[1;32m    859\u001b[0m \u001b[0;34m\u001b[0m\u001b[0m\n\u001b[1;32m    860\u001b[0m         \u001b[0mfirst_call\u001b[0m \u001b[0;34m=\u001b[0m \u001b[0;32mnot\u001b[0m \u001b[0mhasattr\u001b[0m\u001b[0;34m(\u001b[0m\u001b[0mself\u001b[0m\u001b[0;34m,\u001b[0m \u001b[0;34m\"n_samples_seen_\"\u001b[0m\u001b[0;34m)\u001b[0m\u001b[0;34m\u001b[0m\u001b[0;34m\u001b[0m\u001b[0m\n\u001b[0;32m--> 861\u001b[0;31m         X = self._validate_data(\n\u001b[0m\u001b[1;32m    862\u001b[0m             \u001b[0mX\u001b[0m\u001b[0;34m,\u001b[0m\u001b[0;34m\u001b[0m\u001b[0;34m\u001b[0m\u001b[0m\n\u001b[1;32m    863\u001b[0m             \u001b[0maccept_sparse\u001b[0m\u001b[0;34m=\u001b[0m\u001b[0;34m(\u001b[0m\u001b[0;34m\"csr\"\u001b[0m\u001b[0;34m,\u001b[0m \u001b[0;34m\"csc\"\u001b[0m\u001b[0;34m)\u001b[0m\u001b[0;34m,\u001b[0m\u001b[0;34m\u001b[0m\u001b[0;34m\u001b[0m\u001b[0m\n",
            "\u001b[0;32m/usr/local/lib/python3.10/dist-packages/sklearn/base.py\u001b[0m in \u001b[0;36m_validate_data\u001b[0;34m(self, X, y, reset, validate_separately, **check_params)\u001b[0m\n\u001b[1;32m    563\u001b[0m             \u001b[0;32mraise\u001b[0m \u001b[0mValueError\u001b[0m\u001b[0;34m(\u001b[0m\u001b[0;34m\"Validation should be done on X, y or both.\"\u001b[0m\u001b[0;34m)\u001b[0m\u001b[0;34m\u001b[0m\u001b[0;34m\u001b[0m\u001b[0m\n\u001b[1;32m    564\u001b[0m         \u001b[0;32melif\u001b[0m \u001b[0;32mnot\u001b[0m \u001b[0mno_val_X\u001b[0m \u001b[0;32mand\u001b[0m \u001b[0mno_val_y\u001b[0m\u001b[0;34m:\u001b[0m\u001b[0;34m\u001b[0m\u001b[0;34m\u001b[0m\u001b[0m\n\u001b[0;32m--> 565\u001b[0;31m             \u001b[0mX\u001b[0m \u001b[0;34m=\u001b[0m \u001b[0mcheck_array\u001b[0m\u001b[0;34m(\u001b[0m\u001b[0mX\u001b[0m\u001b[0;34m,\u001b[0m \u001b[0minput_name\u001b[0m\u001b[0;34m=\u001b[0m\u001b[0;34m\"X\"\u001b[0m\u001b[0;34m,\u001b[0m \u001b[0;34m**\u001b[0m\u001b[0mcheck_params\u001b[0m\u001b[0;34m)\u001b[0m\u001b[0;34m\u001b[0m\u001b[0;34m\u001b[0m\u001b[0m\n\u001b[0m\u001b[1;32m    566\u001b[0m             \u001b[0mout\u001b[0m \u001b[0;34m=\u001b[0m \u001b[0mX\u001b[0m\u001b[0;34m\u001b[0m\u001b[0;34m\u001b[0m\u001b[0m\n\u001b[1;32m    567\u001b[0m         \u001b[0;32melif\u001b[0m \u001b[0mno_val_X\u001b[0m \u001b[0;32mand\u001b[0m \u001b[0;32mnot\u001b[0m \u001b[0mno_val_y\u001b[0m\u001b[0;34m:\u001b[0m\u001b[0;34m\u001b[0m\u001b[0;34m\u001b[0m\u001b[0m\n",
            "\u001b[0;32m/usr/local/lib/python3.10/dist-packages/sklearn/utils/validation.py\u001b[0m in \u001b[0;36mcheck_array\u001b[0;34m(array, accept_sparse, accept_large_sparse, dtype, order, copy, force_all_finite, ensure_2d, allow_nd, ensure_min_samples, ensure_min_features, estimator, input_name)\u001b[0m\n\u001b[1;32m    929\u001b[0m         \u001b[0mn_samples\u001b[0m \u001b[0;34m=\u001b[0m \u001b[0m_num_samples\u001b[0m\u001b[0;34m(\u001b[0m\u001b[0marray\u001b[0m\u001b[0;34m)\u001b[0m\u001b[0;34m\u001b[0m\u001b[0;34m\u001b[0m\u001b[0m\n\u001b[1;32m    930\u001b[0m         \u001b[0;32mif\u001b[0m \u001b[0mn_samples\u001b[0m \u001b[0;34m<\u001b[0m \u001b[0mensure_min_samples\u001b[0m\u001b[0;34m:\u001b[0m\u001b[0;34m\u001b[0m\u001b[0;34m\u001b[0m\u001b[0m\n\u001b[0;32m--> 931\u001b[0;31m             raise ValueError(\n\u001b[0m\u001b[1;32m    932\u001b[0m                 \u001b[0;34m\"Found array with %d sample(s) (shape=%s) while a\"\u001b[0m\u001b[0;34m\u001b[0m\u001b[0;34m\u001b[0m\u001b[0m\n\u001b[1;32m    933\u001b[0m                 \u001b[0;34m\" minimum of %d is required%s.\"\u001b[0m\u001b[0;34m\u001b[0m\u001b[0;34m\u001b[0m\u001b[0m\n",
            "\u001b[0;31mValueError\u001b[0m: Found array with 0 sample(s) (shape=(0, 3)) while a minimum of 1 is required by StandardScaler."
          ]
        }
      ],
      "source": [
        "# K-Means clustering\n",
        "\n",
        "import pandas as pd\n",
        "from sklearn.cluster import KMeans\n",
        "from sklearn.preprocessing import StandardScaler\n",
        "# Select features\n",
        "features = df[['age', 'income', 'height']]  # Add more features as needed\n",
        "\n",
        "# Preprocessing: Convert categorical variable 'orientation' into dummy/indicator variables\n",
        "features = pd.get_dummies(features)\n",
        "\n",
        "# Standardize the features\n",
        "scaler = StandardScaler()\n",
        "features_scaled = scaler.fit_transform(features)\n",
        "\n",
        "# Create a KMeans instance with 5 clusters (you can change this number as needed)\n",
        "kmeans = KMeans(n_clusters=4, random_state=42)\n",
        "\n",
        "# Fit the model\n",
        "kmeans.fit(features_scaled)\n",
        "\n",
        "# Get the cluster assignments for each data point\n",
        "clusters = kmeans.labels_"
      ]
    },
    {
      "cell_type": "code",
      "execution_count": null,
      "id": "bccfc4fa",
      "metadata": {
        "id": "bccfc4fa",
        "outputId": "c0abb25f-1d53-4354-bcf4-8255fc7b6855"
      },
      "outputs": [
        {
          "name": "stdout",
          "output_type": "stream",
          "text": [
            "Silhouette Score: 0.5797437971684263\n"
          ]
        }
      ],
      "source": [
        "from sklearn.metrics import silhouette_score\n",
        "\n",
        "# Assume that 'clusters' are the cluster assignments of the data points\n",
        "# and 'features_scaled' is your scaled feature matrix\n",
        "silhouette_avg = silhouette_score(features_scaled, clusters)\n",
        "\n",
        "print(f\"Silhouette Score: {silhouette_avg}\")"
      ]
    },
    {
      "cell_type": "code",
      "execution_count": null,
      "id": "b395d759",
      "metadata": {
        "id": "b395d759",
        "outputId": "d9c6b4f6-8817-477b-fafd-dfa3bc07a53e"
      },
      "outputs": [
        {
          "name": "stdout",
          "output_type": "stream",
          "text": [
            "Davies-Bouldin Score: 2.5432612279652123\n"
          ]
        }
      ],
      "source": [
        "from sklearn.metrics import davies_bouldin_score\n",
        "\n",
        "# Assume that 'clusters' are the cluster assignments of the data points\n",
        "# and 'features_scaled' is your scaled feature matrix\n",
        "db_score = davies_bouldin_score(features_scaled, clusters)\n",
        "\n",
        "print(f\"Davies-Bouldin Score: {db_score}\")"
      ]
    },
    {
      "cell_type": "code",
      "execution_count": null,
      "id": "67d70e3f",
      "metadata": {
        "id": "67d70e3f"
      },
      "outputs": [],
      "source": [
        "# PRINCIPAL COMPONENT ANALYSIS\n",
        "# Import necessary libraries\n",
        "import pandas as pd\n",
        "from sklearn.decomposition import PCA\n",
        "from sklearn.preprocessing import StandardScaler, OneHotEncoder\n",
        "from sklearn.compose import ColumnTransformer\n",
        "from sklearn.pipeline import Pipeline\n",
        "\n",
        "\n",
        "# Define preprocessing pipeline\n",
        "preprocessor = ColumnTransformer(\n",
        "    transformers=[\n",
        "        ('num', StandardScaler(), ['age', 'income']),\n",
        "        ('cat', OneHotEncoder(), ['orientation'])\n",
        "    ])\n",
        "\n",
        "# Applying the preprocessing\n",
        "df_preprocessed = preprocessor.fit_transform(df)\n",
        "\n",
        "# Apply PCA\n",
        "pca = PCA(n_components=2)  # adjust as needed\n",
        "principalComponents = pca.fit_transform(df_preprocessed)\n",
        "\n",
        "# Convert the principal components for each sample to a dataframe\n",
        "principalDf = pd.DataFrame(data=principalComponents, columns=['PC1', 'PC2'])  # adjust column names as needed\n",
        "\n",
        "# Now you can use principalDf in place of the original dataset for further analysis"
      ]
    },
    {
      "cell_type": "code",
      "execution_count": null,
      "id": "9e7ec16a",
      "metadata": {
        "id": "9e7ec16a"
      },
      "outputs": [],
      "source": [
        "# K-means on the dataset principalDf we got after running PRINCIPAL COMPONENT ANALYSIS\n",
        "from sklearn.cluster import KMeans\n",
        "\n",
        "# Apply k-means clustering on the principal components\n",
        "kmeans = KMeans(n_clusters=4, random_state=0).fit(principalDf)\n",
        "\n",
        "# Add the cluster labels to principalDf\n",
        "principalDf['cluster'] = kmeans.labels_"
      ]
    },
    {
      "cell_type": "code",
      "execution_count": null,
      "id": "664ed84b",
      "metadata": {
        "id": "664ed84b",
        "outputId": "58e40e78-2578-42e5-fed4-e80adabffad3"
      },
      "outputs": [
        {
          "name": "stdout",
          "output_type": "stream",
          "text": [
            "Silhouette Score:  0.6720369043677438\n"
          ]
        }
      ],
      "source": [
        "# Running silhouette_score on the K-means done on Principal component analysis dataset\n",
        "from sklearn.cluster import KMeans\n",
        "from sklearn.metrics import silhouette_score\n",
        "\n",
        "# Apply k-means clustering on the principal components\n",
        "kmeans = KMeans(n_clusters=4, random_state=0).fit(principalDf)\n",
        "\n",
        "# Add the cluster labels to principalDf\n",
        "principalDf['cluster'] = kmeans.labels_\n",
        "\n",
        "# Compute the silhouette score\n",
        "score = silhouette_score(principalDf, kmeans.labels_)\n",
        "\n",
        "print(\"Silhouette Score: \", score)"
      ]
    },
    {
      "cell_type": "code",
      "execution_count": null,
      "id": "59a21b4c",
      "metadata": {
        "id": "59a21b4c",
        "outputId": "40c42bf6-aace-4020-c412-6d91880ea976"
      },
      "outputs": [
        {
          "name": "stdout",
          "output_type": "stream",
          "text": [
            "Davies-Bouldin Score:  0.3607657432497562\n"
          ]
        }
      ],
      "source": [
        "# Running davies_bouldin_score on the K-means done on Principal component analysis dataset\n",
        "\n",
        "from sklearn.cluster import KMeans\n",
        "from sklearn.metrics import davies_bouldin_score\n",
        "\n",
        "# Apply k-means clustering on the principal components\n",
        "kmeans = KMeans(n_clusters=3, random_state=0).fit(principalDf)\n",
        "\n",
        "# Add the cluster labels to principalDf\n",
        "principalDf['cluster'] = kmeans.labels_\n",
        "\n",
        "# Compute the Davies-Bouldin score\n",
        "score = davies_bouldin_score(principalDf, kmeans.labels_)\n",
        "\n",
        "print(\"Davies-Bouldin Score: \", score)"
      ]
    },
    {
      "cell_type": "code",
      "execution_count": null,
      "id": "8364fe83",
      "metadata": {
        "id": "8364fe83",
        "outputId": "0a0da2f1-8fe8-47c8-f287-6865adeac581"
      },
      "outputs": [
        {
          "data": {
            "image/png": "[encoded data removed]",
            "text/plain": [
              "<Figure size 1152x720 with 1 Axes>"
            ]
          },
          "metadata": {},
          "output_type": "display_data"
        }
      ],
      "source": [
        "from sklearn.cluster import KMeans\n",
        "import matplotlib.pyplot as plt\n",
        "\n",
        "# List to hold the SSE for each k\n",
        "sse = []\n",
        "\n",
        "# We'll check for k from 1 to 10\n",
        "for k in range(1, 11):\n",
        "    kmeans = KMeans(n_clusters=k, random_state=0).fit(principalDf)\n",
        "    sse.append(kmeans.inertia_)\n",
        "\n",
        "# Plot the results\n",
        "plt.plot(range(1, 11), sse, marker='o')\n",
        "plt.xlabel('Number of clusters (k)')\n",
        "plt.ylabel('Sum of squared errors (SSE)')\n",
        "plt.title('Elbow Method for Determining k')\n",
        "plt.show()"
      ]
    },
    {
      "cell_type": "code",
      "execution_count": null,
      "id": "41fd7093",
      "metadata": {
        "id": "41fd7093",
        "outputId": "8f458cd3-0ece-4aab-b935-1a23cd709d1f"
      },
      "outputs": [
        {
          "name": "stdout",
          "output_type": "stream",
          "text": [
            "[[1.80582633e+00 3.19785208e+01 2.44413265e+03]\n",
            " [1.74472169e+00 2.90115163e+01 1.00000000e+06]\n",
            " [1.89863345e+00 3.58654212e+01 8.44196506e+04]\n",
            " [1.94923858e+00 3.58477157e+01 3.10913706e+05]]\n"
          ]
        }
      ],
      "source": [
        "import pandas as pd\n",
        "from sklearn.cluster import KMeans\n",
        "from sklearn.preprocessing import LabelEncoder\n",
        "\n",
        "# Load the dataset\n",
        "df = pd.read_csv('okcupid_profiles.csv')\n",
        "\n",
        "# Select the variables\n",
        "df = df[['orientation', 'age', 'income']]\n",
        "\n",
        "\n",
        "\n",
        "# Convert categorical variable into numerical\n",
        "le = LabelEncoder()\n",
        "df['orientation'] = le.fit_transform(df['orientation'])\n",
        "\n",
        "# Perform k-means clustering\n",
        "kmeans = KMeans(n_clusters=4, random_state=0).fit(df)\n",
        "\n",
        "# Print the cluster centers\n",
        "print(kmeans.cluster_centers_)"
      ]
    },
    {
      "cell_type": "code",
      "execution_count": null,
      "id": "6b7e0a03",
      "metadata": {
        "id": "6b7e0a03",
        "outputId": "2bbe7b29-83a7-4934-b3a3-50d00f7fccc5"
      },
      "outputs": [
        {
          "data": {
            "image/png": "[encoded data removed]",
            "text/plain": [
              "<Figure size 1152x720 with 1 Axes>"
            ]
          },
          "metadata": {},
          "output_type": "display_data"
        }
      ],
      "source": [
        "import pandas as pd\n",
        "import matplotlib.pyplot as plt\n",
        "from sklearn.cluster import KMeans\n",
        "from sklearn.preprocessing import LabelEncoder, StandardScaler\n",
        "from sklearn.decomposition import PCA\n",
        "\n",
        "# Load the dataset\n",
        "df = pd.read_csv('okcupid_profiles.csv')\n",
        "\n",
        "# Select the variables\n",
        "df = df[['orientation', 'age', 'income']]\n",
        "\n",
        "# Handle missing values (if any)\n",
        "df = df.dropna()\n",
        "\n",
        "# Convert categorical variable into numerical\n",
        "le = LabelEncoder()\n",
        "df['orientation'] = le.fit_transform(df['orientation'])\n",
        "\n",
        "# Perform k-means clustering\n",
        "kmeans = KMeans(n_clusters=4)\n",
        "kmeans.fit(df)\n",
        "df['cluster'] = kmeans.labels_\n",
        "\n",
        "# Perform PCA for dimensionality reduction\n",
        "pca = PCA(n_components=2)\n",
        "principalComponents = pca.fit_transform(df)\n",
        "principalDf = pd.DataFrame(data = principalComponents, columns = ['principal component 1', 'principal component 2'])\n",
        "\n",
        "# Add the cluster column to the principalDf\n",
        "principalDf['cluster'] = df['cluster']\n",
        "\n",
        "# Plot the data points\n",
        "colors = ['r', 'g', 'b', 'y']\n",
        "for cluster in set(kmeans.labels_):\n",
        "    mask = principalDf['cluster'] == cluster\n",
        "    plt.scatter(principalDf[mask]['principal component 1'], principalDf[mask]['principal component 2'], c=colors[cluster], label=f'Cluster {cluster}')\n",
        "plt.legend()\n",
        "plt.show()"
      ]
    },
    {
      "cell_type": "code",
      "execution_count": null,
      "id": "c16dd32f",
      "metadata": {
        "id": "c16dd32f"
      },
      "outputs": [],
      "source": [
        "# K-Means clustering on the datatset recieved post principal component analysis\n",
        "\n",
        "import pandas as pd\n",
        "from sklearn.cluster import KMeans\n",
        "from sklearn.preprocessing import StandardScaler\n",
        "\n",
        "# Select features\n",
        "features = df[['age', 'sex','orientation']]  # Add more features as needed\n",
        "\n",
        "# Preprocessing: Convert categorical variable 'orientation' into dummy/indicator variables\n",
        "features = pd.get_dummies(features)\n",
        "\n",
        "# Standardize the features\n",
        "scaler = StandardScaler()\n",
        "features_scaled = scaler.fit_transform(features)\n",
        "\n",
        "# Create a KMeans instance with 5 clusters (you can change this number as needed)\n",
        "kmeans = KMeans(n_clusters=5, random_state=42)\n",
        "\n",
        "# Fit the model\n",
        "kmeans.fit(features_scaled)\n",
        "\n",
        "# Get the cluster assignments for each data point\n",
        "clusters = kmeans.labels_"
      ]
    },
    {
      "cell_type": "code",
      "execution_count": null,
      "id": "45d77315",
      "metadata": {
        "id": "45d77315"
      },
      "outputs": [],
      "source": [
        "# K-Means clustering\n",
        "\n",
        "import pandas as pd\n",
        "from sklearn.cluster import KMeans\n",
        "from sklearn.preprocessing import StandardScaler\n",
        "\n",
        "# Select features\n",
        "features = df[['age', 'sex','orientation']]  # Add more features as needed\n",
        "\n",
        "# Preprocessing: Convert categorical variable 'orientation' into dummy/indicator variables\n",
        "features = pd.get_dummies(features)\n",
        "\n",
        "# Standardize the features\n",
        "scaler = StandardScaler()\n",
        "features_scaled = scaler.fit_transform(features)\n",
        "\n",
        "# Create a KMeans instance with 5 clusters (you can change this number as needed)\n",
        "kmeans = KMeans(n_clusters=5, random_state=42)\n",
        "\n",
        "# Fit the model\n",
        "kmeans.fit(features_scaled)\n",
        "\n",
        "# Get the cluster assignments for each data point\n",
        "clusters = kmeans.labels_"
      ]
    },
    {
      "cell_type": "code",
      "execution_count": null,
      "id": "51a73e7b",
      "metadata": {
        "id": "51a73e7b",
        "outputId": "481297e4-bb5c-4f90-b1af-b83f01c2cc57"
      },
      "outputs": [
        {
          "name": "stdout",
          "output_type": "stream",
          "text": [
            "Silhouette Score: 0.630185480661385\n"
          ]
        }
      ],
      "source": [
        "from sklearn.metrics import silhouette_score\n",
        "\n",
        "# Assume that 'clusters' are the cluster assignments of the data points\n",
        "# and 'features_scaled' is your scaled feature matrix\n",
        "silhouette_avg = silhouette_score(features_scaled, clusters)\n",
        "\n",
        "print(f\"Silhouette Score: {silhouette_avg}\")"
      ]
    },
    {
      "cell_type": "code",
      "execution_count": null,
      "id": "e2a57929",
      "metadata": {
        "id": "e2a57929",
        "outputId": "cf9b9807-84c0-48ff-d1c7-20c367736e1e"
      },
      "outputs": [
        {
          "ename": "ValueError",
          "evalue": "could not convert string to float: 'single'",
          "output_type": "error",
          "traceback": [
            "\u001b[1;31m---------------------------------------------------------------------------\u001b[0m",
            "\u001b[1;31mValueError\u001b[0m                                Traceback (most recent call last)",
            "\u001b[1;32m~\\AppData\\Local\\Temp/ipykernel_19664/2159699340.py\u001b[0m in \u001b[0;36m<module>\u001b[1;34m\u001b[0m\n\u001b[0;32m     11\u001b[0m \u001b[1;33m\u001b[0m\u001b[0m\n\u001b[0;32m     12\u001b[0m \u001b[1;31m# Compute the cosine similarity matrix\u001b[0m\u001b[1;33m\u001b[0m\u001b[1;33m\u001b[0m\u001b[0m\n\u001b[1;32m---> 13\u001b[1;33m \u001b[0msimilarity_matrix\u001b[0m \u001b[1;33m=\u001b[0m \u001b[0mcosine_similarity\u001b[0m\u001b[1;33m(\u001b[0m\u001b[0mdf_encoded\u001b[0m\u001b[1;33m)\u001b[0m\u001b[1;33m\u001b[0m\u001b[1;33m\u001b[0m\u001b[0m\n\u001b[0m\u001b[0;32m     14\u001b[0m \u001b[1;33m\u001b[0m\u001b[0m\n\u001b[0;32m     15\u001b[0m \u001b[1;31m# Convert to DataFrame for better usability\u001b[0m\u001b[1;33m\u001b[0m\u001b[1;33m\u001b[0m\u001b[0m\n",
            "\u001b[1;32m~\\anaconda3\\lib\\site-packages\\sklearn\\metrics\\pairwise.py\u001b[0m in \u001b[0;36mcosine_similarity\u001b[1;34m(X, Y, dense_output)\u001b[0m\n\u001b[0;32m   1391\u001b[0m     \u001b[1;31m# to avoid recursive import\u001b[0m\u001b[1;33m\u001b[0m\u001b[1;33m\u001b[0m\u001b[0m\n\u001b[0;32m   1392\u001b[0m \u001b[1;33m\u001b[0m\u001b[0m\n\u001b[1;32m-> 1393\u001b[1;33m     \u001b[0mX\u001b[0m\u001b[1;33m,\u001b[0m \u001b[0mY\u001b[0m \u001b[1;33m=\u001b[0m \u001b[0mcheck_pairwise_arrays\u001b[0m\u001b[1;33m(\u001b[0m\u001b[0mX\u001b[0m\u001b[1;33m,\u001b[0m \u001b[0mY\u001b[0m\u001b[1;33m)\u001b[0m\u001b[1;33m\u001b[0m\u001b[1;33m\u001b[0m\u001b[0m\n\u001b[0m\u001b[0;32m   1394\u001b[0m \u001b[1;33m\u001b[0m\u001b[0m\n\u001b[0;32m   1395\u001b[0m     \u001b[0mX_normalized\u001b[0m \u001b[1;33m=\u001b[0m \u001b[0mnormalize\u001b[0m\u001b[1;33m(\u001b[0m\u001b[0mX\u001b[0m\u001b[1;33m,\u001b[0m \u001b[0mcopy\u001b[0m\u001b[1;33m=\u001b[0m\u001b[1;32mTrue\u001b[0m\u001b[1;33m)\u001b[0m\u001b[1;33m\u001b[0m\u001b[1;33m\u001b[0m\u001b[0m\n",
            "\u001b[1;32m~\\anaconda3\\lib\\site-packages\\sklearn\\metrics\\pairwise.py\u001b[0m in \u001b[0;36mcheck_pairwise_arrays\u001b[1;34m(X, Y, precomputed, dtype, accept_sparse, force_all_finite, copy)\u001b[0m\n\u001b[0;32m    144\u001b[0m \u001b[1;33m\u001b[0m\u001b[0m\n\u001b[0;32m    145\u001b[0m     \u001b[1;32mif\u001b[0m \u001b[0mY\u001b[0m \u001b[1;32mis\u001b[0m \u001b[0mX\u001b[0m \u001b[1;32mor\u001b[0m \u001b[0mY\u001b[0m \u001b[1;32mis\u001b[0m \u001b[1;32mNone\u001b[0m\u001b[1;33m:\u001b[0m\u001b[1;33m\u001b[0m\u001b[1;33m\u001b[0m\u001b[0m\n\u001b[1;32m--> 146\u001b[1;33m         X = Y = check_array(\n\u001b[0m\u001b[0;32m    147\u001b[0m             \u001b[0mX\u001b[0m\u001b[1;33m,\u001b[0m\u001b[1;33m\u001b[0m\u001b[1;33m\u001b[0m\u001b[0m\n\u001b[0;32m    148\u001b[0m             \u001b[0maccept_sparse\u001b[0m\u001b[1;33m=\u001b[0m\u001b[0maccept_sparse\u001b[0m\u001b[1;33m,\u001b[0m\u001b[1;33m\u001b[0m\u001b[1;33m\u001b[0m\u001b[0m\n",
            "\u001b[1;32m~\\anaconda3\\lib\\site-packages\\sklearn\\utils\\validation.py\u001b[0m in \u001b[0;36mcheck_array\u001b[1;34m(array, accept_sparse, accept_large_sparse, dtype, order, copy, force_all_finite, ensure_2d, allow_nd, ensure_min_samples, ensure_min_features, estimator, input_name)\u001b[0m\n\u001b[0;32m    877\u001b[0m                     \u001b[0marray\u001b[0m \u001b[1;33m=\u001b[0m \u001b[0mxp\u001b[0m\u001b[1;33m.\u001b[0m\u001b[0mastype\u001b[0m\u001b[1;33m(\u001b[0m\u001b[0marray\u001b[0m\u001b[1;33m,\u001b[0m \u001b[0mdtype\u001b[0m\u001b[1;33m,\u001b[0m \u001b[0mcopy\u001b[0m\u001b[1;33m=\u001b[0m\u001b[1;32mFalse\u001b[0m\u001b[1;33m)\u001b[0m\u001b[1;33m\u001b[0m\u001b[1;33m\u001b[0m\u001b[0m\n\u001b[0;32m    878\u001b[0m                 \u001b[1;32melse\u001b[0m\u001b[1;33m:\u001b[0m\u001b[1;33m\u001b[0m\u001b[1;33m\u001b[0m\u001b[0m\n\u001b[1;32m--> 879\u001b[1;33m                     \u001b[0marray\u001b[0m \u001b[1;33m=\u001b[0m \u001b[0m_asarray_with_order\u001b[0m\u001b[1;33m(\u001b[0m\u001b[0marray\u001b[0m\u001b[1;33m,\u001b[0m \u001b[0morder\u001b[0m\u001b[1;33m=\u001b[0m\u001b[0morder\u001b[0m\u001b[1;33m,\u001b[0m \u001b[0mdtype\u001b[0m\u001b[1;33m=\u001b[0m\u001b[0mdtype\u001b[0m\u001b[1;33m,\u001b[0m \u001b[0mxp\u001b[0m\u001b[1;33m=\u001b[0m\u001b[0mxp\u001b[0m\u001b[1;33m)\u001b[0m\u001b[1;33m\u001b[0m\u001b[1;33m\u001b[0m\u001b[0m\n\u001b[0m\u001b[0;32m    880\u001b[0m             \u001b[1;32mexcept\u001b[0m \u001b[0mComplexWarning\u001b[0m \u001b[1;32mas\u001b[0m \u001b[0mcomplex_warning\u001b[0m\u001b[1;33m:\u001b[0m\u001b[1;33m\u001b[0m\u001b[1;33m\u001b[0m\u001b[0m\n\u001b[0;32m    881\u001b[0m                 raise ValueError(\n",
            "\u001b[1;32m~\\anaconda3\\lib\\site-packages\\sklearn\\utils\\_array_api.py\u001b[0m in \u001b[0;36m_asarray_with_order\u001b[1;34m(array, dtype, order, copy, xp)\u001b[0m\n\u001b[0;32m    183\u001b[0m     \u001b[1;32mif\u001b[0m \u001b[0mxp\u001b[0m\u001b[1;33m.\u001b[0m\u001b[0m__name__\u001b[0m \u001b[1;32min\u001b[0m \u001b[1;33m{\u001b[0m\u001b[1;34m\"numpy\"\u001b[0m\u001b[1;33m,\u001b[0m \u001b[1;34m\"numpy.array_api\"\u001b[0m\u001b[1;33m}\u001b[0m\u001b[1;33m:\u001b[0m\u001b[1;33m\u001b[0m\u001b[1;33m\u001b[0m\u001b[0m\n\u001b[0;32m    184\u001b[0m         \u001b[1;31m# Use NumPy API to support order\u001b[0m\u001b[1;33m\u001b[0m\u001b[1;33m\u001b[0m\u001b[0m\n\u001b[1;32m--> 185\u001b[1;33m         \u001b[0marray\u001b[0m \u001b[1;33m=\u001b[0m \u001b[0mnumpy\u001b[0m\u001b[1;33m.\u001b[0m\u001b[0masarray\u001b[0m\u001b[1;33m(\u001b[0m\u001b[0marray\u001b[0m\u001b[1;33m,\u001b[0m \u001b[0morder\u001b[0m\u001b[1;33m=\u001b[0m\u001b[0morder\u001b[0m\u001b[1;33m,\u001b[0m \u001b[0mdtype\u001b[0m\u001b[1;33m=\u001b[0m\u001b[0mdtype\u001b[0m\u001b[1;33m)\u001b[0m\u001b[1;33m\u001b[0m\u001b[1;33m\u001b[0m\u001b[0m\n\u001b[0m\u001b[0;32m    186\u001b[0m         \u001b[1;32mreturn\u001b[0m \u001b[0mxp\u001b[0m\u001b[1;33m.\u001b[0m\u001b[0masarray\u001b[0m\u001b[1;33m(\u001b[0m\u001b[0marray\u001b[0m\u001b[1;33m,\u001b[0m \u001b[0mcopy\u001b[0m\u001b[1;33m=\u001b[0m\u001b[0mcopy\u001b[0m\u001b[1;33m)\u001b[0m\u001b[1;33m\u001b[0m\u001b[1;33m\u001b[0m\u001b[0m\n\u001b[0;32m    187\u001b[0m     \u001b[1;32melse\u001b[0m\u001b[1;33m:\u001b[0m\u001b[1;33m\u001b[0m\u001b[1;33m\u001b[0m\u001b[0m\n",
            "\u001b[1;32m~\\anaconda3\\lib\\site-packages\\numpy\\core\\_asarray.py\u001b[0m in \u001b[0;36masarray\u001b[1;34m(a, dtype, order, like)\u001b[0m\n\u001b[0;32m    100\u001b[0m         \u001b[1;32mreturn\u001b[0m \u001b[0m_asarray_with_like\u001b[0m\u001b[1;33m(\u001b[0m\u001b[0ma\u001b[0m\u001b[1;33m,\u001b[0m \u001b[0mdtype\u001b[0m\u001b[1;33m=\u001b[0m\u001b[0mdtype\u001b[0m\u001b[1;33m,\u001b[0m \u001b[0morder\u001b[0m\u001b[1;33m=\u001b[0m\u001b[0morder\u001b[0m\u001b[1;33m,\u001b[0m \u001b[0mlike\u001b[0m\u001b[1;33m=\u001b[0m\u001b[0mlike\u001b[0m\u001b[1;33m)\u001b[0m\u001b[1;33m\u001b[0m\u001b[1;33m\u001b[0m\u001b[0m\n\u001b[0;32m    101\u001b[0m \u001b[1;33m\u001b[0m\u001b[0m\n\u001b[1;32m--> 102\u001b[1;33m     \u001b[1;32mreturn\u001b[0m \u001b[0marray\u001b[0m\u001b[1;33m(\u001b[0m\u001b[0ma\u001b[0m\u001b[1;33m,\u001b[0m \u001b[0mdtype\u001b[0m\u001b[1;33m,\u001b[0m \u001b[0mcopy\u001b[0m\u001b[1;33m=\u001b[0m\u001b[1;32mFalse\u001b[0m\u001b[1;33m,\u001b[0m \u001b[0morder\u001b[0m\u001b[1;33m=\u001b[0m\u001b[0morder\u001b[0m\u001b[1;33m)\u001b[0m\u001b[1;33m\u001b[0m\u001b[1;33m\u001b[0m\u001b[0m\n\u001b[0m\u001b[0;32m    103\u001b[0m \u001b[1;33m\u001b[0m\u001b[0m\n\u001b[0;32m    104\u001b[0m \u001b[1;33m\u001b[0m\u001b[0m\n",
            "\u001b[1;31mValueError\u001b[0m: could not convert string to float: 'single'"
          ]
        }
      ],
      "source": [
        "from sklearn.metrics.pairwise import cosine_similarity\n",
        "from sklearn.preprocessing import StandardScaler\n",
        "\n",
        "# Assuming df is your DataFrame and it has columns 'age', 'sex', 'orientation'\n",
        "# Convert categorical variables to numeric using one-hot encoding\n",
        "df_encoded = pd.get_dummies(df, columns=['sex', 'orientation'])\n",
        "\n",
        "# Standardize age\n",
        "scaler = StandardScaler()\n",
        "df_encoded['age'] = scaler.fit_transform(df_encoded[['age']])\n",
        "\n",
        "# Compute the cosine similarity matrix\n",
        "similarity_matrix = cosine_similarity(df_encoded)\n",
        "\n",
        "# Convert to DataFrame for better usability\n",
        "similarity_df = pd.DataFrame(similarity_matrix, index=df_encoded.index, columns=df_encoded.index)\n",
        "\n",
        "def recommend_users(user_index, top_n=5):\n",
        "    # Get the top_n users with highest similarity\n",
        "    similar_users = similarity_df[user_index].sort_values(ascending=False).head(top_n+1).iloc[1:]\n",
        "    return similar_users\n",
        "\n",
        "# Test the function\n",
        "print(recommend_users(0))  # assuming 0 is a valid index in your DataFrame"
      ]
    },
    {
      "cell_type": "code",
      "execution_count": null,
      "id": "cead727b",
      "metadata": {
        "id": "cead727b",
        "outputId": "bdfec384-6986-4c35-8035-c8a4d2963ba9"
      },
      "outputs": [
        {
          "name": "stdout",
          "output_type": "stream",
          "text": [
            "^C\n"
          ]
        }
      ],
      "source": [
        "!conda update --all\n",
        "#!pip install scikit-surprise\n",
        "# pip install --upgrade pip\n",
        "# !conda install -c conda-forge scikit-surprise"
      ]
    },
    {
      "cell_type": "code",
      "execution_count": null,
      "id": "5ee00f12",
      "metadata": {
        "id": "5ee00f12",
        "outputId": "38ea0f9d-863d-47d5-9c08-e0c7beab401c"
      },
      "outputs": [
        {
          "ename": "ModuleNotFoundError",
          "evalue": "No module named 'surprise'",
          "output_type": "error",
          "traceback": [
            "\u001b[1;31m---------------------------------------------------------------------------\u001b[0m",
            "\u001b[1;31mModuleNotFoundError\u001b[0m                       Traceback (most recent call last)",
            "\u001b[1;32m~\\AppData\\Local\\Temp/ipykernel_976/2650511423.py\u001b[0m in \u001b[0;36m<module>\u001b[1;34m\u001b[0m\n\u001b[0;32m      1\u001b[0m \u001b[1;31m# Collaborative Filtering\u001b[0m\u001b[1;33m\u001b[0m\u001b[1;33m\u001b[0m\u001b[0m\n\u001b[0;32m      2\u001b[0m \u001b[1;33m\u001b[0m\u001b[0m\n\u001b[1;32m----> 3\u001b[1;33m \u001b[1;32mfrom\u001b[0m \u001b[0msurprise\u001b[0m \u001b[1;32mimport\u001b[0m \u001b[0mKNNBasic\u001b[0m\u001b[1;33m\u001b[0m\u001b[1;33m\u001b[0m\u001b[0m\n\u001b[0m\u001b[0;32m      4\u001b[0m \u001b[1;32mfrom\u001b[0m \u001b[0msurprise\u001b[0m \u001b[1;32mimport\u001b[0m \u001b[0mDataset\u001b[0m\u001b[1;33m\u001b[0m\u001b[1;33m\u001b[0m\u001b[0m\n\u001b[0;32m      5\u001b[0m \u001b[1;32mfrom\u001b[0m \u001b[0msurprise\u001b[0m \u001b[1;32mimport\u001b[0m \u001b[0mReader\u001b[0m\u001b[1;33m\u001b[0m\u001b[1;33m\u001b[0m\u001b[0m\n",
            "\u001b[1;31mModuleNotFoundError\u001b[0m: No module named 'surprise'"
          ]
        }
      ],
      "source": [
        "# Collaborative Filtering\n",
        "\n",
        "from surprise import KNNBasic\n",
        "from surprise import Dataset\n",
        "from surprise import Reader\n",
        "import pandas as pd\n",
        "\n",
        "# Load the OkCupid dataset\n",
        "# You'll need to change this to the path of your actual dataset\n",
        "#okcupid_df = pd.read_csv('okcupid.csv')\n",
        "\n",
        "# For this example, let's assume that the dataset has a 'user_id', 'match_id' and 'rating' column\n",
        "# 'user_id' is the ID of the user\n",
        "# 'match_id' is the ID of the match (another user)\n",
        "# 'rating' is the rating given by the user to the match\n",
        "\n",
        "# Define a reader\n",
        "reader = Reader(rating_scale=(1, 5))\n",
        "\n",
        "# Load the data from the dataframe\n",
        "data = Dataset.load_from_df(okcupid_df[['user_id', 'match_id', 'rating']], reader)\n",
        "\n",
        "# Split the dataset into train and test\n",
        "trainset = data.build_full_trainset()\n",
        "testset = trainset.build_anti_testset()\n",
        "\n",
        "# Define the algorithm\n",
        "algo = KNNBasic()\n",
        "\n",
        "# Train the algorithm\n",
        "algo.fit(trainset)\n",
        "\n",
        "# Make predictions\n",
        "predictions = algo.test(testset)\n",
        "\n",
        "# Now you can use the predictions for your recommendation system"
      ]
    },
    {
      "cell_type": "code",
      "execution_count": null,
      "id": "f7f6d68e",
      "metadata": {
        "id": "f7f6d68e",
        "outputId": "0cb37d38-d04a-41b2-fe05-4ccc1abc88f6"
      },
      "outputs": [
        {
          "name": "stdout",
          "output_type": "stream",
          "text": [
            "Recommendations for User 1:\n",
            "\n",
            "1: User 8192, with distance of 2.220446049250313e-16\n",
            "2: User 33613, with distance of 2.220446049250313e-16\n",
            "3: User 48971, with distance of 2.220446049250313e-16\n",
            "4: User 41890, with distance of 2.220446049250313e-16\n",
            "5: User 11389, with distance of 2.220446049250313e-16\n"
          ]
        }
      ],
      "source": [
        "# RECOMMENDER SYSTEM\n",
        "# Import necessary libraries\n",
        "from sklearn.preprocessing import StandardScaler, LabelEncoder\n",
        "from sklearn.neighbors import NearestNeighbors\n",
        "import pandas as pd\n",
        "\n",
        "\n",
        "# Preprocess the data\n",
        "# Convert 'orientation' to numerical\n",
        "le = LabelEncoder()\n",
        "df['orientation'] = le.fit_transform(df['orientation'])\n",
        "\n",
        "# Standardize 'age' and 'income'\n",
        "scaler = StandardScaler()\n",
        "df[['age', 'income']] = scaler.fit_transform(df[['age', 'income']])\n",
        "\n",
        "# Create a new DataFrame with only the columns you need\n",
        "df_numeric = df[['age', 'income', 'orientation']]\n",
        "\n",
        "# Fit the NearestNeighbors model\n",
        "model_knn.fit(df_numeric)\n",
        "\n",
        "# Fit the NearestNeighbors model\n",
        "#model_knn = NearestNeighbors(metric='cosine', algorithm='brute', n_neighbors=20, n_jobs=-1)\n",
        "#model_knn.fit(df)\n",
        "\n",
        "# Function to return recommended users\n",
        "def recommend_users(user_index):\n",
        "    distances, indices = model_knn.kneighbors(df_numeric.iloc[user_index, :].values.reshape(1, -1), n_neighbors = 6)\n",
        "    for i in range(0, len(distances.flatten())):\n",
        "        if i == 0:\n",
        "            print('Recommendations for User {0}:\\n'.format(df_numeric.index[user_index]))\n",
        "        else:\n",
        "            print('{0}: User {1}, with distance of {2}'.format(i, df_numeric.index[indices.flatten()[i]], distances.flatten()[i]))\n",
        "\n",
        "# Test the function with a user index\n",
        "recommend_users(1)"
      ]
    },
    {
      "cell_type": "code",
      "execution_count": null,
      "id": "50c68b8d",
      "metadata": {
        "id": "50c68b8d",
        "outputId": "b4c30e9f-e823-4dd4-cae2-774f1670949d"
      },
      "outputs": [
        {
          "name": "stdout",
          "output_type": "stream",
          "text": [
            "Evaluation Metric: 1.000\n"
          ]
        }
      ],
      "source": [
        "#CREATING A TRAIN AND TEST DATASET TO EVALUATE THE MODEL\n",
        "from sklearn.model_selection import train_test_split\n",
        "from sklearn.metrics.pairwise import cosine_similarity\n",
        "import numpy as np\n",
        "\n",
        "# Split the data into a training set and a test set\n",
        "df_train, df_test = train_test_split(df_numeric, test_size=0.2, random_state=42)\n",
        "\n",
        "# Fit the model on the training set\n",
        "model_knn.fit(df_train)\n",
        "\n",
        "# Function to calculate the average similarity of the recommended users to the test user\n",
        "def calculate_average_similarity(test_user_index):\n",
        "    distances, indices = model_knn.kneighbors(df_test.iloc[test_user_index, :].values.reshape(1, -1), n_neighbors=6)\n",
        "    similarities = cosine_similarity(df_test.iloc[test_user_index, :].values.reshape(1, -1), df_train.iloc[indices.flatten(), :])\n",
        "    return np.mean(similarities)\n",
        "\n",
        "# Calculate the average similarity for each user in the test set\n",
        "average_similarities = [calculate_average_similarity(i) for i in range(len(df_test))]\n",
        "\n",
        "# The final evaluation metric is the average of the average similarities\n",
        "evaluation_metric = np.mean(average_similarities)\n",
        "print('Evaluation Metric: %.3f' % evaluation_metric)"
      ]
    },
    {
      "cell_type": "code",
      "execution_count": null,
      "id": "4a91f0ed",
      "metadata": {
        "id": "4a91f0ed"
      },
      "outputs": [],
      "source": [
        "#An evaluation metric of 1.000 in the context of the recommender system means that the system’s recommendations are perfectly aligned with the actual data in the test set. In other words, the users recommended by the system are exactly the ones that the test users would prefer based on the features used in the model.\n",
        "\n",
        "#However, a perfect score like this is quite rare in real-world scenarios and might indicate an overfitting issue, where the model is too closely fitted to the training data and may not perform as well on new, unseen data. It could also be a result of the evaluation method used or the nature of the dataset.\n",
        "\n",
        "#It’s always important to thoroughly evaluate a model using various metrics and techniques, and to validate the model on new data to ensure its robustness and generalizability. Remember, the goal of a recommender system is not just to make accurate recommendations, but also to provide useful and diverse recommendations that enhance the user experience."
      ]
    },
    {
      "cell_type": "code",
      "execution_count": null,
      "id": "f0d002af",
      "metadata": {
        "id": "f0d002af",
        "outputId": "28b185aa-a938-4655-848f-bc90298d538e"
      },
      "outputs": [
        {
          "data": {
            "text/html": [
              "<div>\n",
              "<style scoped>\n",
              "    .dataframe tbody tr th:only-of-type {\n",
              "        vertical-align: middle;\n",
              "    }\n",
              "\n",
              "    .dataframe tbody tr th {\n",
              "        vertical-align: top;\n",
              "    }\n",
              "\n",
              "    .dataframe thead th {\n",
              "        text-align: right;\n",
              "    }\n",
              "</style>\n",
              "<table border=\"1\" class=\"dataframe\">\n",
              "  <thead>\n",
              "    <tr style=\"text-align: right;\">\n",
              "      <th></th>\n",
              "      <th>age</th>\n",
              "      <th>status</th>\n",
              "      <th>sex</th>\n",
              "      <th>orientation</th>\n",
              "      <th>body_type</th>\n",
              "      <th>diet</th>\n",
              "      <th>drinks</th>\n",
              "      <th>drugs</th>\n",
              "      <th>education</th>\n",
              "      <th>ethnicity</th>\n",
              "      <th>height</th>\n",
              "      <th>income</th>\n",
              "      <th>job</th>\n",
              "      <th>location</th>\n",
              "      <th>pets</th>\n",
              "      <th>religion</th>\n",
              "      <th>sign</th>\n",
              "      <th>smokes</th>\n",
              "      <th>speaks</th>\n",
              "    </tr>\n",
              "  </thead>\n",
              "  <tbody>\n",
              "    <tr>\n",
              "      <th>count</th>\n",
              "      <td>54266.000000</td>\n",
              "      <td>54266</td>\n",
              "      <td>54266</td>\n",
              "      <td>54266</td>\n",
              "      <td>54266</td>\n",
              "      <td>54266</td>\n",
              "      <td>54266</td>\n",
              "      <td>54266</td>\n",
              "      <td>54266</td>\n",
              "      <td>54266</td>\n",
              "      <td>54266.000000</td>\n",
              "      <td>54266.000000</td>\n",
              "      <td>54266</td>\n",
              "      <td>54266</td>\n",
              "      <td>54266</td>\n",
              "      <td>54266</td>\n",
              "      <td>54266</td>\n",
              "      <td>54266</td>\n",
              "      <td>54266</td>\n",
              "    </tr>\n",
              "    <tr>\n",
              "      <th>unique</th>\n",
              "      <td>NaN</td>\n",
              "      <td>5</td>\n",
              "      <td>2</td>\n",
              "      <td>3</td>\n",
              "      <td>12</td>\n",
              "      <td>19</td>\n",
              "      <td>7</td>\n",
              "      <td>4</td>\n",
              "      <td>33</td>\n",
              "      <td>217</td>\n",
              "      <td>NaN</td>\n",
              "      <td>NaN</td>\n",
              "      <td>22</td>\n",
              "      <td>194</td>\n",
              "      <td>16</td>\n",
              "      <td>46</td>\n",
              "      <td>49</td>\n",
              "      <td>6</td>\n",
              "      <td>7070</td>\n",
              "    </tr>\n",
              "    <tr>\n",
              "      <th>top</th>\n",
              "      <td>NaN</td>\n",
              "      <td>single</td>\n",
              "      <td>m</td>\n",
              "      <td>straight</td>\n",
              "      <td>average</td>\n",
              "      <td>no response given</td>\n",
              "      <td>socially</td>\n",
              "      <td>never</td>\n",
              "      <td>graduated from college/university</td>\n",
              "      <td>white</td>\n",
              "      <td>NaN</td>\n",
              "      <td>NaN</td>\n",
              "      <td>other</td>\n",
              "      <td>san francisco, california</td>\n",
              "      <td>no response given</td>\n",
              "      <td>no response given</td>\n",
              "      <td>no response given</td>\n",
              "      <td>no</td>\n",
              "      <td>english</td>\n",
              "    </tr>\n",
              "    <tr>\n",
              "      <th>freq</th>\n",
              "      <td>NaN</td>\n",
              "      <td>50537</td>\n",
              "      <td>32564</td>\n",
              "      <td>46747</td>\n",
              "      <td>17785</td>\n",
              "      <td>21440</td>\n",
              "      <td>38141</td>\n",
              "      <td>34550</td>\n",
              "      <td>21956</td>\n",
              "      <td>32831</td>\n",
              "      <td>NaN</td>\n",
              "      <td>NaN</td>\n",
              "      <td>6967</td>\n",
              "      <td>28054</td>\n",
              "      <td>17226</td>\n",
              "      <td>17302</td>\n",
              "      <td>9321</td>\n",
              "      <td>40277</td>\n",
              "      <td>19136</td>\n",
              "    </tr>\n",
              "    <tr>\n",
              "      <th>mean</th>\n",
              "      <td>32.439317</td>\n",
              "      <td>NaN</td>\n",
              "      <td>NaN</td>\n",
              "      <td>NaN</td>\n",
              "      <td>NaN</td>\n",
              "      <td>NaN</td>\n",
              "      <td>NaN</td>\n",
              "      <td>NaN</td>\n",
              "      <td>NaN</td>\n",
              "      <td>NaN</td>\n",
              "      <td>68.311595</td>\n",
              "      <td>20198.402646</td>\n",
              "      <td>NaN</td>\n",
              "      <td>NaN</td>\n",
              "      <td>NaN</td>\n",
              "      <td>NaN</td>\n",
              "      <td>NaN</td>\n",
              "      <td>NaN</td>\n",
              "      <td>NaN</td>\n",
              "    </tr>\n",
              "    <tr>\n",
              "      <th>std</th>\n",
              "      <td>9.528448</td>\n",
              "      <td>NaN</td>\n",
              "      <td>NaN</td>\n",
              "      <td>NaN</td>\n",
              "      <td>NaN</td>\n",
              "      <td>NaN</td>\n",
              "      <td>NaN</td>\n",
              "      <td>NaN</td>\n",
              "      <td>NaN</td>\n",
              "      <td>NaN</td>\n",
              "      <td>3.971738</td>\n",
              "      <td>96254.437156</td>\n",
              "      <td>NaN</td>\n",
              "      <td>NaN</td>\n",
              "      <td>NaN</td>\n",
              "      <td>NaN</td>\n",
              "      <td>NaN</td>\n",
              "      <td>NaN</td>\n",
              "      <td>NaN</td>\n",
              "    </tr>\n",
              "    <tr>\n",
              "      <th>min</th>\n",
              "      <td>18.000000</td>\n",
              "      <td>NaN</td>\n",
              "      <td>NaN</td>\n",
              "      <td>NaN</td>\n",
              "      <td>NaN</td>\n",
              "      <td>NaN</td>\n",
              "      <td>NaN</td>\n",
              "      <td>NaN</td>\n",
              "      <td>NaN</td>\n",
              "      <td>NaN</td>\n",
              "      <td>3.000000</td>\n",
              "      <td>-1.000000</td>\n",
              "      <td>NaN</td>\n",
              "      <td>NaN</td>\n",
              "      <td>NaN</td>\n",
              "      <td>NaN</td>\n",
              "      <td>NaN</td>\n",
              "      <td>NaN</td>\n",
              "      <td>NaN</td>\n",
              "    </tr>\n",
              "    <tr>\n",
              "      <th>25%</th>\n",
              "      <td>26.000000</td>\n",
              "      <td>NaN</td>\n",
              "      <td>NaN</td>\n",
              "      <td>NaN</td>\n",
              "      <td>NaN</td>\n",
              "      <td>NaN</td>\n",
              "      <td>NaN</td>\n",
              "      <td>NaN</td>\n",
              "      <td>NaN</td>\n",
              "      <td>NaN</td>\n",
              "      <td>66.000000</td>\n",
              "      <td>-1.000000</td>\n",
              "      <td>NaN</td>\n",
              "      <td>NaN</td>\n",
              "      <td>NaN</td>\n",
              "      <td>NaN</td>\n",
              "      <td>NaN</td>\n",
              "      <td>NaN</td>\n",
              "      <td>NaN</td>\n",
              "    </tr>\n",
              "    <tr>\n",
              "      <th>50%</th>\n",
              "      <td>30.000000</td>\n",
              "      <td>NaN</td>\n",
              "      <td>NaN</td>\n",
              "      <td>NaN</td>\n",
              "      <td>NaN</td>\n",
              "      <td>NaN</td>\n",
              "      <td>NaN</td>\n",
              "      <td>NaN</td>\n",
              "      <td>NaN</td>\n",
              "      <td>NaN</td>\n",
              "      <td>68.000000</td>\n",
              "      <td>-1.000000</td>\n",
              "      <td>NaN</td>\n",
              "      <td>NaN</td>\n",
              "      <td>NaN</td>\n",
              "      <td>NaN</td>\n",
              "      <td>NaN</td>\n",
              "      <td>NaN</td>\n",
              "      <td>NaN</td>\n",
              "    </tr>\n",
              "    <tr>\n",
              "      <th>75%</th>\n",
              "      <td>37.000000</td>\n",
              "      <td>NaN</td>\n",
              "      <td>NaN</td>\n",
              "      <td>NaN</td>\n",
              "      <td>NaN</td>\n",
              "      <td>NaN</td>\n",
              "      <td>NaN</td>\n",
              "      <td>NaN</td>\n",
              "      <td>NaN</td>\n",
              "      <td>NaN</td>\n",
              "      <td>71.000000</td>\n",
              "      <td>-1.000000</td>\n",
              "      <td>NaN</td>\n",
              "      <td>NaN</td>\n",
              "      <td>NaN</td>\n",
              "      <td>NaN</td>\n",
              "      <td>NaN</td>\n",
              "      <td>NaN</td>\n",
              "      <td>NaN</td>\n",
              "    </tr>\n",
              "    <tr>\n",
              "      <th>max</th>\n",
              "      <td>69.000000</td>\n",
              "      <td>NaN</td>\n",
              "      <td>NaN</td>\n",
              "      <td>NaN</td>\n",
              "      <td>NaN</td>\n",
              "      <td>NaN</td>\n",
              "      <td>NaN</td>\n",
              "      <td>NaN</td>\n",
              "      <td>NaN</td>\n",
              "      <td>NaN</td>\n",
              "      <td>95.000000</td>\n",
              "      <td>1000000.000000</td>\n",
              "      <td>NaN</td>\n",
              "      <td>NaN</td>\n",
              "      <td>NaN</td>\n",
              "      <td>NaN</td>\n",
              "      <td>NaN</td>\n",
              "      <td>NaN</td>\n",
              "      <td>NaN</td>\n",
              "    </tr>\n",
              "  </tbody>\n",
              "</table>\n",
              "</div>"
            ],
            "text/plain": [
              "                 age  status    sex orientation body_type               diet  \\\n",
              "count   54266.000000   54266  54266       54266     54266              54266   \n",
              "unique           NaN       5      2           3        12                 19   \n",
              "top              NaN  single      m    straight   average  no response given   \n",
              "freq             NaN   50537  32564       46747     17785              21440   \n",
              "mean       32.439317     NaN    NaN         NaN       NaN                NaN   \n",
              "std         9.528448     NaN    NaN         NaN       NaN                NaN   \n",
              "min        18.000000     NaN    NaN         NaN       NaN                NaN   \n",
              "25%        26.000000     NaN    NaN         NaN       NaN                NaN   \n",
              "50%        30.000000     NaN    NaN         NaN       NaN                NaN   \n",
              "75%        37.000000     NaN    NaN         NaN       NaN                NaN   \n",
              "max        69.000000     NaN    NaN         NaN       NaN                NaN   \n",
              "\n",
              "          drinks  drugs                          education ethnicity  \\\n",
              "count      54266  54266                              54266     54266   \n",
              "unique         7      4                                 33       217   \n",
              "top     socially  never  graduated from college/university     white   \n",
              "freq       38141  34550                              21956     32831   \n",
              "mean         NaN    NaN                                NaN       NaN   \n",
              "std          NaN    NaN                                NaN       NaN   \n",
              "min          NaN    NaN                                NaN       NaN   \n",
              "25%          NaN    NaN                                NaN       NaN   \n",
              "50%          NaN    NaN                                NaN       NaN   \n",
              "75%          NaN    NaN                                NaN       NaN   \n",
              "max          NaN    NaN                                NaN       NaN   \n",
              "\n",
              "              height          income    job                   location  \\\n",
              "count   54266.000000    54266.000000  54266                      54266   \n",
              "unique           NaN             NaN     22                        194   \n",
              "top              NaN             NaN  other  san francisco, california   \n",
              "freq             NaN             NaN   6967                      28054   \n",
              "mean       68.311595    20198.402646    NaN                        NaN   \n",
              "std         3.971738    96254.437156    NaN                        NaN   \n",
              "min         3.000000       -1.000000    NaN                        NaN   \n",
              "25%        66.000000       -1.000000    NaN                        NaN   \n",
              "50%        68.000000       -1.000000    NaN                        NaN   \n",
              "75%        71.000000       -1.000000    NaN                        NaN   \n",
              "max        95.000000  1000000.000000    NaN                        NaN   \n",
              "\n",
              "                     pets           religion               sign smokes  \\\n",
              "count               54266              54266              54266  54266   \n",
              "unique                 16                 46                 49      6   \n",
              "top     no response given  no response given  no response given     no   \n",
              "freq                17226              17302               9321  40277   \n",
              "mean                  NaN                NaN                NaN    NaN   \n",
              "std                   NaN                NaN                NaN    NaN   \n",
              "min                   NaN                NaN                NaN    NaN   \n",
              "25%                   NaN                NaN                NaN    NaN   \n",
              "50%                   NaN                NaN                NaN    NaN   \n",
              "75%                   NaN                NaN                NaN    NaN   \n",
              "max                   NaN                NaN                NaN    NaN   \n",
              "\n",
              "         speaks  \n",
              "count     54266  \n",
              "unique     7070  \n",
              "top     english  \n",
              "freq      19136  \n",
              "mean        NaN  \n",
              "std         NaN  \n",
              "min         NaN  \n",
              "25%         NaN  \n",
              "50%         NaN  \n",
              "75%         NaN  \n",
              "max         NaN  "
            ]
          },
          "execution_count": 77,
          "metadata": {},
          "output_type": "execute_result"
        }
      ],
      "source": [
        "df.describe(include='all')"
      ]
    },
    {
      "cell_type": "code",
      "execution_count": null,
      "id": "3d47d5b6",
      "metadata": {
        "id": "3d47d5b6"
      },
      "outputs": [],
      "source": [
        "# The data in Sign column Python has read the apostrophe in the word doesn’t and converted it into a nonsensical string: ‘&rsquo;’.\n",
        "df['sign'] = df['sign'].str.replace('doesn&rsquo;t', \"doesn't\")"
      ]
    },
    {
      "cell_type": "code",
      "execution_count": null,
      "id": "addadf03",
      "metadata": {
        "id": "addadf03"
      },
      "outputs": [],
      "source": [
        "df['sign'] = df['sign'].str.replace('it&rsquo;s', \"its\")"
      ]
    },
    {
      "cell_type": "code",
      "execution_count": null,
      "id": "36a8c744",
      "metadata": {
        "id": "36a8c744",
        "outputId": "64e35819-5a94-41c2-dc61-52f7c3feefe9"
      },
      "outputs": [
        {
          "name": "stdout",
          "output_type": "stream",
          "text": [
            "0                                   gemini\n",
            "1                                   cancer\n",
            "3                                   pisces\n",
            "4                                 aquarius\n",
            "5                                   taurus\n",
            "                       ...                \n",
            "59940                          sagittarius\n",
            "59942            leo but it doesn't matter\n",
            "59943    sagittarius but it doesn't matter\n",
            "59944       leo and its fun to think about\n",
            "59945    gemini and its fun to think about\n",
            "Name: sign, Length: 54266, dtype: object\n"
          ]
        }
      ],
      "source": [
        "print(df['sign'])"
      ]
    },
    {
      "cell_type": "code",
      "execution_count": null,
      "id": "3017d591",
      "metadata": {
        "id": "3017d591",
        "outputId": "0a9c0580-40f2-4f82-b3a1-7034e59bc69f"
      },
      "outputs": [
        {
          "name": "stdout",
          "output_type": "stream",
          "text": [
            "-1          43482\n",
            " 20000       2768\n",
            " 100000      1522\n",
            " 80000       1036\n",
            " 30000        997\n",
            " 40000        951\n",
            " 50000        919\n",
            " 60000        699\n",
            " 70000        655\n",
            " 150000       600\n",
            " 1000000      459\n",
            " 250000       136\n",
            " 500000        42\n",
            "Name: income, dtype: int64\n"
          ]
        }
      ],
      "source": [
        "income_counts = df['income'].value_counts()\n",
        "\n",
        "print(income_counts)"
      ]
    },
    {
      "cell_type": "code",
      "execution_count": null,
      "id": "3e6a926a",
      "metadata": {
        "id": "3e6a926a",
        "outputId": "bcaaec29-0fc1-45dc-879c-87b0110b6493"
      },
      "outputs": [
        {
          "name": "stdout",
          "output_type": "stream",
          "text": [
            "Index(['age', 'status', 'sex', 'orientation', 'body_type', 'diet', 'drinks',\n",
            "       'drugs', 'education', 'ethnicity', 'height', 'income', 'job',\n",
            "       'location', 'pets', 'religion', 'sign', 'smokes', 'speaks'],\n",
            "      dtype='object')\n"
          ]
        }
      ],
      "source": [
        "print(df.columns)"
      ]
    },
    {
      "cell_type": "code",
      "execution_count": null,
      "id": "a390360b",
      "metadata": {
        "id": "a390360b",
        "outputId": "8bb1212b-bd28-4d95-a507-0acff71e05a2"
      },
      "outputs": [
        {
          "name": "stdout",
          "output_type": "stream",
          "text": [
            "0        south san francisco, california\n",
            "1                    oakland, california\n",
            "3                   berkeley, california\n",
            "4              san francisco, california\n",
            "5              san francisco, california\n",
            "                      ...               \n",
            "59940          san francisco, california\n",
            "59942          san francisco, california\n",
            "59943    south san francisco, california\n",
            "59944          san francisco, california\n",
            "59945          san francisco, california\n",
            "Name: location, Length: 54266, dtype: object\n"
          ]
        }
      ],
      "source": [
        "print(df['location'])"
      ]
    },
    {
      "cell_type": "code",
      "execution_count": null,
      "id": "b216127b",
      "metadata": {
        "id": "b216127b",
        "outputId": "0bc06ee4-a7e4-4bb5-a26b-6e53feb3dd76"
      },
      "outputs": [
        {
          "name": "stdout",
          "output_type": "stream",
          "text": [
            "-1          43482\n",
            " 20000       2768\n",
            " 100000      1522\n",
            " 80000       1036\n",
            " 30000        997\n",
            " 40000        951\n",
            " 50000        919\n",
            " 60000        699\n",
            " 70000        655\n",
            " 150000       600\n",
            " 1000000      459\n",
            " 250000       136\n",
            " 500000        42\n",
            "Name: income, dtype: int64\n"
          ]
        }
      ],
      "source": [
        "Income_counts = df['income'].value_counts()\n",
        "print(Income_counts)"
      ]
    },
    {
      "cell_type": "code",
      "execution_count": null,
      "id": "52a443eb",
      "metadata": {
        "id": "52a443eb",
        "outputId": "d81ad859-dcdd-4ae4-a92b-6d0ff8490101"
      },
      "outputs": [
        {
          "name": "stdout",
          "output_type": "stream",
          "text": [
            "30-50K       3912\n",
            "1-10K        2768\n",
            "20-30K       1870\n",
            "50-100K      1237\n",
            "10-20K        997\n",
            "No income       0\n",
            "Name: income_group, dtype: int64\n"
          ]
        }
      ],
      "source": [
        "bins = [-1, 10000, 20000, 30000, 50000, 100000, float('inf')]\n",
        "labels = ['No income', '1-10K', '10-20K', '20-30K', '30-50K', '50-100K']\n",
        "df['income_group'] = pd.cut(df['income'], bins=bins, labels=labels)\n",
        "\n",
        "# Now count the number of occurrences in each bin\n",
        "income_group_counts = df['income_group'].value_counts()\n",
        "\n",
        "print(income_group_counts)"
      ]
    },
    {
      "cell_type": "code",
      "execution_count": null,
      "id": "5e995569",
      "metadata": {
        "id": "5e995569",
        "outputId": "b582dc9e-b945-430b-95a1-5b478272e7c8"
      },
      "outputs": [
        {
          "name": "stdout",
          "output_type": "stream",
          "text": [
            "san francisco, california    28054\n",
            "oakland, california           6412\n",
            "berkeley, california          3746\n",
            "san mateo, california         1237\n",
            "palo alto, california          977\n",
            "                             ...  \n",
            "jackson, mississippi             1\n",
            "ozone park, new york             1\n",
            "honolulu, hawaii                 1\n",
            "billings, montana                1\n",
            "rochester, michigan              1\n",
            "Name: location, Length: 194, dtype: int64\n"
          ]
        }
      ],
      "source": [
        "location_counts = df['location'].value_counts()\n",
        "print(location_counts)"
      ]
    },
    {
      "cell_type": "code",
      "execution_count": null,
      "id": "a24383ba",
      "metadata": {
        "id": "a24383ba",
        "outputId": "15015ae0-437f-469e-cc78-18404b96c8f6"
      },
      "outputs": [
        {
          "name": "stdout",
          "output_type": "stream",
          "text": [
            "san francisco, california    28054\n",
            "oakland, california           6412\n",
            "berkeley, california          3746\n",
            "san mateo, california         1237\n",
            "palo alto, california          977\n",
            "                             ...  \n",
            "jackson, mississippi             1\n",
            "ozone park, new york             1\n",
            "honolulu, hawaii                 1\n",
            "billings, montana                1\n",
            "rochester, michigan              1\n",
            "Name: location, Length: 194, dtype: int64\n"
          ]
        }
      ],
      "source": [
        "location_counts = df['location'].value_counts()\n",
        "print(location_counts)"
      ]
    },
    {
      "cell_type": "code",
      "execution_count": null,
      "id": "ed88a7a8",
      "metadata": {
        "id": "ed88a7a8",
        "outputId": "0b178496-0994-4945-e595-b7a161031c10"
      },
      "outputs": [
        {
          "name": "stdout",
          "output_type": "stream",
          "text": [
            "20-30     26965\n",
            "30-40     16039\n",
            "40-50      6223\n",
            "50-60      2436\n",
            "10-20      1695\n",
            "60-70       908\n",
            "0-10          0\n",
            "70-80         0\n",
            "80-90         0\n",
            "90-100        0\n",
            "Name: age_group, dtype: int64\n"
          ]
        }
      ],
      "source": [
        "bins = [0, 10, 20, 30, 40, 50, 60, 70, 80, 90, 100]\n",
        "labels = ['0-10', '10-20', '20-30', '30-40', '40-50', '50-60', '60-70', '70-80', '80-90', '90-100']\n",
        "\n",
        "# Create a new column in the dataframe for the age group\n",
        "df['age_group'] = pd.cut(df['age'], bins=bins, labels=labels)\n",
        "\n",
        "# Now count the number of occurrences in each bin\n",
        "age_group_counts = df['age_group'].value_counts()\n",
        "\n",
        "print(age_group_counts)"
      ]
    },
    {
      "cell_type": "code",
      "execution_count": null,
      "id": "b061ac5d",
      "metadata": {
        "id": "b061ac5d"
      },
      "outputs": [],
      "source": [
        "df_diet = df['diet'].str.get_dummies(' ')\n",
        "df = pd.concat([df, df_diet], axis=1)"
      ]
    },
    {
      "cell_type": "code",
      "execution_count": null,
      "id": "c6c1c852",
      "metadata": {
        "id": "c6c1c852"
      },
      "outputs": [],
      "source": [
        "drinks_mapping = {'not at all': 0, 'rarely': 1, 'socially': 2, 'often': 3, 'very often': 4, 'desperately': 5}\n",
        "drugs_mapping = {'never': 0, 'sometimes': 1, 'often': 2}\n",
        "\n",
        "df['drinks_code'] = df['drinks'].map(drinks_mapping)\n",
        "df['drugs_code'] = df['drugs'].map(drugs_mapping)"
      ]
    },
    {
      "cell_type": "code",
      "execution_count": null,
      "id": "91414006",
      "metadata": {
        "id": "91414006"
      },
      "outputs": [],
      "source": [
        "# Suppose 'age_group' and 'income_group' are the columns where you have binned the ages and incomes\n",
        "age_group_to_match = '30-39'  # The age group you want to match\n",
        "income_group_to_match = '50-100K'  # The income group you want to match\n",
        "\n",
        "# Filter the DataFrame to get only the rows that belong to the specified age and income groups\n",
        "matches = df[(df['age_group'] == age_group_to_match) & (df['income_group'] == income_group_to_match)]"
      ]
    },
    {
      "cell_type": "code",
      "execution_count": null,
      "id": "9cb9f8e6",
      "metadata": {
        "id": "9cb9f8e6",
        "outputId": "99271c60-e624-4b61-dbc5-43dff0d6347a"
      },
      "outputs": [
        {
          "name": "stdout",
          "output_type": "stream",
          "text": [
            "                          Age Group Counts  Location Counts  \\\n",
            "0-10                                   0.0              NaN   \n",
            "1-10K                                  NaN              NaN   \n",
            "10-20                               1695.0              NaN   \n",
            "10-20K                                 NaN              NaN   \n",
            "20-30                              26965.0              NaN   \n",
            "...                                    ...              ...   \n",
            "west oakland, california               NaN              4.0   \n",
            "westlake, california                   NaN              9.0   \n",
            "woodacre, california                   NaN             16.0   \n",
            "woodbridge, virginia                   NaN              2.0   \n",
            "woodside, california                   NaN              9.0   \n",
            "\n",
            "                          Income Group Counts  \n",
            "0-10                                      NaN  \n",
            "1-10K                                  2768.0  \n",
            "10-20                                     NaN  \n",
            "10-20K                                  997.0  \n",
            "20-30                                     NaN  \n",
            "...                                       ...  \n",
            "west oakland, california                  NaN  \n",
            "westlake, california                      NaN  \n",
            "woodacre, california                      NaN  \n",
            "woodbridge, virginia                      NaN  \n",
            "woodside, california                      NaN  \n",
            "\n",
            "[210 rows x 3 columns]\n"
          ]
        }
      ],
      "source": [
        "combined_counts = pd.concat([age_group_counts, location_counts, income_group_counts], axis=1)\n",
        "\n",
        "# Rename the columns\n",
        "combined_counts.columns = ['Age Group Counts', 'Location Counts', 'Income Group Counts']\n",
        "\n",
        "print(combined_counts)"
      ]
    },
    {
      "cell_type": "code",
      "execution_count": null,
      "id": "95b00c1c",
      "metadata": {
        "id": "95b00c1c",
        "outputId": "322a188c-1277-4ef6-9424-4ce0e3844725"
      },
      "outputs": [
        {
          "data": {
            "text/plain": [
              "m    32564\n",
              "f    21702\n",
              "Name: sex, dtype: int64"
            ]
          },
          "execution_count": 40,
          "metadata": {},
          "output_type": "execute_result"
        }
      ],
      "source": [
        "df['sex'].value_counts()"
      ]
    },
    {
      "cell_type": "code",
      "execution_count": null,
      "id": "0bded41c",
      "metadata": {
        "id": "0bded41c",
        "outputId": "e43d91e1-3fec-46a7-b1b1-d9a365ac69ae"
      },
      "outputs": [
        {
          "data": {
            "text/plain": [
              "<AxesSubplot:xlabel='sex', ylabel='count'>"
            ]
          },
          "execution_count": 41,
          "metadata": {},
          "output_type": "execute_result"
        },
        {
          "data": {
            "image/png": "[encoded data removed]",
            "text/plain": [
              "<Figure size 360x360 with 1 Axes>"
            ]
          },
          "metadata": {},
          "output_type": "display_data"
        }
      ],
      "source": [
        "fig = plt.figure(figsize = (5, 5))\n",
        "sns.countplot(x='sex', data = df)"
      ]
    },
    {
      "cell_type": "code",
      "execution_count": null,
      "id": "3c46e5bf",
      "metadata": {
        "id": "3c46e5bf",
        "outputId": "7896c09e-76f3-4f62-cdd1-2a0aa684cbcf"
      },
      "outputs": [
        {
          "data": {
            "text/plain": [
              "26    3365\n",
              "27    3286\n",
              "28    3198\n",
              "25    3181\n",
              "24    2951\n",
              "29    2947\n",
              "30    2803\n",
              "31    2454\n",
              "23    2313\n",
              "32    2310\n",
              "33    1979\n",
              "22    1762\n",
              "34    1716\n",
              "35    1588\n",
              "36    1466\n",
              "37    1295\n",
              "38    1219\n",
              "21    1159\n",
              "39    1065\n",
              "42     974\n",
              "40     947\n",
              "41     906\n",
              "20     868\n",
              "43     788\n",
              "44     642\n",
              "45     601\n",
              "19     549\n",
              "46     537\n",
              "47     479\n",
              "48     454\n",
              "49     431\n",
              "50     411\n",
              "51     328\n",
              "52     320\n",
              "18     278\n",
              "54     255\n",
              "56     254\n",
              "57     243\n",
              "55     240\n",
              "53     225\n",
              "59     204\n",
              "58     187\n",
              "60     180\n",
              "61     166\n",
              "62     159\n",
              "63     131\n",
              "64     104\n",
              "65     102\n",
              "66      99\n",
              "67      62\n",
              "68      59\n",
              "69      26\n",
              "Name: age, dtype: int64"
            ]
          },
          "execution_count": 42,
          "metadata": {},
          "output_type": "execute_result"
        }
      ],
      "source": [
        "df['age'].value_counts()"
      ]
    },
    {
      "cell_type": "code",
      "execution_count": null,
      "id": "b40f763d",
      "metadata": {
        "id": "b40f763d",
        "outputId": "539e8e29-6fe4-4331-dee3-274bc9c23d66"
      },
      "outputs": [
        {
          "data": {
            "text/plain": [
              "Text(0.5, 1.0, 'Graph depicting age concentration of the users')"
            ]
          },
          "execution_count": 43,
          "metadata": {},
          "output_type": "execute_result"
        },
        {
          "data": {
            "image/png": "[encoded data removed]",
            "text/plain": [
              "<Figure size 1440x720 with 1 Axes>"
            ]
          },
          "metadata": {},
          "output_type": "display_data"
        }
      ],
      "source": [
        "fig = plt.figure(figsize = (20, 10))\n",
        "sns.distplot(df['age'], bins = 30)\n",
        "plt.xlabel('Age of the users', fontsize=14)\n",
        "plt.ylabel('Density', fontsize=14)\n",
        "plt.title('Graph depicting age concentration of the users', fontsize=16)"
      ]
    },
    {
      "cell_type": "code",
      "execution_count": null,
      "id": "b382c90e",
      "metadata": {
        "id": "b382c90e",
        "outputId": "ff42307c-890d-4df3-859d-5e6d5da388cf"
      },
      "outputs": [
        {
          "name": "stdout",
          "output_type": "stream",
          "text": [
            "                          Age Group Counts  Location Counts  \\\n",
            "0-10                                   0.0              NaN   \n",
            "1-10K                                  NaN              NaN   \n",
            "10-20                               1695.0              NaN   \n",
            "10-20K                                 NaN              NaN   \n",
            "20-30                              26965.0              NaN   \n",
            "...                                    ...              ...   \n",
            "west oakland, california               NaN              4.0   \n",
            "westlake, california                   NaN              9.0   \n",
            "woodacre, california                   NaN             16.0   \n",
            "woodbridge, virginia                   NaN              2.0   \n",
            "woodside, california                   NaN              9.0   \n",
            "\n",
            "                          Income Group Counts  \n",
            "0-10                                      NaN  \n",
            "1-10K                                  2768.0  \n",
            "10-20                                     NaN  \n",
            "10-20K                                  997.0  \n",
            "20-30                                     NaN  \n",
            "...                                       ...  \n",
            "west oakland, california                  NaN  \n",
            "westlake, california                      NaN  \n",
            "woodacre, california                      NaN  \n",
            "woodbridge, virginia                      NaN  \n",
            "woodside, california                      NaN  \n",
            "\n",
            "[210 rows x 3 columns]\n"
          ]
        }
      ],
      "source": [
        "combined_counts = pd.concat([age_group_counts, location_counts, income_group_counts], axis=1)\n",
        "\n",
        "# Rename the columns\n",
        "combined_counts.columns = ['Age Group Counts', 'Location Counts', 'Income Group Counts']\n",
        "\n",
        "print(combined_counts)\n"
      ]
    },
    {
      "cell_type": "code",
      "execution_count": null,
      "id": "6a2a75df",
      "metadata": {
        "id": "6a2a75df",
        "outputId": "75defdee-b7c4-4354-8fd8-0d38edd3356a"
      },
      "outputs": [
        {
          "data": {
            "text/plain": [
              "<Figure size 1080x504 with 0 Axes>"
            ]
          },
          "metadata": {},
          "output_type": "display_data"
        },
        {
          "data": {
            "image/png": "[encoded data removed]",
            "text/plain": [
              "<Figure size 768.85x360 with 1 Axes>"
            ]
          },
          "metadata": {},
          "output_type": "display_data"
        }
      ],
      "source": [
        "plt.figure(figsize=(15, 7))\n",
        "sns.catplot(x='age', data = df, kind='count', palette='pastel', hue='sex',\n",
        "            height=5, # make the plot 5 units high\n",
        "            aspect=2)\n",
        "plt.xticks(rotation = 25)\n",
        "plt.title('Age distribution')\n",
        "plt.savefig('Age distribution.png')\n",
        "plt.show()"
      ]
    },
    {
      "cell_type": "code",
      "execution_count": null,
      "id": "72cc0cb7",
      "metadata": {
        "id": "72cc0cb7",
        "outputId": "56460396-95c2-4f64-bfea-8a2450346cf2"
      },
      "outputs": [
        {
          "data": {
            "text/plain": [
              "<Figure size 1080x504 with 0 Axes>"
            ]
          },
          "metadata": {},
          "output_type": "display_data"
        },
        {
          "data": {
            "image/png": "[encoded data removed]",
            "text/plain": [
              "<Figure size 768.85x360 with 1 Axes>"
            ]
          },
          "metadata": {},
          "output_type": "display_data"
        }
      ],
      "source": [
        "# Define the age bins and group names\n",
        "age_bins = [0, 10, 20, 30, 40, 50, 60, 70, 80, 90, 100]\n",
        "group_names = ['0-10', '10-20', '20-30', '30-40', '40-50', '50-60', '60-70', '70-80', '80-90', '90-100']\n",
        "\n",
        "# Create a new column for age bins\n",
        "df['age_bin'] = pd.cut(df['age'], age_bins, labels=group_names)\n",
        "\n",
        "# Plot the data\n",
        "plt.figure(figsize=(15, 7))\n",
        "sns.catplot(x='age_bin', data = df, kind='count', palette='pastel', hue='sex',\n",
        "            height=5, # make the plot 5 units high\n",
        "            aspect=2)\n",
        "plt.xticks(rotation = 25)\n",
        "plt.title('Age distribution')\n",
        "plt.savefig('Age distribution.png')\n",
        "plt.show()"
      ]
    },
    {
      "cell_type": "code",
      "execution_count": null,
      "id": "efdec92c",
      "metadata": {
        "id": "efdec92c",
        "outputId": "3c921004-8209-49d4-99a9-38ef04c80ac1"
      },
      "outputs": [
        {
          "name": "stdout",
          "output_type": "stream",
          "text": [
            "Pearsons correlation: 0.001\n"
          ]
        },
        {
          "data": {
            "image/png": "[encoded data removed]",
            "text/plain": [
              "<Figure size 720x360 with 1 Axes>"
            ]
          },
          "metadata": {},
          "output_type": "display_data"
        }
      ],
      "source": [
        "# Import necessary libraries\n",
        "import pandas as pd\n",
        "import matplotlib.pyplot as plt\n",
        "from scipy.stats import pearsonr\n",
        "\n",
        "# Remove rows with missing 'age' or 'income'\n",
        "df = df.dropna(subset=['age', 'income'])\n",
        "\n",
        "# Plot the data\n",
        "plt.figure(figsize=(10, 5))\n",
        "plt.scatter(df['age'], df['income'])\n",
        "plt.xlabel('Age')\n",
        "plt.ylabel('Income')\n",
        "plt.title('Age vs Income')\n",
        "\n",
        "# Calculate the correlation coefficient\n",
        "corr, _ = pearsonr(df['age'], df['income'])\n",
        "print('Pearsons correlation: %.3f' % corr)\n",
        "\n",
        "# Show the plot\n",
        "plt.show()"
      ]
    },
    {
      "cell_type": "code",
      "execution_count": null,
      "id": "b8b208f4",
      "metadata": {
        "id": "b8b208f4"
      },
      "outputs": [],
      "source": [
        "# Import necessary libraries\n",
        "import pandas as pd\n",
        "from sklearn.decomposition import PCA\n",
        "from sklearn.preprocessing import StandardScaler, OneHotEncoder\n",
        "from sklearn.compose import ColumnTransformer\n",
        "from sklearn.pipeline import Pipeline\n",
        "\n",
        "\n",
        "# Define preprocessing pipeline\n",
        "preprocessor = ColumnTransformer(\n",
        "    transformers=[\n",
        "        ('num', StandardScaler(), ['age', 'income']),\n",
        "        ('cat', OneHotEncoder(), ['orientation'])\n",
        "    ])\n",
        "\n",
        "# Applying the preprocessing\n",
        "df_preprocessed = preprocessor.fit_transform(df)\n",
        "\n",
        "# Apply PCA\n",
        "pca = PCA(n_components=2)  # adjust as needed\n",
        "principalComponents = pca.fit_transform(df_preprocessed)\n",
        "\n",
        "# Convert the principal components for each sample to a dataframe\n",
        "principalDf = pd.DataFrame(data=principalComponents, columns=['PC1', 'PC2'])  # adjust column names as needed\n",
        "\n",
        "# Now you can use principalDf in place of the original dataset for further analysis"
      ]
    },
    {
      "cell_type": "code",
      "execution_count": null,
      "id": "9c2ce6a3",
      "metadata": {
        "id": "9c2ce6a3",
        "outputId": "5e6e3556-e869-48c2-ae06-5ab61ae88f88"
      },
      "outputs": [
        {
          "ename": "ValueError",
          "evalue": "Input contains NaN",
          "output_type": "error",
          "traceback": [
            "\u001b[1;31m---------------------------------------------------------------------------\u001b[0m",
            "\u001b[1;31mValueError\u001b[0m                                Traceback (most recent call last)",
            "\u001b[1;32m~\\AppData\\Local\\Temp/ipykernel_976/3059624340.py\u001b[0m in \u001b[0;36m<module>\u001b[1;34m\u001b[0m\n\u001b[0;32m     17\u001b[0m \u001b[1;31m# Fit the NearestNeighbors model\u001b[0m\u001b[1;33m\u001b[0m\u001b[1;33m\u001b[0m\u001b[0m\n\u001b[0;32m     18\u001b[0m \u001b[0mmodel_knn\u001b[0m \u001b[1;33m=\u001b[0m \u001b[0mNearestNeighbors\u001b[0m\u001b[1;33m(\u001b[0m\u001b[0mmetric\u001b[0m\u001b[1;33m=\u001b[0m\u001b[1;34m'cosine'\u001b[0m\u001b[1;33m,\u001b[0m \u001b[0malgorithm\u001b[0m\u001b[1;33m=\u001b[0m\u001b[1;34m'brute'\u001b[0m\u001b[1;33m,\u001b[0m \u001b[0mn_neighbors\u001b[0m\u001b[1;33m=\u001b[0m\u001b[1;36m20\u001b[0m\u001b[1;33m,\u001b[0m \u001b[0mn_jobs\u001b[0m\u001b[1;33m=\u001b[0m\u001b[1;33m-\u001b[0m\u001b[1;36m1\u001b[0m\u001b[1;33m)\u001b[0m\u001b[1;33m\u001b[0m\u001b[1;33m\u001b[0m\u001b[0m\n\u001b[1;32m---> 19\u001b[1;33m \u001b[0mmodel_knn\u001b[0m\u001b[1;33m.\u001b[0m\u001b[0mfit\u001b[0m\u001b[1;33m(\u001b[0m\u001b[0mdf\u001b[0m\u001b[1;33m)\u001b[0m\u001b[1;33m\u001b[0m\u001b[1;33m\u001b[0m\u001b[0m\n\u001b[0m\u001b[0;32m     20\u001b[0m \u001b[1;33m\u001b[0m\u001b[0m\n\u001b[0;32m     21\u001b[0m \u001b[1;31m# Function to return recommended users\u001b[0m\u001b[1;33m\u001b[0m\u001b[1;33m\u001b[0m\u001b[0m\n",
            "\u001b[1;32m~\\anaconda3\\lib\\site-packages\\sklearn\\neighbors\\_unsupervised.py\u001b[0m in \u001b[0;36mfit\u001b[1;34m(self, X, y)\u001b[0m\n\u001b[0;32m    174\u001b[0m         \"\"\"\n\u001b[0;32m    175\u001b[0m         \u001b[0mself\u001b[0m\u001b[1;33m.\u001b[0m\u001b[0m_validate_params\u001b[0m\u001b[1;33m(\u001b[0m\u001b[1;33m)\u001b[0m\u001b[1;33m\u001b[0m\u001b[1;33m\u001b[0m\u001b[0m\n\u001b[1;32m--> 176\u001b[1;33m         \u001b[1;32mreturn\u001b[0m \u001b[0mself\u001b[0m\u001b[1;33m.\u001b[0m\u001b[0m_fit\u001b[0m\u001b[1;33m(\u001b[0m\u001b[0mX\u001b[0m\u001b[1;33m)\u001b[0m\u001b[1;33m\u001b[0m\u001b[1;33m\u001b[0m\u001b[0m\n\u001b[0m",
            "\u001b[1;32m~\\anaconda3\\lib\\site-packages\\sklearn\\neighbors\\_base.py\u001b[0m in \u001b[0;36m_fit\u001b[1;34m(self, X, y)\u001b[0m\n\u001b[0;32m    489\u001b[0m         \u001b[1;32melse\u001b[0m\u001b[1;33m:\u001b[0m\u001b[1;33m\u001b[0m\u001b[1;33m\u001b[0m\u001b[0m\n\u001b[0;32m    490\u001b[0m             \u001b[1;32mif\u001b[0m \u001b[1;32mnot\u001b[0m \u001b[0misinstance\u001b[0m\u001b[1;33m(\u001b[0m\u001b[0mX\u001b[0m\u001b[1;33m,\u001b[0m \u001b[1;33m(\u001b[0m\u001b[0mKDTree\u001b[0m\u001b[1;33m,\u001b[0m \u001b[0mBallTree\u001b[0m\u001b[1;33m,\u001b[0m \u001b[0mNeighborsBase\u001b[0m\u001b[1;33m)\u001b[0m\u001b[1;33m)\u001b[0m\u001b[1;33m:\u001b[0m\u001b[1;33m\u001b[0m\u001b[1;33m\u001b[0m\u001b[0m\n\u001b[1;32m--> 491\u001b[1;33m                 \u001b[0mX\u001b[0m \u001b[1;33m=\u001b[0m \u001b[0mself\u001b[0m\u001b[1;33m.\u001b[0m\u001b[0m_validate_data\u001b[0m\u001b[1;33m(\u001b[0m\u001b[0mX\u001b[0m\u001b[1;33m,\u001b[0m \u001b[0maccept_sparse\u001b[0m\u001b[1;33m=\u001b[0m\u001b[1;34m\"csr\"\u001b[0m\u001b[1;33m,\u001b[0m \u001b[0morder\u001b[0m\u001b[1;33m=\u001b[0m\u001b[1;34m\"C\"\u001b[0m\u001b[1;33m)\u001b[0m\u001b[1;33m\u001b[0m\u001b[1;33m\u001b[0m\u001b[0m\n\u001b[0m\u001b[0;32m    492\u001b[0m \u001b[1;33m\u001b[0m\u001b[0m\n\u001b[0;32m    493\u001b[0m         \u001b[0mself\u001b[0m\u001b[1;33m.\u001b[0m\u001b[0m_check_algorithm_metric\u001b[0m\u001b[1;33m(\u001b[0m\u001b[1;33m)\u001b[0m\u001b[1;33m\u001b[0m\u001b[1;33m\u001b[0m\u001b[0m\n",
            "\u001b[1;32m~\\anaconda3\\lib\\site-packages\\sklearn\\base.py\u001b[0m in \u001b[0;36m_validate_data\u001b[1;34m(self, X, y, reset, validate_separately, **check_params)\u001b[0m\n\u001b[0;32m    563\u001b[0m             \u001b[1;32mraise\u001b[0m \u001b[0mValueError\u001b[0m\u001b[1;33m(\u001b[0m\u001b[1;34m\"Validation should be done on X, y or both.\"\u001b[0m\u001b[1;33m)\u001b[0m\u001b[1;33m\u001b[0m\u001b[1;33m\u001b[0m\u001b[0m\n\u001b[0;32m    564\u001b[0m         \u001b[1;32melif\u001b[0m \u001b[1;32mnot\u001b[0m \u001b[0mno_val_X\u001b[0m \u001b[1;32mand\u001b[0m \u001b[0mno_val_y\u001b[0m\u001b[1;33m:\u001b[0m\u001b[1;33m\u001b[0m\u001b[1;33m\u001b[0m\u001b[0m\n\u001b[1;32m--> 565\u001b[1;33m             \u001b[0mX\u001b[0m \u001b[1;33m=\u001b[0m \u001b[0mcheck_array\u001b[0m\u001b[1;33m(\u001b[0m\u001b[0mX\u001b[0m\u001b[1;33m,\u001b[0m \u001b[0minput_name\u001b[0m\u001b[1;33m=\u001b[0m\u001b[1;34m\"X\"\u001b[0m\u001b[1;33m,\u001b[0m \u001b[1;33m**\u001b[0m\u001b[0mcheck_params\u001b[0m\u001b[1;33m)\u001b[0m\u001b[1;33m\u001b[0m\u001b[1;33m\u001b[0m\u001b[0m\n\u001b[0m\u001b[0;32m    566\u001b[0m             \u001b[0mout\u001b[0m \u001b[1;33m=\u001b[0m \u001b[0mX\u001b[0m\u001b[1;33m\u001b[0m\u001b[1;33m\u001b[0m\u001b[0m\n\u001b[0;32m    567\u001b[0m         \u001b[1;32melif\u001b[0m \u001b[0mno_val_X\u001b[0m \u001b[1;32mand\u001b[0m \u001b[1;32mnot\u001b[0m \u001b[0mno_val_y\u001b[0m\u001b[1;33m:\u001b[0m\u001b[1;33m\u001b[0m\u001b[1;33m\u001b[0m\u001b[0m\n",
            "\u001b[1;32m~\\anaconda3\\lib\\site-packages\\sklearn\\utils\\validation.py\u001b[0m in \u001b[0;36mcheck_array\u001b[1;34m(array, accept_sparse, accept_large_sparse, dtype, order, copy, force_all_finite, ensure_2d, allow_nd, ensure_min_samples, ensure_min_features, estimator, input_name)\u001b[0m\n\u001b[0;32m    919\u001b[0m \u001b[1;33m\u001b[0m\u001b[0m\n\u001b[0;32m    920\u001b[0m         \u001b[1;32mif\u001b[0m \u001b[0mforce_all_finite\u001b[0m\u001b[1;33m:\u001b[0m\u001b[1;33m\u001b[0m\u001b[1;33m\u001b[0m\u001b[0m\n\u001b[1;32m--> 921\u001b[1;33m             _assert_all_finite(\n\u001b[0m\u001b[0;32m    922\u001b[0m                 \u001b[0marray\u001b[0m\u001b[1;33m,\u001b[0m\u001b[1;33m\u001b[0m\u001b[1;33m\u001b[0m\u001b[0m\n\u001b[0;32m    923\u001b[0m                 \u001b[0minput_name\u001b[0m\u001b[1;33m=\u001b[0m\u001b[0minput_name\u001b[0m\u001b[1;33m,\u001b[0m\u001b[1;33m\u001b[0m\u001b[1;33m\u001b[0m\u001b[0m\n",
            "\u001b[1;32m~\\anaconda3\\lib\\site-packages\\sklearn\\utils\\validation.py\u001b[0m in \u001b[0;36m_assert_all_finite\u001b[1;34m(X, allow_nan, msg_dtype, estimator_name, input_name)\u001b[0m\n\u001b[0;32m    109\u001b[0m     \u001b[1;32mif\u001b[0m \u001b[0mX\u001b[0m\u001b[1;33m.\u001b[0m\u001b[0mdtype\u001b[0m \u001b[1;33m==\u001b[0m \u001b[0mnp\u001b[0m\u001b[1;33m.\u001b[0m\u001b[0mdtype\u001b[0m\u001b[1;33m(\u001b[0m\u001b[1;34m\"object\"\u001b[0m\u001b[1;33m)\u001b[0m \u001b[1;32mand\u001b[0m \u001b[1;32mnot\u001b[0m \u001b[0mallow_nan\u001b[0m\u001b[1;33m:\u001b[0m\u001b[1;33m\u001b[0m\u001b[1;33m\u001b[0m\u001b[0m\n\u001b[0;32m    110\u001b[0m         \u001b[1;32mif\u001b[0m \u001b[0m_object_dtype_isnan\u001b[0m\u001b[1;33m(\u001b[0m\u001b[0mX\u001b[0m\u001b[1;33m)\u001b[0m\u001b[1;33m.\u001b[0m\u001b[0many\u001b[0m\u001b[1;33m(\u001b[0m\u001b[1;33m)\u001b[0m\u001b[1;33m:\u001b[0m\u001b[1;33m\u001b[0m\u001b[1;33m\u001b[0m\u001b[0m\n\u001b[1;32m--> 111\u001b[1;33m             \u001b[1;32mraise\u001b[0m \u001b[0mValueError\u001b[0m\u001b[1;33m(\u001b[0m\u001b[1;34m\"Input contains NaN\"\u001b[0m\u001b[1;33m)\u001b[0m\u001b[1;33m\u001b[0m\u001b[1;33m\u001b[0m\u001b[0m\n\u001b[0m\u001b[0;32m    112\u001b[0m \u001b[1;33m\u001b[0m\u001b[0m\n\u001b[0;32m    113\u001b[0m     \u001b[1;31m# We need only consider float arrays, hence can early return for all else.\u001b[0m\u001b[1;33m\u001b[0m\u001b[1;33m\u001b[0m\u001b[0m\n",
            "\u001b[1;31mValueError\u001b[0m: Input contains NaN"
          ]
        }
      ],
      "source": [
        "# RECOMMENDER SYSTEM\n",
        "# Import necessary libraries\n",
        "from sklearn.preprocessing import StandardScaler, LabelEncoder\n",
        "from sklearn.neighbors import NearestNeighbors\n",
        "import pandas as pd\n",
        "\n",
        "\n",
        "# Preprocess the data\n",
        "# Convert 'orientation' to numerical\n",
        "le = LabelEncoder()\n",
        "df['orientation'] = le.fit_transform(df['orientation'])\n",
        "\n",
        "# Standardize 'age' and 'income'\n",
        "scaler = StandardScaler()\n",
        "df[['age', 'income']] = scaler.fit_transform(df[['age', 'income']])\n",
        "\n",
        "# Fit the NearestNeighbors model\n",
        "model_knn = NearestNeighbors(metric='cosine', algorithm='brute', n_neighbors=20, n_jobs=-1)\n",
        "model_knn.fit(df)\n",
        "\n",
        "# Function to return recommended users\n",
        "def recommend_users(user_index):\n",
        "    distances, indices = model_knn.kneighbors(df.iloc[user_index, :].values.reshape(1, -1), n_neighbors = 6)\n",
        "    for i in range(0, len(distances.flatten())):\n",
        "        if i == 0:\n",
        "            print('Recommendations for User {0}:\\n'.format(df.index[user_index]))\n",
        "        else:\n",
        "            print('{0}: User {1}, with distance of {2}'.format(i, df.index[indices.flatten()[i]], distances.flatten()[i]))\n",
        "\n",
        "# Test the function with a user index\n",
        "recommend_users(1)"
      ]
    },
    {
      "cell_type": "code",
      "execution_count": null,
      "id": "35189444",
      "metadata": {
        "id": "35189444"
      },
      "outputs": [],
      "source": []
    },
    {
      "cell_type": "code",
      "execution_count": null,
      "id": "4d755111",
      "metadata": {
        "id": "4d755111",
        "outputId": "5103f16b-4d1c-44fb-d34a-bf7517cd16ab"
      },
      "outputs": [
        {
          "data": {
            "image/png": "[encoded data removed]",
            "text/plain": [
              "<Figure size 1008x360 with 1 Axes>"
            ]
          },
          "metadata": {},
          "output_type": "display_data"
        }
      ],
      "source": [
        "def show_percetage(ax, total):\n",
        "    for p in ax.patches:\n",
        "        percentage = '{:.1f}%'.format(100 * p.get_height() / total)\n",
        "        x = p.get_x() + p.get_width() / 2\n",
        "        y = p.get_y() + p.get_height()\n",
        "        ax.annotate(percentage, (x, y), ha='center', va='bottom')\n",
        "\n",
        "plt.figure(figsize=(14, 5))\n",
        "ax = sns.countplot(x='body_type', data=df,\n",
        "                   hue='sex',\n",
        "                   palette='rocket',\n",
        "                   order=df['body_type'].value_counts().iloc[:10].index)\n",
        "ax.set_title(\"Body type by gender\")\n",
        "ax.set(xlabel='Count', ylabel='Body Type')\n",
        "show_percetage(ax, len(df))\n",
        "plt.show()"
      ]
    },
    {
      "cell_type": "code",
      "execution_count": null,
      "id": "cab42ae1",
      "metadata": {
        "id": "cab42ae1",
        "outputId": "70b12f4b-5797-4dc4-98c9-4844cadc3bf0"
      },
      "outputs": [
        {
          "data": {
            "image/png": "[encoded data removed]",
            "text/plain": [
              "<Figure size 648x360 with 1 Axes>"
            ]
          },
          "metadata": {},
          "output_type": "display_data"
        }
      ],
      "source": [
        "plt.figure(figsize=(9, 5))\n",
        "ax=sns.barplot(y='job',x='income', data=df,\n",
        "              hue='sex', palette='cool',\n",
        "              order = df['job'].value_counts().iloc[:10].index)\n",
        "ax.set_title(\"Job Vs income by sex\")\n",
        "\n",
        "plt.show()"
      ]
    },
    {
      "cell_type": "code",
      "execution_count": null,
      "id": "7fed1b50",
      "metadata": {
        "id": "7fed1b50"
      },
      "outputs": [],
      "source": [
        "# Filter for straight females\n",
        "straight_females = df[(df['sex'] == 'female') & (df['orientation'] == 'straight')]\n",
        "\n",
        "# Filter for straight males\n",
        "straight_males = df[(df['sex'] == 'male') & (df['orientation'] == 'straight')]\n",
        "\n",
        "# Now you have two dataframes: straight_females and straight_males"
      ]
    },
    {
      "cell_type": "code",
      "execution_count": null,
      "id": "b38ef0dc",
      "metadata": {
        "id": "b38ef0dc"
      },
      "outputs": [],
      "source": [
        "# Filter for gay females\n",
        "gay_females = df[(df['sex'] == 'female') & (df['orientation'] == 'gay')]\n",
        "\n",
        "# Filter for gay males\n",
        "gay_males = df[(df['sex'] == 'male') & (df['orientation'] == 'gay')]\n",
        "\n",
        "# Now you have two dataframes: gay_females and gay_males"
      ]
    },
    {
      "cell_type": "code",
      "execution_count": null,
      "id": "da481652",
      "metadata": {
        "id": "da481652",
        "outputId": "be21c7da-e09a-4e78-abd1-e3726964cfda"
      },
      "outputs": [
        {
          "ename": "MemoryError",
          "evalue": "Unable to allocate 26.8 GiB for an array with shape (59946, 59946) and data type object",
          "output_type": "error",
          "traceback": [
            "\u001b[1;31m---------------------------------------------------------------------------\u001b[0m",
            "\u001b[1;31mMemoryError\u001b[0m                               Traceback (most recent call last)",
            "\u001b[1;32m~\\AppData\\Local\\Temp/ipykernel_1352/4036073837.py\u001b[0m in \u001b[0;36m<module>\u001b[1;34m\u001b[0m\n\u001b[0;32m     18\u001b[0m \u001b[1;33m\u001b[0m\u001b[0m\n\u001b[0;32m     19\u001b[0m \u001b[1;31m# Create an empty DataFrame to store match scores\u001b[0m\u001b[1;33m\u001b[0m\u001b[1;33m\u001b[0m\u001b[0m\n\u001b[1;32m---> 20\u001b[1;33m \u001b[0mmatch_scores\u001b[0m \u001b[1;33m=\u001b[0m \u001b[0mpd\u001b[0m\u001b[1;33m.\u001b[0m\u001b[0mDataFrame\u001b[0m\u001b[1;33m(\u001b[0m\u001b[0mcolumns\u001b[0m\u001b[1;33m=\u001b[0m\u001b[0mdf\u001b[0m\u001b[1;33m.\u001b[0m\u001b[0mindex\u001b[0m\u001b[1;33m,\u001b[0m \u001b[0mindex\u001b[0m\u001b[1;33m=\u001b[0m\u001b[0mdf\u001b[0m\u001b[1;33m.\u001b[0m\u001b[0mindex\u001b[0m\u001b[1;33m)\u001b[0m\u001b[1;33m\u001b[0m\u001b[1;33m\u001b[0m\u001b[0m\n\u001b[0m\u001b[0;32m     21\u001b[0m \u001b[1;33m\u001b[0m\u001b[0m\n\u001b[0;32m     22\u001b[0m \u001b[1;31m# Calculate match scores for each pair of users\u001b[0m\u001b[1;33m\u001b[0m\u001b[1;33m\u001b[0m\u001b[0m\n",
            "\u001b[1;32m~\\anaconda3\\lib\\site-packages\\pandas\\core\\frame.py\u001b[0m in \u001b[0;36m__init__\u001b[1;34m(self, data, index, columns, dtype, copy)\u001b[0m\n\u001b[0;32m    612\u001b[0m         \u001b[1;32melif\u001b[0m \u001b[0misinstance\u001b[0m\u001b[1;33m(\u001b[0m\u001b[0mdata\u001b[0m\u001b[1;33m,\u001b[0m \u001b[0mdict\u001b[0m\u001b[1;33m)\u001b[0m\u001b[1;33m:\u001b[0m\u001b[1;33m\u001b[0m\u001b[1;33m\u001b[0m\u001b[0m\n\u001b[0;32m    613\u001b[0m             \u001b[1;31m# GH#38939 de facto copy defaults to False only in non-dict cases\u001b[0m\u001b[1;33m\u001b[0m\u001b[1;33m\u001b[0m\u001b[0m\n\u001b[1;32m--> 614\u001b[1;33m             \u001b[0mmgr\u001b[0m \u001b[1;33m=\u001b[0m \u001b[0mdict_to_mgr\u001b[0m\u001b[1;33m(\u001b[0m\u001b[0mdata\u001b[0m\u001b[1;33m,\u001b[0m \u001b[0mindex\u001b[0m\u001b[1;33m,\u001b[0m \u001b[0mcolumns\u001b[0m\u001b[1;33m,\u001b[0m \u001b[0mdtype\u001b[0m\u001b[1;33m=\u001b[0m\u001b[0mdtype\u001b[0m\u001b[1;33m,\u001b[0m \u001b[0mcopy\u001b[0m\u001b[1;33m=\u001b[0m\u001b[0mcopy\u001b[0m\u001b[1;33m,\u001b[0m \u001b[0mtyp\u001b[0m\u001b[1;33m=\u001b[0m\u001b[0mmanager\u001b[0m\u001b[1;33m)\u001b[0m\u001b[1;33m\u001b[0m\u001b[1;33m\u001b[0m\u001b[0m\n\u001b[0m\u001b[0;32m    615\u001b[0m         \u001b[1;32melif\u001b[0m \u001b[0misinstance\u001b[0m\u001b[1;33m(\u001b[0m\u001b[0mdata\u001b[0m\u001b[1;33m,\u001b[0m \u001b[0mma\u001b[0m\u001b[1;33m.\u001b[0m\u001b[0mMaskedArray\u001b[0m\u001b[1;33m)\u001b[0m\u001b[1;33m:\u001b[0m\u001b[1;33m\u001b[0m\u001b[1;33m\u001b[0m\u001b[0m\n\u001b[0;32m    616\u001b[0m             \u001b[1;32mimport\u001b[0m \u001b[0mnumpy\u001b[0m\u001b[1;33m.\u001b[0m\u001b[0mma\u001b[0m\u001b[1;33m.\u001b[0m\u001b[0mmrecords\u001b[0m \u001b[1;32mas\u001b[0m \u001b[0mmrecords\u001b[0m\u001b[1;33m\u001b[0m\u001b[1;33m\u001b[0m\u001b[0m\n",
            "\u001b[1;32m~\\anaconda3\\lib\\site-packages\\pandas\\core\\internals\\construction.py\u001b[0m in \u001b[0;36mdict_to_mgr\u001b[1;34m(data, index, columns, dtype, typ, copy)\u001b[0m\n\u001b[0;32m    436\u001b[0m                 \u001b[0mnan_dtype\u001b[0m \u001b[1;33m=\u001b[0m \u001b[0mdtype\u001b[0m\u001b[1;33m\u001b[0m\u001b[1;33m\u001b[0m\u001b[0m\n\u001b[0;32m    437\u001b[0m             \u001b[0mval\u001b[0m \u001b[1;33m=\u001b[0m \u001b[0mconstruct_1d_arraylike_from_scalar\u001b[0m\u001b[1;33m(\u001b[0m\u001b[0mnp\u001b[0m\u001b[1;33m.\u001b[0m\u001b[0mnan\u001b[0m\u001b[1;33m,\u001b[0m \u001b[0mlen\u001b[0m\u001b[1;33m(\u001b[0m\u001b[0mindex\u001b[0m\u001b[1;33m)\u001b[0m\u001b[1;33m,\u001b[0m \u001b[0mnan_dtype\u001b[0m\u001b[1;33m)\u001b[0m\u001b[1;33m\u001b[0m\u001b[1;33m\u001b[0m\u001b[0m\n\u001b[1;32m--> 438\u001b[1;33m             \u001b[0marrays\u001b[0m\u001b[1;33m.\u001b[0m\u001b[0mloc\u001b[0m\u001b[1;33m[\u001b[0m\u001b[0mmissing\u001b[0m\u001b[1;33m]\u001b[0m \u001b[1;33m=\u001b[0m \u001b[1;33m[\u001b[0m\u001b[0mval\u001b[0m\u001b[1;33m]\u001b[0m \u001b[1;33m*\u001b[0m \u001b[0mmissing\u001b[0m\u001b[1;33m.\u001b[0m\u001b[0msum\u001b[0m\u001b[1;33m(\u001b[0m\u001b[1;33m)\u001b[0m\u001b[1;33m\u001b[0m\u001b[1;33m\u001b[0m\u001b[0m\n\u001b[0m\u001b[0;32m    439\u001b[0m \u001b[1;33m\u001b[0m\u001b[0m\n\u001b[0;32m    440\u001b[0m         \u001b[0marrays\u001b[0m \u001b[1;33m=\u001b[0m \u001b[0mlist\u001b[0m\u001b[1;33m(\u001b[0m\u001b[0marrays\u001b[0m\u001b[1;33m)\u001b[0m\u001b[1;33m\u001b[0m\u001b[1;33m\u001b[0m\u001b[0m\n",
            "\u001b[1;32m~\\anaconda3\\lib\\site-packages\\pandas\\core\\indexing.py\u001b[0m in \u001b[0;36m__setitem__\u001b[1;34m(self, key, value)\u001b[0m\n\u001b[0;32m    721\u001b[0m \u001b[1;33m\u001b[0m\u001b[0m\n\u001b[0;32m    722\u001b[0m         \u001b[0miloc\u001b[0m \u001b[1;33m=\u001b[0m \u001b[0mself\u001b[0m \u001b[1;32mif\u001b[0m \u001b[0mself\u001b[0m\u001b[1;33m.\u001b[0m\u001b[0mname\u001b[0m \u001b[1;33m==\u001b[0m \u001b[1;34m\"iloc\"\u001b[0m \u001b[1;32melse\u001b[0m \u001b[0mself\u001b[0m\u001b[1;33m.\u001b[0m\u001b[0mobj\u001b[0m\u001b[1;33m.\u001b[0m\u001b[0miloc\u001b[0m\u001b[1;33m\u001b[0m\u001b[1;33m\u001b[0m\u001b[0m\n\u001b[1;32m--> 723\u001b[1;33m         \u001b[0miloc\u001b[0m\u001b[1;33m.\u001b[0m\u001b[0m_setitem_with_indexer\u001b[0m\u001b[1;33m(\u001b[0m\u001b[0mindexer\u001b[0m\u001b[1;33m,\u001b[0m \u001b[0mvalue\u001b[0m\u001b[1;33m,\u001b[0m \u001b[0mself\u001b[0m\u001b[1;33m.\u001b[0m\u001b[0mname\u001b[0m\u001b[1;33m)\u001b[0m\u001b[1;33m\u001b[0m\u001b[1;33m\u001b[0m\u001b[0m\n\u001b[0m\u001b[0;32m    724\u001b[0m \u001b[1;33m\u001b[0m\u001b[0m\n\u001b[0;32m    725\u001b[0m     \u001b[1;32mdef\u001b[0m \u001b[0m_validate_key\u001b[0m\u001b[1;33m(\u001b[0m\u001b[0mself\u001b[0m\u001b[1;33m,\u001b[0m \u001b[0mkey\u001b[0m\u001b[1;33m,\u001b[0m \u001b[0maxis\u001b[0m\u001b[1;33m:\u001b[0m \u001b[0mint\u001b[0m\u001b[1;33m)\u001b[0m\u001b[1;33m:\u001b[0m\u001b[1;33m\u001b[0m\u001b[1;33m\u001b[0m\u001b[0m\n",
            "\u001b[1;32m~\\anaconda3\\lib\\site-packages\\pandas\\core\\indexing.py\u001b[0m in \u001b[0;36m_setitem_with_indexer\u001b[1;34m(self, indexer, value, name)\u001b[0m\n\u001b[0;32m   1730\u001b[0m             \u001b[0mself\u001b[0m\u001b[1;33m.\u001b[0m\u001b[0m_setitem_with_indexer_split_path\u001b[0m\u001b[1;33m(\u001b[0m\u001b[0mindexer\u001b[0m\u001b[1;33m,\u001b[0m \u001b[0mvalue\u001b[0m\u001b[1;33m,\u001b[0m \u001b[0mname\u001b[0m\u001b[1;33m)\u001b[0m\u001b[1;33m\u001b[0m\u001b[1;33m\u001b[0m\u001b[0m\n\u001b[0;32m   1731\u001b[0m         \u001b[1;32melse\u001b[0m\u001b[1;33m:\u001b[0m\u001b[1;33m\u001b[0m\u001b[1;33m\u001b[0m\u001b[0m\n\u001b[1;32m-> 1732\u001b[1;33m             \u001b[0mself\u001b[0m\u001b[1;33m.\u001b[0m\u001b[0m_setitem_single_block\u001b[0m\u001b[1;33m(\u001b[0m\u001b[0mindexer\u001b[0m\u001b[1;33m,\u001b[0m \u001b[0mvalue\u001b[0m\u001b[1;33m,\u001b[0m \u001b[0mname\u001b[0m\u001b[1;33m)\u001b[0m\u001b[1;33m\u001b[0m\u001b[1;33m\u001b[0m\u001b[0m\n\u001b[0m\u001b[0;32m   1733\u001b[0m \u001b[1;33m\u001b[0m\u001b[0m\n\u001b[0;32m   1734\u001b[0m     \u001b[1;32mdef\u001b[0m \u001b[0m_setitem_with_indexer_split_path\u001b[0m\u001b[1;33m(\u001b[0m\u001b[0mself\u001b[0m\u001b[1;33m,\u001b[0m \u001b[0mindexer\u001b[0m\u001b[1;33m,\u001b[0m \u001b[0mvalue\u001b[0m\u001b[1;33m,\u001b[0m \u001b[0mname\u001b[0m\u001b[1;33m:\u001b[0m \u001b[0mstr\u001b[0m\u001b[1;33m)\u001b[0m\u001b[1;33m:\u001b[0m\u001b[1;33m\u001b[0m\u001b[1;33m\u001b[0m\u001b[0m\n",
            "\u001b[1;32m~\\anaconda3\\lib\\site-packages\\pandas\\core\\indexing.py\u001b[0m in \u001b[0;36m_setitem_single_block\u001b[1;34m(self, indexer, value, name)\u001b[0m\n\u001b[0;32m   1966\u001b[0m \u001b[1;33m\u001b[0m\u001b[0m\n\u001b[0;32m   1967\u001b[0m         \u001b[1;31m# actually do the set\u001b[0m\u001b[1;33m\u001b[0m\u001b[1;33m\u001b[0m\u001b[0m\n\u001b[1;32m-> 1968\u001b[1;33m         \u001b[0mself\u001b[0m\u001b[1;33m.\u001b[0m\u001b[0mobj\u001b[0m\u001b[1;33m.\u001b[0m\u001b[0m_mgr\u001b[0m \u001b[1;33m=\u001b[0m \u001b[0mself\u001b[0m\u001b[1;33m.\u001b[0m\u001b[0mobj\u001b[0m\u001b[1;33m.\u001b[0m\u001b[0m_mgr\u001b[0m\u001b[1;33m.\u001b[0m\u001b[0msetitem\u001b[0m\u001b[1;33m(\u001b[0m\u001b[0mindexer\u001b[0m\u001b[1;33m=\u001b[0m\u001b[0mindexer\u001b[0m\u001b[1;33m,\u001b[0m \u001b[0mvalue\u001b[0m\u001b[1;33m=\u001b[0m\u001b[0mvalue\u001b[0m\u001b[1;33m)\u001b[0m\u001b[1;33m\u001b[0m\u001b[1;33m\u001b[0m\u001b[0m\n\u001b[0m\u001b[0;32m   1969\u001b[0m         \u001b[0mself\u001b[0m\u001b[1;33m.\u001b[0m\u001b[0mobj\u001b[0m\u001b[1;33m.\u001b[0m\u001b[0m_maybe_update_cacher\u001b[0m\u001b[1;33m(\u001b[0m\u001b[0mclear\u001b[0m\u001b[1;33m=\u001b[0m\u001b[1;32mTrue\u001b[0m\u001b[1;33m)\u001b[0m\u001b[1;33m\u001b[0m\u001b[1;33m\u001b[0m\u001b[0m\n\u001b[0;32m   1970\u001b[0m \u001b[1;33m\u001b[0m\u001b[0m\n",
            "\u001b[1;32m~\\anaconda3\\lib\\site-packages\\pandas\\core\\internals\\managers.py\u001b[0m in \u001b[0;36msetitem\u001b[1;34m(self, indexer, value)\u001b[0m\n\u001b[0;32m    353\u001b[0m \u001b[1;33m\u001b[0m\u001b[0m\n\u001b[0;32m    354\u001b[0m     \u001b[1;32mdef\u001b[0m \u001b[0msetitem\u001b[0m\u001b[1;33m(\u001b[0m\u001b[0mself\u001b[0m\u001b[1;33m:\u001b[0m \u001b[0mT\u001b[0m\u001b[1;33m,\u001b[0m \u001b[0mindexer\u001b[0m\u001b[1;33m,\u001b[0m \u001b[0mvalue\u001b[0m\u001b[1;33m)\u001b[0m \u001b[1;33m->\u001b[0m \u001b[0mT\u001b[0m\u001b[1;33m:\u001b[0m\u001b[1;33m\u001b[0m\u001b[1;33m\u001b[0m\u001b[0m\n\u001b[1;32m--> 355\u001b[1;33m         \u001b[1;32mreturn\u001b[0m \u001b[0mself\u001b[0m\u001b[1;33m.\u001b[0m\u001b[0mapply\u001b[0m\u001b[1;33m(\u001b[0m\u001b[1;34m\"setitem\"\u001b[0m\u001b[1;33m,\u001b[0m \u001b[0mindexer\u001b[0m\u001b[1;33m=\u001b[0m\u001b[0mindexer\u001b[0m\u001b[1;33m,\u001b[0m \u001b[0mvalue\u001b[0m\u001b[1;33m=\u001b[0m\u001b[0mvalue\u001b[0m\u001b[1;33m)\u001b[0m\u001b[1;33m\u001b[0m\u001b[1;33m\u001b[0m\u001b[0m\n\u001b[0m\u001b[0;32m    356\u001b[0m \u001b[1;33m\u001b[0m\u001b[0m\n\u001b[0;32m    357\u001b[0m     \u001b[1;32mdef\u001b[0m \u001b[0mputmask\u001b[0m\u001b[1;33m(\u001b[0m\u001b[0mself\u001b[0m\u001b[1;33m,\u001b[0m \u001b[0mmask\u001b[0m\u001b[1;33m,\u001b[0m \u001b[0mnew\u001b[0m\u001b[1;33m,\u001b[0m \u001b[0malign\u001b[0m\u001b[1;33m:\u001b[0m \u001b[0mbool\u001b[0m \u001b[1;33m=\u001b[0m \u001b[1;32mTrue\u001b[0m\u001b[1;33m)\u001b[0m\u001b[1;33m:\u001b[0m\u001b[1;33m\u001b[0m\u001b[1;33m\u001b[0m\u001b[0m\n",
            "\u001b[1;32m~\\anaconda3\\lib\\site-packages\\pandas\\core\\internals\\managers.py\u001b[0m in \u001b[0;36mapply\u001b[1;34m(self, f, align_keys, ignore_failures, **kwargs)\u001b[0m\n\u001b[0;32m    325\u001b[0m                     \u001b[0mapplied\u001b[0m \u001b[1;33m=\u001b[0m \u001b[0mb\u001b[0m\u001b[1;33m.\u001b[0m\u001b[0mapply\u001b[0m\u001b[1;33m(\u001b[0m\u001b[0mf\u001b[0m\u001b[1;33m,\u001b[0m \u001b[1;33m**\u001b[0m\u001b[0mkwargs\u001b[0m\u001b[1;33m)\u001b[0m\u001b[1;33m\u001b[0m\u001b[1;33m\u001b[0m\u001b[0m\n\u001b[0;32m    326\u001b[0m                 \u001b[1;32melse\u001b[0m\u001b[1;33m:\u001b[0m\u001b[1;33m\u001b[0m\u001b[1;33m\u001b[0m\u001b[0m\n\u001b[1;32m--> 327\u001b[1;33m                     \u001b[0mapplied\u001b[0m \u001b[1;33m=\u001b[0m \u001b[0mgetattr\u001b[0m\u001b[1;33m(\u001b[0m\u001b[0mb\u001b[0m\u001b[1;33m,\u001b[0m \u001b[0mf\u001b[0m\u001b[1;33m)\u001b[0m\u001b[1;33m(\u001b[0m\u001b[1;33m**\u001b[0m\u001b[0mkwargs\u001b[0m\u001b[1;33m)\u001b[0m\u001b[1;33m\u001b[0m\u001b[1;33m\u001b[0m\u001b[0m\n\u001b[0m\u001b[0;32m    328\u001b[0m             \u001b[1;32mexcept\u001b[0m \u001b[1;33m(\u001b[0m\u001b[0mTypeError\u001b[0m\u001b[1;33m,\u001b[0m \u001b[0mNotImplementedError\u001b[0m\u001b[1;33m)\u001b[0m\u001b[1;33m:\u001b[0m\u001b[1;33m\u001b[0m\u001b[1;33m\u001b[0m\u001b[0m\n\u001b[0;32m    329\u001b[0m                 \u001b[1;32mif\u001b[0m \u001b[1;32mnot\u001b[0m \u001b[0mignore_failures\u001b[0m\u001b[1;33m:\u001b[0m\u001b[1;33m\u001b[0m\u001b[1;33m\u001b[0m\u001b[0m\n",
            "\u001b[1;32m~\\anaconda3\\lib\\site-packages\\pandas\\core\\internals\\blocks.py\u001b[0m in \u001b[0;36msetitem\u001b[1;34m(self, indexer, value)\u001b[0m\n\u001b[0;32m    935\u001b[0m         \u001b[1;32melse\u001b[0m\u001b[1;33m:\u001b[0m\u001b[1;33m\u001b[0m\u001b[1;33m\u001b[0m\u001b[0m\n\u001b[0;32m    936\u001b[0m             \u001b[0mis_ea_value\u001b[0m \u001b[1;33m=\u001b[0m \u001b[1;32mFalse\u001b[0m\u001b[1;33m\u001b[0m\u001b[1;33m\u001b[0m\u001b[0m\n\u001b[1;32m--> 937\u001b[1;33m             \u001b[0marr_value\u001b[0m \u001b[1;33m=\u001b[0m \u001b[0mnp\u001b[0m\u001b[1;33m.\u001b[0m\u001b[0masarray\u001b[0m\u001b[1;33m(\u001b[0m\u001b[0mvalue\u001b[0m\u001b[1;33m)\u001b[0m\u001b[1;33m\u001b[0m\u001b[1;33m\u001b[0m\u001b[0m\n\u001b[0m\u001b[0;32m    938\u001b[0m \u001b[1;33m\u001b[0m\u001b[0m\n\u001b[0;32m    939\u001b[0m         \u001b[1;32mif\u001b[0m \u001b[0mtranspose\u001b[0m\u001b[1;33m:\u001b[0m\u001b[1;33m\u001b[0m\u001b[1;33m\u001b[0m\u001b[0m\n",
            "\u001b[1;32m~\\anaconda3\\lib\\site-packages\\numpy\\core\\_asarray.py\u001b[0m in \u001b[0;36masarray\u001b[1;34m(a, dtype, order, like)\u001b[0m\n\u001b[0;32m    100\u001b[0m         \u001b[1;32mreturn\u001b[0m \u001b[0m_asarray_with_like\u001b[0m\u001b[1;33m(\u001b[0m\u001b[0ma\u001b[0m\u001b[1;33m,\u001b[0m \u001b[0mdtype\u001b[0m\u001b[1;33m=\u001b[0m\u001b[0mdtype\u001b[0m\u001b[1;33m,\u001b[0m \u001b[0morder\u001b[0m\u001b[1;33m=\u001b[0m\u001b[0morder\u001b[0m\u001b[1;33m,\u001b[0m \u001b[0mlike\u001b[0m\u001b[1;33m=\u001b[0m\u001b[0mlike\u001b[0m\u001b[1;33m)\u001b[0m\u001b[1;33m\u001b[0m\u001b[1;33m\u001b[0m\u001b[0m\n\u001b[0;32m    101\u001b[0m \u001b[1;33m\u001b[0m\u001b[0m\n\u001b[1;32m--> 102\u001b[1;33m     \u001b[1;32mreturn\u001b[0m \u001b[0marray\u001b[0m\u001b[1;33m(\u001b[0m\u001b[0ma\u001b[0m\u001b[1;33m,\u001b[0m \u001b[0mdtype\u001b[0m\u001b[1;33m,\u001b[0m \u001b[0mcopy\u001b[0m\u001b[1;33m=\u001b[0m\u001b[1;32mFalse\u001b[0m\u001b[1;33m,\u001b[0m \u001b[0morder\u001b[0m\u001b[1;33m=\u001b[0m\u001b[0morder\u001b[0m\u001b[1;33m)\u001b[0m\u001b[1;33m\u001b[0m\u001b[1;33m\u001b[0m\u001b[0m\n\u001b[0m\u001b[0;32m    103\u001b[0m \u001b[1;33m\u001b[0m\u001b[0m\n\u001b[0;32m    104\u001b[0m \u001b[1;33m\u001b[0m\u001b[0m\n",
            "\u001b[1;31mMemoryError\u001b[0m: Unable to allocate 26.8 GiB for an array with shape (59946, 59946) and data type object"
          ]
        }
      ],
      "source": [
        "# Define a function to calculate a match score\n",
        "def calculate_match_score(user1, user2):\n",
        "    score = 0\n",
        "\n",
        "    # Check if sexual orientations match\n",
        "    if user1['orientation'] == user2['orientation']:\n",
        "        score += 1\n",
        "\n",
        "    # Check if ages are within 5 years of each other\n",
        "    if abs(user1['age'] - user2['age']) <= 5:\n",
        "        score += 1\n",
        "\n",
        "    # Check if incomes are within 10,000 of each other\n",
        "    if abs(user1['income'] - user2['income']) <= 10000:\n",
        "        score += 1\n",
        "\n",
        "    return score\n",
        "\n",
        "# Create an empty DataFrame to store match scores\n",
        "match_scores = pd.DataFrame(columns=df.index, index=df.index)\n",
        "\n",
        "# Calculate match scores for each pair of users\n",
        "for i in df.index:\n",
        "    for j in df.index:\n",
        "        match_scores.loc[i, j] = calculate_match_score(df.loc[i], df.loc[j])\n"
      ]
    },
    {
      "cell_type": "code",
      "execution_count": null,
      "id": "a9dfecc4",
      "metadata": {
        "id": "a9dfecc4",
        "outputId": "952db5e0-1625-4a22-fcd5-0db37acca2f8"
      },
      "outputs": [
        {
          "ename": "MemoryError",
          "evalue": "Unable to allocate 26.8 GiB for an array with shape (59946, 59946) and data type float64",
          "output_type": "error",
          "traceback": [
            "\u001b[1;31m---------------------------------------------------------------------------\u001b[0m",
            "\u001b[1;31mMemoryError\u001b[0m                               Traceback (most recent call last)",
            "\u001b[1;32m~\\AppData\\Local\\Temp/ipykernel_1352/636205766.py\u001b[0m in \u001b[0;36m<module>\u001b[1;34m\u001b[0m\n\u001b[0;32m      9\u001b[0m \u001b[1;33m\u001b[0m\u001b[0m\n\u001b[0;32m     10\u001b[0m \u001b[1;31m# Compute the similarity matrix using cosine similarity\u001b[0m\u001b[1;33m\u001b[0m\u001b[1;33m\u001b[0m\u001b[0m\n\u001b[1;32m---> 11\u001b[1;33m \u001b[0msimilarity_matrix\u001b[0m \u001b[1;33m=\u001b[0m \u001b[0mcosine_similarity\u001b[0m\u001b[1;33m(\u001b[0m\u001b[0muser_interest_matrix\u001b[0m\u001b[1;33m)\u001b[0m\u001b[1;33m\u001b[0m\u001b[1;33m\u001b[0m\u001b[0m\n\u001b[0m\u001b[0;32m     12\u001b[0m \u001b[1;33m\u001b[0m\u001b[0m\n\u001b[0;32m     13\u001b[0m \u001b[1;31m# Get the top 5 similar users for the first user\u001b[0m\u001b[1;33m\u001b[0m\u001b[1;33m\u001b[0m\u001b[0m\n",
            "\u001b[1;32m~\\anaconda3\\lib\\site-packages\\sklearn\\metrics\\pairwise.py\u001b[0m in \u001b[0;36mcosine_similarity\u001b[1;34m(X, Y, dense_output)\u001b[0m\n\u001b[0;32m   1399\u001b[0m         \u001b[0mY_normalized\u001b[0m \u001b[1;33m=\u001b[0m \u001b[0mnormalize\u001b[0m\u001b[1;33m(\u001b[0m\u001b[0mY\u001b[0m\u001b[1;33m,\u001b[0m \u001b[0mcopy\u001b[0m\u001b[1;33m=\u001b[0m\u001b[1;32mTrue\u001b[0m\u001b[1;33m)\u001b[0m\u001b[1;33m\u001b[0m\u001b[1;33m\u001b[0m\u001b[0m\n\u001b[0;32m   1400\u001b[0m \u001b[1;33m\u001b[0m\u001b[0m\n\u001b[1;32m-> 1401\u001b[1;33m     \u001b[0mK\u001b[0m \u001b[1;33m=\u001b[0m \u001b[0msafe_sparse_dot\u001b[0m\u001b[1;33m(\u001b[0m\u001b[0mX_normalized\u001b[0m\u001b[1;33m,\u001b[0m \u001b[0mY_normalized\u001b[0m\u001b[1;33m.\u001b[0m\u001b[0mT\u001b[0m\u001b[1;33m,\u001b[0m \u001b[0mdense_output\u001b[0m\u001b[1;33m=\u001b[0m\u001b[0mdense_output\u001b[0m\u001b[1;33m)\u001b[0m\u001b[1;33m\u001b[0m\u001b[1;33m\u001b[0m\u001b[0m\n\u001b[0m\u001b[0;32m   1402\u001b[0m \u001b[1;33m\u001b[0m\u001b[0m\n\u001b[0;32m   1403\u001b[0m     \u001b[1;32mreturn\u001b[0m \u001b[0mK\u001b[0m\u001b[1;33m\u001b[0m\u001b[1;33m\u001b[0m\u001b[0m\n",
            "\u001b[1;32m~\\anaconda3\\lib\\site-packages\\sklearn\\utils\\extmath.py\u001b[0m in \u001b[0;36msafe_sparse_dot\u001b[1;34m(a, b, dense_output)\u001b[0m\n\u001b[0;32m    187\u001b[0m             \u001b[0mret\u001b[0m \u001b[1;33m=\u001b[0m \u001b[0mnp\u001b[0m\u001b[1;33m.\u001b[0m\u001b[0mdot\u001b[0m\u001b[1;33m(\u001b[0m\u001b[0ma\u001b[0m\u001b[1;33m,\u001b[0m \u001b[0mb\u001b[0m\u001b[1;33m)\u001b[0m\u001b[1;33m\u001b[0m\u001b[1;33m\u001b[0m\u001b[0m\n\u001b[0;32m    188\u001b[0m     \u001b[1;32melse\u001b[0m\u001b[1;33m:\u001b[0m\u001b[1;33m\u001b[0m\u001b[1;33m\u001b[0m\u001b[0m\n\u001b[1;32m--> 189\u001b[1;33m         \u001b[0mret\u001b[0m \u001b[1;33m=\u001b[0m \u001b[0ma\u001b[0m \u001b[1;33m@\u001b[0m \u001b[0mb\u001b[0m\u001b[1;33m\u001b[0m\u001b[1;33m\u001b[0m\u001b[0m\n\u001b[0m\u001b[0;32m    190\u001b[0m \u001b[1;33m\u001b[0m\u001b[0m\n\u001b[0;32m    191\u001b[0m     if (\n",
            "\u001b[1;31mMemoryError\u001b[0m: Unable to allocate 26.8 GiB for an array with shape (59946, 59946) and data type float64"
          ]
        }
      ],
      "source": [
        "from sklearn.metrics.pairwise import cosine_similarity\n",
        "import pandas as pd\n",
        "import numpy as np\n",
        "\n",
        "# Let's assume that 'interests' is a list of user interests\n",
        "# Convert the list of interests into a matrix of user-interest\n",
        "# Here, we're just creating a random matrix for the example\n",
        "user_interest_matrix = np.random.randint(0, 2, (len(df), 10))\n",
        "\n",
        "# Compute the similarity matrix using cosine similarity\n",
        "similarity_matrix = cosine_similarity(user_interest_matrix)\n",
        "\n",
        "# Get the top 5 similar users for the first user\n",
        "top_5_similar_users = np.argsort(similarity_matrix[0])[-6:-1]\n",
        "\n",
        "print(f'Top 5 similar users for user 0: {top_5_similar_users}')"
      ]
    },
    {
      "cell_type": "code",
      "execution_count": null,
      "id": "fbc10295",
      "metadata": {
        "id": "fbc10295",
        "outputId": "b0a2ec65-20d5-4f15-a42c-7a5960ad63dd"
      },
      "outputs": [
        {
          "ename": "NameError",
          "evalue": "name 'df' is not defined",
          "output_type": "error",
          "traceback": [
            "\u001b[1;31m---------------------------------------------------------------------------\u001b[0m",
            "\u001b[1;31mNameError\u001b[0m                                 Traceback (most recent call last)",
            "\u001b[1;32m~\\AppData\\Local\\Temp/ipykernel_19664/1932126281.py\u001b[0m in \u001b[0;36m<module>\u001b[1;34m\u001b[0m\n\u001b[0;32m      6\u001b[0m \u001b[1;33m\u001b[0m\u001b[0m\n\u001b[0;32m      7\u001b[0m \u001b[1;31m# Select features\u001b[0m\u001b[1;33m\u001b[0m\u001b[1;33m\u001b[0m\u001b[0m\n\u001b[1;32m----> 8\u001b[1;33m \u001b[0mfeatures\u001b[0m \u001b[1;33m=\u001b[0m \u001b[0mdf\u001b[0m\u001b[1;33m[\u001b[0m\u001b[1;33m[\u001b[0m\u001b[1;34m'age'\u001b[0m\u001b[1;33m,\u001b[0m \u001b[1;34m'income'\u001b[0m\u001b[1;33m,\u001b[0m\u001b[1;34m'orientation'\u001b[0m\u001b[1;33m]\u001b[0m\u001b[1;33m]\u001b[0m  \u001b[1;31m# Add more features as needed\u001b[0m\u001b[1;33m\u001b[0m\u001b[1;33m\u001b[0m\u001b[0m\n\u001b[0m\u001b[0;32m      9\u001b[0m \u001b[1;33m\u001b[0m\u001b[0m\n\u001b[0;32m     10\u001b[0m \u001b[1;31m# Preprocessing: Convert categorical variable 'orientation' into dummy/indicator variables\u001b[0m\u001b[1;33m\u001b[0m\u001b[1;33m\u001b[0m\u001b[0m\n",
            "\u001b[1;31mNameError\u001b[0m: name 'df' is not defined"
          ]
        }
      ],
      "source": [
        "# K-Means clustering\n",
        "\n",
        "import pandas as pd\n",
        "from sklearn.cluster import KMeans\n",
        "from sklearn.preprocessing import StandardScaler\n",
        "\n",
        "# Select features\n",
        "features = df[['age', 'income','orientation']]  # Add more features as needed\n",
        "\n",
        "# Preprocessing: Convert categorical variable 'orientation' into dummy/indicator variables\n",
        "features = pd.get_dummies(features)\n",
        "\n",
        "# Standardize the features\n",
        "scaler = StandardScaler()\n",
        "features_scaled = scaler.fit_transform(features)\n",
        "\n",
        "# Create a KMeans instance with 5 clusters (you can change this number as needed)\n",
        "kmeans = KMeans(n_clusters=5, random_state=42)\n",
        "\n",
        "# Fit the model\n",
        "kmeans.fit(features_scaled)\n",
        "\n",
        "# Get the cluster assignments for each data point\n",
        "clusters = kmeans.labels_"
      ]
    },
    {
      "cell_type": "code",
      "execution_count": null,
      "id": "e463a90d",
      "metadata": {
        "id": "e463a90d",
        "outputId": "4e0eca12-ffd2-4490-d1f6-d0b37d950fab"
      },
      "outputs": [
        {
          "name": "stdout",
          "output_type": "stream",
          "text": [
            "Silhouette Score: 0.13733677707895633\n"
          ]
        }
      ],
      "source": [
        "from sklearn.metrics import silhouette_score\n",
        "\n",
        "# Assume that 'clusters' are the cluster assignments of the data points\n",
        "# and 'features_scaled' is your scaled feature matrix\n",
        "silhouette_avg = silhouette_score(features_scaled, clusters)\n",
        "\n",
        "print(f\"Silhouette Score: {silhouette_avg}\")"
      ]
    },
    {
      "cell_type": "code",
      "execution_count": null,
      "id": "49752ebb",
      "metadata": {
        "id": "49752ebb"
      },
      "outputs": [],
      "source": [
        "#  A silhouette score of 0.6278100577750801 is generally considered good.\n",
        "#The silhouette score ranges from -1 to 1.\n",
        "#A score close to 1 indicates that the data points in the same cluster are close to each other and far from the data points\n",
        "#in the other clusters, which is desirable in a good clustering.\n",
        "#A score close to 0 means the clusters are overlapping, and a score close to -1 means data points are assigned to the wrong\n",
        "#clusters. So, your score of approximately 0.63 suggests that your clustering model has reasonably well-separated clusters."
      ]
    },
    {
      "cell_type": "code",
      "execution_count": null,
      "id": "a77ee9af",
      "metadata": {
        "id": "a77ee9af",
        "outputId": "54012cd7-794f-429d-8afb-4cb94009bed1"
      },
      "outputs": [
        {
          "name": "stdout",
          "output_type": "stream",
          "text": [
            "Davies-Bouldin Score: 1.3920750615462656\n"
          ]
        }
      ],
      "source": [
        "from sklearn.metrics import davies_bouldin_score\n",
        "\n",
        "# Assume that 'clusters' are the cluster assignments of the data points\n",
        "# and 'features_scaled' is your scaled feature matrix\n",
        "db_score = davies_bouldin_score(features_scaled, clusters)\n",
        "\n",
        "print(f\"Davies-Bouldin Score: {db_score}\")"
      ]
    },
    {
      "cell_type": "code",
      "execution_count": null,
      "id": "e4a89b65",
      "metadata": {
        "id": "e4a89b65"
      },
      "outputs": [],
      "source": [
        "#Yes, a Davies-Bouldin Index score of 0.42223270379859945 is generally considered good.\n",
        "#The Davies-Bouldin Index (DBI) is a metric for evaluating clustering algorithms.\n",
        "#The index is defined as the average similarity measure of each cluster with its most similar cluster, where similarity\n",
        "#is the ratio of within-cluster distances to between-cluster distances. Thus, clusters which are farther apart and less\n",
        "#dispersed will result in a better score.\n",
        "\n",
        "#The minimum score is 0, with lower values indicating better clustering. So a DBI of approximately 0.42 suggests that your\n",
        "#clustering model has reasonably well-separated clusters."
      ]
    },
    {
      "cell_type": "code",
      "execution_count": null,
      "id": "ba6615d3",
      "metadata": {
        "id": "ba6615d3"
      },
      "outputs": [],
      "source": [
        "# 👌Examples of clustering algorithms include K-means, hierarchical clustering, and DBSCAN."
      ]
    },
    {
      "cell_type": "code",
      "execution_count": null,
      "id": "0a44857d",
      "metadata": {
        "id": "0a44857d"
      },
      "outputs": [],
      "source": [
        "#👌 Model Optimization: This involves tuning the hyperparameters of your model to improve its performance. Techniques for hyperparameter tuning include grid search, random search, and Bayesian optimization"
      ]
    },
    {
      "cell_type": "code",
      "execution_count": null,
      "id": "0c66863d",
      "metadata": {
        "id": "0c66863d",
        "outputId": "d8cd17db-6c44-4dfe-e929-f53db1a1ee51"
      },
      "outputs": [
        {
          "ename": "ModuleNotFoundError",
          "evalue": "No module named 'surprise'",
          "output_type": "error",
          "traceback": [
            "\u001b[1;31m---------------------------------------------------------------------------\u001b[0m",
            "\u001b[1;31mModuleNotFoundError\u001b[0m                       Traceback (most recent call last)",
            "\u001b[1;32m~\\AppData\\Local\\Temp/ipykernel_1352/4024112586.py\u001b[0m in \u001b[0;36m<module>\u001b[1;34m\u001b[0m\n\u001b[0;32m      1\u001b[0m \u001b[1;31m# COLLABORATIVE FILTERING\u001b[0m\u001b[1;33m\u001b[0m\u001b[1;33m\u001b[0m\u001b[0m\n\u001b[0;32m      2\u001b[0m \u001b[1;33m\u001b[0m\u001b[0m\n\u001b[1;32m----> 3\u001b[1;33m \u001b[1;32mfrom\u001b[0m \u001b[0msurprise\u001b[0m \u001b[1;32mimport\u001b[0m \u001b[0mReader\u001b[0m\u001b[1;33m,\u001b[0m \u001b[0mDataset\u001b[0m\u001b[1;33m,\u001b[0m \u001b[0mKNNBasic\u001b[0m\u001b[1;33m\u001b[0m\u001b[1;33m\u001b[0m\u001b[0m\n\u001b[0m\u001b[0;32m      4\u001b[0m \u001b[1;32mfrom\u001b[0m \u001b[0msurprise\u001b[0m\u001b[1;33m.\u001b[0m\u001b[0mmodel_selection\u001b[0m \u001b[1;32mimport\u001b[0m \u001b[0mcross_validate\u001b[0m\u001b[1;33m\u001b[0m\u001b[1;33m\u001b[0m\u001b[0m\n\u001b[0;32m      5\u001b[0m \u001b[1;33m\u001b[0m\u001b[0m\n",
            "\u001b[1;31mModuleNotFoundError\u001b[0m: No module named 'surprise'"
          ]
        }
      ],
      "source": [
        "# COLLABORATIVE FILTERING - Unsucesssful\n",
        "\n",
        "from surprise import Reader, Dataset, KNNBasic\n",
        "from surprise.model_selection import cross_validate\n",
        "\n",
        "# Here we assume that the dataset has three columns: user_id, match_id, and rating\n",
        "\n",
        "# Define the rating scale. Adjust this based on your dataset\n",
        "reader = Reader(rating_scale=(1, 5))\n",
        "\n",
        "# Load the data into the surprise dataset\n",
        "df = Dataset.load_from_df(df[['orientation','age', 'income']], reader)\n",
        "\n",
        "# Use KNN for collaborative filtering\n",
        "# You can adjust the parameters as needed\n",
        "algo = KNNBasic()\n",
        "\n",
        "# Run 5-fold cross-validation and print results\n",
        "cross_validate(algo, df, measures=['RMSE', 'MAE'], cv=5, verbose=True)"
      ]
    },
    {
      "cell_type": "code",
      "execution_count": null,
      "id": "072c1367",
      "metadata": {
        "id": "072c1367",
        "outputId": "96a980a1-aa85-4da6-9650-9891404328a3"
      },
      "outputs": [
        {
          "ename": "TypeError",
          "evalue": "can only concatenate str (not \"int\") to str",
          "output_type": "error",
          "traceback": [
            "\u001b[1;31m---------------------------------------------------------------------------\u001b[0m",
            "\u001b[1;31mTypeError\u001b[0m                                 Traceback (most recent call last)",
            "\u001b[1;32m~\\anaconda3\\lib\\site-packages\\pandas\\core\\ops\\array_ops.py\u001b[0m in \u001b[0;36m_na_arithmetic_op\u001b[1;34m(left, right, op, is_cmp)\u001b[0m\n\u001b[0;32m    165\u001b[0m     \u001b[1;32mtry\u001b[0m\u001b[1;33m:\u001b[0m\u001b[1;33m\u001b[0m\u001b[1;33m\u001b[0m\u001b[0m\n\u001b[1;32m--> 166\u001b[1;33m         \u001b[0mresult\u001b[0m \u001b[1;33m=\u001b[0m \u001b[0mfunc\u001b[0m\u001b[1;33m(\u001b[0m\u001b[0mleft\u001b[0m\u001b[1;33m,\u001b[0m \u001b[0mright\u001b[0m\u001b[1;33m)\u001b[0m\u001b[1;33m\u001b[0m\u001b[1;33m\u001b[0m\u001b[0m\n\u001b[0m\u001b[0;32m    167\u001b[0m     \u001b[1;32mexcept\u001b[0m \u001b[0mTypeError\u001b[0m\u001b[1;33m:\u001b[0m\u001b[1;33m\u001b[0m\u001b[1;33m\u001b[0m\u001b[0m\n",
            "\u001b[1;32m~\\anaconda3\\lib\\site-packages\\pandas\\core\\computation\\expressions.py\u001b[0m in \u001b[0;36mevaluate\u001b[1;34m(op, a, b, use_numexpr)\u001b[0m\n\u001b[0;32m    238\u001b[0m             \u001b[1;31m# error: \"None\" not callable\u001b[0m\u001b[1;33m\u001b[0m\u001b[1;33m\u001b[0m\u001b[0m\n\u001b[1;32m--> 239\u001b[1;33m             \u001b[1;32mreturn\u001b[0m \u001b[0m_evaluate\u001b[0m\u001b[1;33m(\u001b[0m\u001b[0mop\u001b[0m\u001b[1;33m,\u001b[0m \u001b[0mop_str\u001b[0m\u001b[1;33m,\u001b[0m \u001b[0ma\u001b[0m\u001b[1;33m,\u001b[0m \u001b[0mb\u001b[0m\u001b[1;33m)\u001b[0m  \u001b[1;31m# type: ignore[misc]\u001b[0m\u001b[1;33m\u001b[0m\u001b[1;33m\u001b[0m\u001b[0m\n\u001b[0m\u001b[0;32m    240\u001b[0m     \u001b[1;32mreturn\u001b[0m \u001b[0m_evaluate_standard\u001b[0m\u001b[1;33m(\u001b[0m\u001b[0mop\u001b[0m\u001b[1;33m,\u001b[0m \u001b[0mop_str\u001b[0m\u001b[1;33m,\u001b[0m \u001b[0ma\u001b[0m\u001b[1;33m,\u001b[0m \u001b[0mb\u001b[0m\u001b[1;33m)\u001b[0m\u001b[1;33m\u001b[0m\u001b[1;33m\u001b[0m\u001b[0m\n",
            "\u001b[1;32m~\\anaconda3\\lib\\site-packages\\pandas\\core\\computation\\expressions.py\u001b[0m in \u001b[0;36m_evaluate_numexpr\u001b[1;34m(op, op_str, a, b)\u001b[0m\n\u001b[0;32m    127\u001b[0m     \u001b[1;32mif\u001b[0m \u001b[0mresult\u001b[0m \u001b[1;32mis\u001b[0m \u001b[1;32mNone\u001b[0m\u001b[1;33m:\u001b[0m\u001b[1;33m\u001b[0m\u001b[1;33m\u001b[0m\u001b[0m\n\u001b[1;32m--> 128\u001b[1;33m         \u001b[0mresult\u001b[0m \u001b[1;33m=\u001b[0m \u001b[0m_evaluate_standard\u001b[0m\u001b[1;33m(\u001b[0m\u001b[0mop\u001b[0m\u001b[1;33m,\u001b[0m \u001b[0mop_str\u001b[0m\u001b[1;33m,\u001b[0m \u001b[0ma\u001b[0m\u001b[1;33m,\u001b[0m \u001b[0mb\u001b[0m\u001b[1;33m)\u001b[0m\u001b[1;33m\u001b[0m\u001b[1;33m\u001b[0m\u001b[0m\n\u001b[0m\u001b[0;32m    129\u001b[0m \u001b[1;33m\u001b[0m\u001b[0m\n",
            "\u001b[1;32m~\\anaconda3\\lib\\site-packages\\pandas\\core\\computation\\expressions.py\u001b[0m in \u001b[0;36m_evaluate_standard\u001b[1;34m(op, op_str, a, b)\u001b[0m\n\u001b[0;32m     68\u001b[0m         \u001b[0m_store_test_result\u001b[0m\u001b[1;33m(\u001b[0m\u001b[1;32mFalse\u001b[0m\u001b[1;33m)\u001b[0m\u001b[1;33m\u001b[0m\u001b[1;33m\u001b[0m\u001b[0m\n\u001b[1;32m---> 69\u001b[1;33m     \u001b[1;32mreturn\u001b[0m \u001b[0mop\u001b[0m\u001b[1;33m(\u001b[0m\u001b[0ma\u001b[0m\u001b[1;33m,\u001b[0m \u001b[0mb\u001b[0m\u001b[1;33m)\u001b[0m\u001b[1;33m\u001b[0m\u001b[1;33m\u001b[0m\u001b[0m\n\u001b[0m\u001b[0;32m     70\u001b[0m \u001b[1;33m\u001b[0m\u001b[0m\n",
            "\u001b[1;31mTypeError\u001b[0m: can only concatenate str (not \"int\") to str",
            "\nDuring handling of the above exception, another exception occurred:\n",
            "\u001b[1;31mTypeError\u001b[0m                                 Traceback (most recent call last)",
            "\u001b[1;32m~\\AppData\\Local\\Temp/ipykernel_976/3417195818.py\u001b[0m in \u001b[0;36m<module>\u001b[1;34m\u001b[0m\n\u001b[0;32m     13\u001b[0m \u001b[1;33m\u001b[0m\u001b[0m\n\u001b[0;32m     14\u001b[0m \u001b[1;31m# Combine the features into a single string\u001b[0m\u001b[1;33m\u001b[0m\u001b[1;33m\u001b[0m\u001b[0m\n\u001b[1;32m---> 15\u001b[1;33m \u001b[0mdf\u001b[0m\u001b[1;33m[\u001b[0m\u001b[1;34m'combined_features'\u001b[0m\u001b[1;33m]\u001b[0m \u001b[1;33m=\u001b[0m \u001b[0mdf\u001b[0m\u001b[1;33m[\u001b[0m\u001b[1;34m'sex'\u001b[0m\u001b[1;33m]\u001b[0m \u001b[1;33m+\u001b[0m \u001b[1;34m' '\u001b[0m \u001b[1;33m+\u001b[0m \u001b[0mdf\u001b[0m\u001b[1;33m[\u001b[0m\u001b[1;34m'orientation'\u001b[0m\u001b[1;33m]\u001b[0m \u001b[1;33m+\u001b[0m \u001b[1;34m' '\u001b[0m \u001b[1;33m+\u001b[0m \u001b[0mdf\u001b[0m\u001b[1;33m[\u001b[0m\u001b[1;34m'age'\u001b[0m\u001b[1;33m]\u001b[0m\u001b[1;33m.\u001b[0m\u001b[0mastype\u001b[0m\u001b[1;33m(\u001b[0m\u001b[0mstr\u001b[0m\u001b[1;33m)\u001b[0m\u001b[1;33m\u001b[0m\u001b[1;33m\u001b[0m\u001b[0m\n\u001b[0m\u001b[0;32m     16\u001b[0m \u001b[1;33m\u001b[0m\u001b[0m\n\u001b[0;32m     17\u001b[0m \u001b[1;31m# Create a TfidfVectorizer object\u001b[0m\u001b[1;33m\u001b[0m\u001b[1;33m\u001b[0m\u001b[0m\n",
            "\u001b[1;32m~\\anaconda3\\lib\\site-packages\\pandas\\core\\ops\\common.py\u001b[0m in \u001b[0;36mnew_method\u001b[1;34m(self, other)\u001b[0m\n\u001b[0;32m     67\u001b[0m         \u001b[0mother\u001b[0m \u001b[1;33m=\u001b[0m \u001b[0mitem_from_zerodim\u001b[0m\u001b[1;33m(\u001b[0m\u001b[0mother\u001b[0m\u001b[1;33m)\u001b[0m\u001b[1;33m\u001b[0m\u001b[1;33m\u001b[0m\u001b[0m\n\u001b[0;32m     68\u001b[0m \u001b[1;33m\u001b[0m\u001b[0m\n\u001b[1;32m---> 69\u001b[1;33m         \u001b[1;32mreturn\u001b[0m \u001b[0mmethod\u001b[0m\u001b[1;33m(\u001b[0m\u001b[0mself\u001b[0m\u001b[1;33m,\u001b[0m \u001b[0mother\u001b[0m\u001b[1;33m)\u001b[0m\u001b[1;33m\u001b[0m\u001b[1;33m\u001b[0m\u001b[0m\n\u001b[0m\u001b[0;32m     70\u001b[0m \u001b[1;33m\u001b[0m\u001b[0m\n\u001b[0;32m     71\u001b[0m     \u001b[1;32mreturn\u001b[0m \u001b[0mnew_method\u001b[0m\u001b[1;33m\u001b[0m\u001b[1;33m\u001b[0m\u001b[0m\n",
            "\u001b[1;32m~\\anaconda3\\lib\\site-packages\\pandas\\core\\arraylike.py\u001b[0m in \u001b[0;36m__add__\u001b[1;34m(self, other)\u001b[0m\n\u001b[0;32m     90\u001b[0m     \u001b[1;33m@\u001b[0m\u001b[0munpack_zerodim_and_defer\u001b[0m\u001b[1;33m(\u001b[0m\u001b[1;34m\"__add__\"\u001b[0m\u001b[1;33m)\u001b[0m\u001b[1;33m\u001b[0m\u001b[1;33m\u001b[0m\u001b[0m\n\u001b[0;32m     91\u001b[0m     \u001b[1;32mdef\u001b[0m \u001b[0m__add__\u001b[0m\u001b[1;33m(\u001b[0m\u001b[0mself\u001b[0m\u001b[1;33m,\u001b[0m \u001b[0mother\u001b[0m\u001b[1;33m)\u001b[0m\u001b[1;33m:\u001b[0m\u001b[1;33m\u001b[0m\u001b[1;33m\u001b[0m\u001b[0m\n\u001b[1;32m---> 92\u001b[1;33m         \u001b[1;32mreturn\u001b[0m \u001b[0mself\u001b[0m\u001b[1;33m.\u001b[0m\u001b[0m_arith_method\u001b[0m\u001b[1;33m(\u001b[0m\u001b[0mother\u001b[0m\u001b[1;33m,\u001b[0m \u001b[0moperator\u001b[0m\u001b[1;33m.\u001b[0m\u001b[0madd\u001b[0m\u001b[1;33m)\u001b[0m\u001b[1;33m\u001b[0m\u001b[1;33m\u001b[0m\u001b[0m\n\u001b[0m\u001b[0;32m     93\u001b[0m \u001b[1;33m\u001b[0m\u001b[0m\n\u001b[0;32m     94\u001b[0m     \u001b[1;33m@\u001b[0m\u001b[0munpack_zerodim_and_defer\u001b[0m\u001b[1;33m(\u001b[0m\u001b[1;34m\"__radd__\"\u001b[0m\u001b[1;33m)\u001b[0m\u001b[1;33m\u001b[0m\u001b[1;33m\u001b[0m\u001b[0m\n",
            "\u001b[1;32m~\\anaconda3\\lib\\site-packages\\pandas\\core\\series.py\u001b[0m in \u001b[0;36m_arith_method\u001b[1;34m(self, other, op)\u001b[0m\n\u001b[0;32m   5524\u001b[0m \u001b[1;33m\u001b[0m\u001b[0m\n\u001b[0;32m   5525\u001b[0m         \u001b[1;32mwith\u001b[0m \u001b[0mnp\u001b[0m\u001b[1;33m.\u001b[0m\u001b[0merrstate\u001b[0m\u001b[1;33m(\u001b[0m\u001b[0mall\u001b[0m\u001b[1;33m=\u001b[0m\u001b[1;34m\"ignore\"\u001b[0m\u001b[1;33m)\u001b[0m\u001b[1;33m:\u001b[0m\u001b[1;33m\u001b[0m\u001b[1;33m\u001b[0m\u001b[0m\n\u001b[1;32m-> 5526\u001b[1;33m             \u001b[0mresult\u001b[0m \u001b[1;33m=\u001b[0m \u001b[0mops\u001b[0m\u001b[1;33m.\u001b[0m\u001b[0marithmetic_op\u001b[0m\u001b[1;33m(\u001b[0m\u001b[0mlvalues\u001b[0m\u001b[1;33m,\u001b[0m \u001b[0mrvalues\u001b[0m\u001b[1;33m,\u001b[0m \u001b[0mop\u001b[0m\u001b[1;33m)\u001b[0m\u001b[1;33m\u001b[0m\u001b[1;33m\u001b[0m\u001b[0m\n\u001b[0m\u001b[0;32m   5527\u001b[0m \u001b[1;33m\u001b[0m\u001b[0m\n\u001b[0;32m   5528\u001b[0m         \u001b[1;32mreturn\u001b[0m \u001b[0mself\u001b[0m\u001b[1;33m.\u001b[0m\u001b[0m_construct_result\u001b[0m\u001b[1;33m(\u001b[0m\u001b[0mresult\u001b[0m\u001b[1;33m,\u001b[0m \u001b[0mname\u001b[0m\u001b[1;33m=\u001b[0m\u001b[0mres_name\u001b[0m\u001b[1;33m)\u001b[0m\u001b[1;33m\u001b[0m\u001b[1;33m\u001b[0m\u001b[0m\n",
            "\u001b[1;32m~\\anaconda3\\lib\\site-packages\\pandas\\core\\ops\\array_ops.py\u001b[0m in \u001b[0;36marithmetic_op\u001b[1;34m(left, right, op)\u001b[0m\n\u001b[0;32m    222\u001b[0m         \u001b[0m_bool_arith_check\u001b[0m\u001b[1;33m(\u001b[0m\u001b[0mop\u001b[0m\u001b[1;33m,\u001b[0m \u001b[0mleft\u001b[0m\u001b[1;33m,\u001b[0m \u001b[0mright\u001b[0m\u001b[1;33m)\u001b[0m\u001b[1;33m\u001b[0m\u001b[1;33m\u001b[0m\u001b[0m\n\u001b[0;32m    223\u001b[0m \u001b[1;33m\u001b[0m\u001b[0m\n\u001b[1;32m--> 224\u001b[1;33m         \u001b[0mres_values\u001b[0m \u001b[1;33m=\u001b[0m \u001b[0m_na_arithmetic_op\u001b[0m\u001b[1;33m(\u001b[0m\u001b[0mleft\u001b[0m\u001b[1;33m,\u001b[0m \u001b[0mright\u001b[0m\u001b[1;33m,\u001b[0m \u001b[0mop\u001b[0m\u001b[1;33m)\u001b[0m\u001b[1;33m\u001b[0m\u001b[1;33m\u001b[0m\u001b[0m\n\u001b[0m\u001b[0;32m    225\u001b[0m \u001b[1;33m\u001b[0m\u001b[0m\n\u001b[0;32m    226\u001b[0m     \u001b[1;32mreturn\u001b[0m \u001b[0mres_values\u001b[0m\u001b[1;33m\u001b[0m\u001b[1;33m\u001b[0m\u001b[0m\n",
            "\u001b[1;32m~\\anaconda3\\lib\\site-packages\\pandas\\core\\ops\\array_ops.py\u001b[0m in \u001b[0;36m_na_arithmetic_op\u001b[1;34m(left, right, op, is_cmp)\u001b[0m\n\u001b[0;32m    171\u001b[0m             \u001b[1;31m# Don't do this for comparisons, as that will handle complex numbers\u001b[0m\u001b[1;33m\u001b[0m\u001b[1;33m\u001b[0m\u001b[0m\n\u001b[0;32m    172\u001b[0m             \u001b[1;31m#  incorrectly, see GH#32047\u001b[0m\u001b[1;33m\u001b[0m\u001b[1;33m\u001b[0m\u001b[0m\n\u001b[1;32m--> 173\u001b[1;33m             \u001b[0mresult\u001b[0m \u001b[1;33m=\u001b[0m \u001b[0m_masked_arith_op\u001b[0m\u001b[1;33m(\u001b[0m\u001b[0mleft\u001b[0m\u001b[1;33m,\u001b[0m \u001b[0mright\u001b[0m\u001b[1;33m,\u001b[0m \u001b[0mop\u001b[0m\u001b[1;33m)\u001b[0m\u001b[1;33m\u001b[0m\u001b[1;33m\u001b[0m\u001b[0m\n\u001b[0m\u001b[0;32m    174\u001b[0m         \u001b[1;32melse\u001b[0m\u001b[1;33m:\u001b[0m\u001b[1;33m\u001b[0m\u001b[1;33m\u001b[0m\u001b[0m\n\u001b[0;32m    175\u001b[0m             \u001b[1;32mraise\u001b[0m\u001b[1;33m\u001b[0m\u001b[1;33m\u001b[0m\u001b[0m\n",
            "\u001b[1;32m~\\anaconda3\\lib\\site-packages\\pandas\\core\\ops\\array_ops.py\u001b[0m in \u001b[0;36m_masked_arith_op\u001b[1;34m(x, y, op)\u001b[0m\n\u001b[0;32m    110\u001b[0m         \u001b[1;31m# See GH#5284, GH#5035, GH#19448 for historical reference\u001b[0m\u001b[1;33m\u001b[0m\u001b[1;33m\u001b[0m\u001b[0m\n\u001b[0;32m    111\u001b[0m         \u001b[1;32mif\u001b[0m \u001b[0mmask\u001b[0m\u001b[1;33m.\u001b[0m\u001b[0many\u001b[0m\u001b[1;33m(\u001b[0m\u001b[1;33m)\u001b[0m\u001b[1;33m:\u001b[0m\u001b[1;33m\u001b[0m\u001b[1;33m\u001b[0m\u001b[0m\n\u001b[1;32m--> 112\u001b[1;33m             \u001b[0mresult\u001b[0m\u001b[1;33m[\u001b[0m\u001b[0mmask\u001b[0m\u001b[1;33m]\u001b[0m \u001b[1;33m=\u001b[0m \u001b[0mop\u001b[0m\u001b[1;33m(\u001b[0m\u001b[0mxrav\u001b[0m\u001b[1;33m[\u001b[0m\u001b[0mmask\u001b[0m\u001b[1;33m]\u001b[0m\u001b[1;33m,\u001b[0m \u001b[0myrav\u001b[0m\u001b[1;33m[\u001b[0m\u001b[0mmask\u001b[0m\u001b[1;33m]\u001b[0m\u001b[1;33m)\u001b[0m\u001b[1;33m\u001b[0m\u001b[1;33m\u001b[0m\u001b[0m\n\u001b[0m\u001b[0;32m    113\u001b[0m \u001b[1;33m\u001b[0m\u001b[0m\n\u001b[0;32m    114\u001b[0m     \u001b[1;32melse\u001b[0m\u001b[1;33m:\u001b[0m\u001b[1;33m\u001b[0m\u001b[1;33m\u001b[0m\u001b[0m\n",
            "\u001b[1;31mTypeError\u001b[0m: can only concatenate str (not \"int\") to str"
          ]
        }
      ],
      "source": [
        "# CONTENT BASED FILTERING\n",
        "\n",
        "# Import necessary libraries\n",
        "import pandas as pd\n",
        "from sklearn.feature_extraction.text import TfidfVectorizer\n",
        "from sklearn.metrics.pairwise import cosine_similarity\n",
        "\n",
        "\n",
        "# Select only the columns of interest\n",
        "df = df[['age', 'sex', 'orientation', 'income']]\n",
        "\n",
        "# Handle missing values and convert categorical variables into numerical ones if necessary\n",
        "\n",
        "# Combine the features into a single string\n",
        "df['combined_features'] = df['sex'] + ' ' + df['orientation'] + ' ' + df['age'].astype(str)\n",
        "\n",
        "# Create a TfidfVectorizer object\n",
        "vectorizer = TfidfVectorizer(stop_words='english')\n",
        "\n",
        "# Convert the combined features into a matrix of TF-IDF features\n",
        "tfidf_matrix = vectorizer.fit_transform(df['combined_features'])\n",
        "\n",
        "# Calculate the cosine similarity between each pair of profiles\n",
        "cosine_sim = cosine_similarity(tfidf_matrix, tfidf_matrix)\n",
        "\n",
        "# Now you can use this cosine similarity matrix to recommend similar profiles to a given user"
      ]
    },
    {
      "cell_type": "code",
      "execution_count": null,
      "id": "656f4b04",
      "metadata": {
        "id": "656f4b04",
        "outputId": "a7d6947c-6cce-4854-830d-7729a510de6c"
      },
      "outputs": [
        {
          "ename": "NameError",
          "evalue": "name 'cosine_sim' is not defined",
          "output_type": "error",
          "traceback": [
            "\u001b[1;31m---------------------------------------------------------------------------\u001b[0m",
            "\u001b[1;31mNameError\u001b[0m                                 Traceback (most recent call last)",
            "\u001b[1;32m~\\AppData\\Local\\Temp/ipykernel_1352/1670775283.py\u001b[0m in \u001b[0;36m<module>\u001b[1;34m\u001b[0m\n\u001b[0;32m      6\u001b[0m \u001b[1;33m\u001b[0m\u001b[0m\n\u001b[0;32m      7\u001b[0m \u001b[1;31m# Get the cosine similarities for this user\u001b[0m\u001b[1;33m\u001b[0m\u001b[1;33m\u001b[0m\u001b[0m\n\u001b[1;32m----> 8\u001b[1;33m \u001b[0mcosine_similarities\u001b[0m \u001b[1;33m=\u001b[0m \u001b[0mcosine_sim\u001b[0m\u001b[1;33m[\u001b[0m\u001b[0muser_index_of_interest\u001b[0m\u001b[1;33m]\u001b[0m\u001b[1;33m\u001b[0m\u001b[1;33m\u001b[0m\u001b[0m\n\u001b[0m\u001b[0;32m      9\u001b[0m \u001b[1;33m\u001b[0m\u001b[0m\n\u001b[0;32m     10\u001b[0m \u001b[1;31m# Get the indices of the top 10 most similar users (you might want to adjust this number)\u001b[0m\u001b[1;33m\u001b[0m\u001b[1;33m\u001b[0m\u001b[0m\n",
            "\u001b[1;31mNameError\u001b[0m: name 'cosine_sim' is not defined"
          ]
        }
      ],
      "source": [
        "# cosine similarity matrix to recommend similar profiles to a given user\n",
        "import numpy as np\n",
        "\n",
        "# We arbitrarily choose the first user (index 0)\n",
        "user_index_of_interest = 0\n",
        "\n",
        "# Get the cosine similarities for this user\n",
        "cosine_similarities = cosine_sim[user_index_of_interest]\n",
        "\n",
        "# Get the indices of the top 10 most similar users (you might want to adjust this number)\n",
        "# We use [::-1] to reverse the array because argsort returns indices of smallest items first\n",
        "top_10_indices = np.argsort(cosine_similarities)[::-1][:10]\n",
        "\n",
        "# Print the indices of the top 10 most similar users\n",
        "print(top_10_indices)"
      ]
    },
    {
      "cell_type": "code",
      "execution_count": null,
      "id": "7b98f1c3",
      "metadata": {
        "id": "7b98f1c3"
      },
      "outputs": [],
      "source": []
    },
    {
      "cell_type": "code",
      "execution_count": null,
      "id": "88b9ad03",
      "metadata": {
        "id": "88b9ad03"
      },
      "outputs": [],
      "source": []
    }
  ],
  "metadata": {
    "kernelspec": {
      "display_name": "Python 3 (ipykernel)",
      "language": "python",
      "name": "python3"
    },
    "language_info": {
      "codemirror_mode": {
        "name": "ipython",
        "version": 3
      },
      "file_extension": ".py",
      "mimetype": "text/x-python",
      "name": "python",
      "nbconvert_exporter": "python",
      "pygments_lexer": "ipython3",
      "version": "3.9.7"
    },
    "colab": {
      "provenance": [],
      "include_colab_link": true
    }
  },
  "nbformat": 4,
  "nbformat_minor": 5
}